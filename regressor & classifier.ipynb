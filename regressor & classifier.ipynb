{
 "cells": [
  {
   "cell_type": "code",
   "execution_count": 5,
   "id": "af46b118",
   "metadata": {},
   "outputs": [],
   "source": [
    "import numpy as np \n",
    "import pandas as pd\n",
    "import matplotlib.pyplot as plt\n",
    "import seaborn as sns\n",
    "\n",
    "sns.set_style('darkgrid')\n",
    "import json\n"
   ]
  },
  {
   "cell_type": "code",
   "execution_count": 6,
   "id": "a2c47698",
   "metadata": {},
   "outputs": [],
   "source": [
    "df = pd.read_json('../data/yelp_academic_dataset_business.json', lines=True)\n",
    "#df2 = pd.read_json('../data/yelp_academic_dataset_review.json', lines=True)"
   ]
  },
  {
   "cell_type": "code",
   "execution_count": null,
   "id": "863143a2",
   "metadata": {},
   "outputs": [],
   "source": [
    "#df2.info()"
   ]
  },
  {
   "cell_type": "code",
   "execution_count": 7,
   "id": "d4dff62b",
   "metadata": {},
   "outputs": [],
   "source": [
    "df_res=df[df['categories'].str.contains(\"Restaurants\" ,na = False)]\n",
    "df_res1=df_res[df_res['is_open']==1]"
   ]
  },
  {
   "cell_type": "code",
   "execution_count": 6,
   "id": "9deb638d",
   "metadata": {},
   "outputs": [],
   "source": []
  },
  {
   "cell_type": "code",
   "execution_count": 14,
   "id": "bd7802d5",
   "metadata": {},
   "outputs": [
    {
     "data": {
      "text/html": [
       "<div>\n",
       "<style scoped>\n",
       "    .dataframe tbody tr th:only-of-type {\n",
       "        vertical-align: middle;\n",
       "    }\n",
       "\n",
       "    .dataframe tbody tr th {\n",
       "        vertical-align: top;\n",
       "    }\n",
       "\n",
       "    .dataframe thead th {\n",
       "        text-align: right;\n",
       "    }\n",
       "</style>\n",
       "<table border=\"1\" class=\"dataframe\">\n",
       "  <thead>\n",
       "    <tr style=\"text-align: right;\">\n",
       "      <th></th>\n",
       "      <th>review_id</th>\n",
       "      <th>user_id</th>\n",
       "      <th>business_id</th>\n",
       "      <th>stars_x</th>\n",
       "      <th>useful</th>\n",
       "      <th>funny</th>\n",
       "      <th>cool</th>\n",
       "      <th>text</th>\n",
       "      <th>date</th>\n",
       "      <th>name</th>\n",
       "      <th>...</th>\n",
       "      <th>state</th>\n",
       "      <th>postal_code</th>\n",
       "      <th>latitude</th>\n",
       "      <th>longitude</th>\n",
       "      <th>stars_y</th>\n",
       "      <th>review_count</th>\n",
       "      <th>is_open</th>\n",
       "      <th>attributes</th>\n",
       "      <th>categories</th>\n",
       "      <th>hours</th>\n",
       "    </tr>\n",
       "  </thead>\n",
       "  <tbody>\n",
       "    <tr>\n",
       "      <th>0</th>\n",
       "      <td>KU_O5udG6zpxOg-VcAEodg</td>\n",
       "      <td>mh_-eMZ6K5RLWhZyISBhwA</td>\n",
       "      <td>XQfwVwDr-v0ZS3_CbbE5Xw</td>\n",
       "      <td>3</td>\n",
       "      <td>0</td>\n",
       "      <td>0</td>\n",
       "      <td>0</td>\n",
       "      <td>If you decide to eat here, just be aware it is...</td>\n",
       "      <td>2018-07-07 22:09:11</td>\n",
       "      <td>Turning Point of North Wales</td>\n",
       "      <td>...</td>\n",
       "      <td>PA</td>\n",
       "      <td>19454</td>\n",
       "      <td>40.210196</td>\n",
       "      <td>-75.223639</td>\n",
       "      <td>3.0</td>\n",
       "      <td>169</td>\n",
       "      <td>1</td>\n",
       "      <td>{'NoiseLevel': 'u'average'', 'HasTV': 'False',...</td>\n",
       "      <td>Restaurants, Breakfast &amp; Brunch, Food, Juice B...</td>\n",
       "      <td>{'Monday': '7:30-15:0', 'Tuesday': '7:30-15:0'...</td>\n",
       "    </tr>\n",
       "    <tr>\n",
       "      <th>1</th>\n",
       "      <td>VJxlBnJmCDIy8DFG0kjSow</td>\n",
       "      <td>Iaee7y6zdSB3B-kRCo4z1w</td>\n",
       "      <td>XQfwVwDr-v0ZS3_CbbE5Xw</td>\n",
       "      <td>2</td>\n",
       "      <td>0</td>\n",
       "      <td>0</td>\n",
       "      <td>0</td>\n",
       "      <td>This is the second time we tried turning point...</td>\n",
       "      <td>2017-05-13 17:06:55</td>\n",
       "      <td>Turning Point of North Wales</td>\n",
       "      <td>...</td>\n",
       "      <td>PA</td>\n",
       "      <td>19454</td>\n",
       "      <td>40.210196</td>\n",
       "      <td>-75.223639</td>\n",
       "      <td>3.0</td>\n",
       "      <td>169</td>\n",
       "      <td>1</td>\n",
       "      <td>{'NoiseLevel': 'u'average'', 'HasTV': 'False',...</td>\n",
       "      <td>Restaurants, Breakfast &amp; Brunch, Food, Juice B...</td>\n",
       "      <td>{'Monday': '7:30-15:0', 'Tuesday': '7:30-15:0'...</td>\n",
       "    </tr>\n",
       "    <tr>\n",
       "      <th>2</th>\n",
       "      <td>S6pQZQocMB1WHMjTRbt77A</td>\n",
       "      <td>ejFxLGqQcWNLdNByJlIhnQ</td>\n",
       "      <td>XQfwVwDr-v0ZS3_CbbE5Xw</td>\n",
       "      <td>4</td>\n",
       "      <td>2</td>\n",
       "      <td>0</td>\n",
       "      <td>1</td>\n",
       "      <td>The place is cute and the staff was very frien...</td>\n",
       "      <td>2017-08-08 00:58:18</td>\n",
       "      <td>Turning Point of North Wales</td>\n",
       "      <td>...</td>\n",
       "      <td>PA</td>\n",
       "      <td>19454</td>\n",
       "      <td>40.210196</td>\n",
       "      <td>-75.223639</td>\n",
       "      <td>3.0</td>\n",
       "      <td>169</td>\n",
       "      <td>1</td>\n",
       "      <td>{'NoiseLevel': 'u'average'', 'HasTV': 'False',...</td>\n",
       "      <td>Restaurants, Breakfast &amp; Brunch, Food, Juice B...</td>\n",
       "      <td>{'Monday': '7:30-15:0', 'Tuesday': '7:30-15:0'...</td>\n",
       "    </tr>\n",
       "    <tr>\n",
       "      <th>3</th>\n",
       "      <td>WqgTKVqWVHDHjnjEsBvUgg</td>\n",
       "      <td>f7xa0p_1V9lx53iIGN5Sug</td>\n",
       "      <td>XQfwVwDr-v0ZS3_CbbE5Xw</td>\n",
       "      <td>3</td>\n",
       "      <td>0</td>\n",
       "      <td>0</td>\n",
       "      <td>0</td>\n",
       "      <td>We came on a Saturday morning after waiting a ...</td>\n",
       "      <td>2017-11-19 02:20:23</td>\n",
       "      <td>Turning Point of North Wales</td>\n",
       "      <td>...</td>\n",
       "      <td>PA</td>\n",
       "      <td>19454</td>\n",
       "      <td>40.210196</td>\n",
       "      <td>-75.223639</td>\n",
       "      <td>3.0</td>\n",
       "      <td>169</td>\n",
       "      <td>1</td>\n",
       "      <td>{'NoiseLevel': 'u'average'', 'HasTV': 'False',...</td>\n",
       "      <td>Restaurants, Breakfast &amp; Brunch, Food, Juice B...</td>\n",
       "      <td>{'Monday': '7:30-15:0', 'Tuesday': '7:30-15:0'...</td>\n",
       "    </tr>\n",
       "    <tr>\n",
       "      <th>4</th>\n",
       "      <td>M0wzFFb7pefOPcxeRVbLag</td>\n",
       "      <td>dCooFVCk8M1nVaQqcfTL3Q</td>\n",
       "      <td>XQfwVwDr-v0ZS3_CbbE5Xw</td>\n",
       "      <td>2</td>\n",
       "      <td>0</td>\n",
       "      <td>0</td>\n",
       "      <td>0</td>\n",
       "      <td>Mediocre at best. The decor is very nice, and ...</td>\n",
       "      <td>2017-09-09 17:49:47</td>\n",
       "      <td>Turning Point of North Wales</td>\n",
       "      <td>...</td>\n",
       "      <td>PA</td>\n",
       "      <td>19454</td>\n",
       "      <td>40.210196</td>\n",
       "      <td>-75.223639</td>\n",
       "      <td>3.0</td>\n",
       "      <td>169</td>\n",
       "      <td>1</td>\n",
       "      <td>{'NoiseLevel': 'u'average'', 'HasTV': 'False',...</td>\n",
       "      <td>Restaurants, Breakfast &amp; Brunch, Food, Juice B...</td>\n",
       "      <td>{'Monday': '7:30-15:0', 'Tuesday': '7:30-15:0'...</td>\n",
       "    </tr>\n",
       "    <tr>\n",
       "      <th>...</th>\n",
       "      <td>...</td>\n",
       "      <td>...</td>\n",
       "      <td>...</td>\n",
       "      <td>...</td>\n",
       "      <td>...</td>\n",
       "      <td>...</td>\n",
       "      <td>...</td>\n",
       "      <td>...</td>\n",
       "      <td>...</td>\n",
       "      <td>...</td>\n",
       "      <td>...</td>\n",
       "      <td>...</td>\n",
       "      <td>...</td>\n",
       "      <td>...</td>\n",
       "      <td>...</td>\n",
       "      <td>...</td>\n",
       "      <td>...</td>\n",
       "      <td>...</td>\n",
       "      <td>...</td>\n",
       "      <td>...</td>\n",
       "      <td>...</td>\n",
       "    </tr>\n",
       "    <tr>\n",
       "      <th>170</th>\n",
       "      <td>zHrDzUGa-nhyEzsYCUb76Q</td>\n",
       "      <td>FfAh-F8LITLfvfpnx5xukQ</td>\n",
       "      <td>XQfwVwDr-v0ZS3_CbbE5Xw</td>\n",
       "      <td>5</td>\n",
       "      <td>0</td>\n",
       "      <td>0</td>\n",
       "      <td>0</td>\n",
       "      <td>Great service and friendly staff. Amazing food...</td>\n",
       "      <td>2021-12-05 17:18:28</td>\n",
       "      <td>Turning Point of North Wales</td>\n",
       "      <td>...</td>\n",
       "      <td>PA</td>\n",
       "      <td>19454</td>\n",
       "      <td>40.210196</td>\n",
       "      <td>-75.223639</td>\n",
       "      <td>3.0</td>\n",
       "      <td>169</td>\n",
       "      <td>1</td>\n",
       "      <td>{'NoiseLevel': 'u'average'', 'HasTV': 'False',...</td>\n",
       "      <td>Restaurants, Breakfast &amp; Brunch, Food, Juice B...</td>\n",
       "      <td>{'Monday': '7:30-15:0', 'Tuesday': '7:30-15:0'...</td>\n",
       "    </tr>\n",
       "    <tr>\n",
       "      <th>171</th>\n",
       "      <td>Shl16c3b9FyAPaeAH3Rs_Q</td>\n",
       "      <td>TA4u_4jVl1Axgy9JTJrorw</td>\n",
       "      <td>XQfwVwDr-v0ZS3_CbbE5Xw</td>\n",
       "      <td>3</td>\n",
       "      <td>0</td>\n",
       "      <td>0</td>\n",
       "      <td>0</td>\n",
       "      <td>Food was good and staff is nice but service is...</td>\n",
       "      <td>2018-01-07 16:41:56</td>\n",
       "      <td>Turning Point of North Wales</td>\n",
       "      <td>...</td>\n",
       "      <td>PA</td>\n",
       "      <td>19454</td>\n",
       "      <td>40.210196</td>\n",
       "      <td>-75.223639</td>\n",
       "      <td>3.0</td>\n",
       "      <td>169</td>\n",
       "      <td>1</td>\n",
       "      <td>{'NoiseLevel': 'u'average'', 'HasTV': 'False',...</td>\n",
       "      <td>Restaurants, Breakfast &amp; Brunch, Food, Juice B...</td>\n",
       "      <td>{'Monday': '7:30-15:0', 'Tuesday': '7:30-15:0'...</td>\n",
       "    </tr>\n",
       "    <tr>\n",
       "      <th>172</th>\n",
       "      <td>sAuY75syZxToSIyXCBuycA</td>\n",
       "      <td>bJgfxs6_h5Tcp5anvdTtYQ</td>\n",
       "      <td>XQfwVwDr-v0ZS3_CbbE5Xw</td>\n",
       "      <td>4</td>\n",
       "      <td>0</td>\n",
       "      <td>1</td>\n",
       "      <td>0</td>\n",
       "      <td>\"When I dip you dip we dip!\"\\n\\n\"You put yours...</td>\n",
       "      <td>2019-01-01 19:42:23</td>\n",
       "      <td>Turning Point of North Wales</td>\n",
       "      <td>...</td>\n",
       "      <td>PA</td>\n",
       "      <td>19454</td>\n",
       "      <td>40.210196</td>\n",
       "      <td>-75.223639</td>\n",
       "      <td>3.0</td>\n",
       "      <td>169</td>\n",
       "      <td>1</td>\n",
       "      <td>{'NoiseLevel': 'u'average'', 'HasTV': 'False',...</td>\n",
       "      <td>Restaurants, Breakfast &amp; Brunch, Food, Juice B...</td>\n",
       "      <td>{'Monday': '7:30-15:0', 'Tuesday': '7:30-15:0'...</td>\n",
       "    </tr>\n",
       "    <tr>\n",
       "      <th>173</th>\n",
       "      <td>2haIzJGK2TIOm8L59hBKsg</td>\n",
       "      <td>SDkGatUfx1KfKnwXKfkTUw</td>\n",
       "      <td>XQfwVwDr-v0ZS3_CbbE5Xw</td>\n",
       "      <td>4</td>\n",
       "      <td>0</td>\n",
       "      <td>0</td>\n",
       "      <td>0</td>\n",
       "      <td>I came here on a Sunday around 11, hoping that...</td>\n",
       "      <td>2020-02-21 12:36:51</td>\n",
       "      <td>Turning Point of North Wales</td>\n",
       "      <td>...</td>\n",
       "      <td>PA</td>\n",
       "      <td>19454</td>\n",
       "      <td>40.210196</td>\n",
       "      <td>-75.223639</td>\n",
       "      <td>3.0</td>\n",
       "      <td>169</td>\n",
       "      <td>1</td>\n",
       "      <td>{'NoiseLevel': 'u'average'', 'HasTV': 'False',...</td>\n",
       "      <td>Restaurants, Breakfast &amp; Brunch, Food, Juice B...</td>\n",
       "      <td>{'Monday': '7:30-15:0', 'Tuesday': '7:30-15:0'...</td>\n",
       "    </tr>\n",
       "    <tr>\n",
       "      <th>174</th>\n",
       "      <td>lf-9YaBhlfTMz-qlVKZm4g</td>\n",
       "      <td>ENZbh_u6v1vT_zTUW3vZGw</td>\n",
       "      <td>XQfwVwDr-v0ZS3_CbbE5Xw</td>\n",
       "      <td>2</td>\n",
       "      <td>1</td>\n",
       "      <td>0</td>\n",
       "      <td>0</td>\n",
       "      <td>So I've been to Turning Point now three times ...</td>\n",
       "      <td>2019-03-23 18:36:29</td>\n",
       "      <td>Turning Point of North Wales</td>\n",
       "      <td>...</td>\n",
       "      <td>PA</td>\n",
       "      <td>19454</td>\n",
       "      <td>40.210196</td>\n",
       "      <td>-75.223639</td>\n",
       "      <td>3.0</td>\n",
       "      <td>169</td>\n",
       "      <td>1</td>\n",
       "      <td>{'NoiseLevel': 'u'average'', 'HasTV': 'False',...</td>\n",
       "      <td>Restaurants, Breakfast &amp; Brunch, Food, Juice B...</td>\n",
       "      <td>{'Monday': '7:30-15:0', 'Tuesday': '7:30-15:0'...</td>\n",
       "    </tr>\n",
       "  </tbody>\n",
       "</table>\n",
       "<p>175 rows × 22 columns</p>\n",
       "</div>"
      ],
      "text/plain": [
       "                  review_id                 user_id             business_id  \\\n",
       "0    KU_O5udG6zpxOg-VcAEodg  mh_-eMZ6K5RLWhZyISBhwA  XQfwVwDr-v0ZS3_CbbE5Xw   \n",
       "1    VJxlBnJmCDIy8DFG0kjSow  Iaee7y6zdSB3B-kRCo4z1w  XQfwVwDr-v0ZS3_CbbE5Xw   \n",
       "2    S6pQZQocMB1WHMjTRbt77A  ejFxLGqQcWNLdNByJlIhnQ  XQfwVwDr-v0ZS3_CbbE5Xw   \n",
       "3    WqgTKVqWVHDHjnjEsBvUgg  f7xa0p_1V9lx53iIGN5Sug  XQfwVwDr-v0ZS3_CbbE5Xw   \n",
       "4    M0wzFFb7pefOPcxeRVbLag  dCooFVCk8M1nVaQqcfTL3Q  XQfwVwDr-v0ZS3_CbbE5Xw   \n",
       "..                      ...                     ...                     ...   \n",
       "170  zHrDzUGa-nhyEzsYCUb76Q  FfAh-F8LITLfvfpnx5xukQ  XQfwVwDr-v0ZS3_CbbE5Xw   \n",
       "171  Shl16c3b9FyAPaeAH3Rs_Q  TA4u_4jVl1Axgy9JTJrorw  XQfwVwDr-v0ZS3_CbbE5Xw   \n",
       "172  sAuY75syZxToSIyXCBuycA  bJgfxs6_h5Tcp5anvdTtYQ  XQfwVwDr-v0ZS3_CbbE5Xw   \n",
       "173  2haIzJGK2TIOm8L59hBKsg  SDkGatUfx1KfKnwXKfkTUw  XQfwVwDr-v0ZS3_CbbE5Xw   \n",
       "174  lf-9YaBhlfTMz-qlVKZm4g  ENZbh_u6v1vT_zTUW3vZGw  XQfwVwDr-v0ZS3_CbbE5Xw   \n",
       "\n",
       "     stars_x  useful  funny  cool  \\\n",
       "0          3       0      0     0   \n",
       "1          2       0      0     0   \n",
       "2          4       2      0     1   \n",
       "3          3       0      0     0   \n",
       "4          2       0      0     0   \n",
       "..       ...     ...    ...   ...   \n",
       "170        5       0      0     0   \n",
       "171        3       0      0     0   \n",
       "172        4       0      1     0   \n",
       "173        4       0      0     0   \n",
       "174        2       1      0     0   \n",
       "\n",
       "                                                  text                date  \\\n",
       "0    If you decide to eat here, just be aware it is... 2018-07-07 22:09:11   \n",
       "1    This is the second time we tried turning point... 2017-05-13 17:06:55   \n",
       "2    The place is cute and the staff was very frien... 2017-08-08 00:58:18   \n",
       "3    We came on a Saturday morning after waiting a ... 2017-11-19 02:20:23   \n",
       "4    Mediocre at best. The decor is very nice, and ... 2017-09-09 17:49:47   \n",
       "..                                                 ...                 ...   \n",
       "170  Great service and friendly staff. Amazing food... 2021-12-05 17:18:28   \n",
       "171  Food was good and staff is nice but service is... 2018-01-07 16:41:56   \n",
       "172  \"When I dip you dip we dip!\"\\n\\n\"You put yours... 2019-01-01 19:42:23   \n",
       "173  I came here on a Sunday around 11, hoping that... 2020-02-21 12:36:51   \n",
       "174  So I've been to Turning Point now three times ... 2019-03-23 18:36:29   \n",
       "\n",
       "                             name  ... state postal_code   latitude  \\\n",
       "0    Turning Point of North Wales  ...    PA       19454  40.210196   \n",
       "1    Turning Point of North Wales  ...    PA       19454  40.210196   \n",
       "2    Turning Point of North Wales  ...    PA       19454  40.210196   \n",
       "3    Turning Point of North Wales  ...    PA       19454  40.210196   \n",
       "4    Turning Point of North Wales  ...    PA       19454  40.210196   \n",
       "..                            ...  ...   ...         ...        ...   \n",
       "170  Turning Point of North Wales  ...    PA       19454  40.210196   \n",
       "171  Turning Point of North Wales  ...    PA       19454  40.210196   \n",
       "172  Turning Point of North Wales  ...    PA       19454  40.210196   \n",
       "173  Turning Point of North Wales  ...    PA       19454  40.210196   \n",
       "174  Turning Point of North Wales  ...    PA       19454  40.210196   \n",
       "\n",
       "     longitude  stars_y  review_count  is_open  \\\n",
       "0   -75.223639      3.0           169        1   \n",
       "1   -75.223639      3.0           169        1   \n",
       "2   -75.223639      3.0           169        1   \n",
       "3   -75.223639      3.0           169        1   \n",
       "4   -75.223639      3.0           169        1   \n",
       "..         ...      ...           ...      ...   \n",
       "170 -75.223639      3.0           169        1   \n",
       "171 -75.223639      3.0           169        1   \n",
       "172 -75.223639      3.0           169        1   \n",
       "173 -75.223639      3.0           169        1   \n",
       "174 -75.223639      3.0           169        1   \n",
       "\n",
       "                                            attributes  \\\n",
       "0    {'NoiseLevel': 'u'average'', 'HasTV': 'False',...   \n",
       "1    {'NoiseLevel': 'u'average'', 'HasTV': 'False',...   \n",
       "2    {'NoiseLevel': 'u'average'', 'HasTV': 'False',...   \n",
       "3    {'NoiseLevel': 'u'average'', 'HasTV': 'False',...   \n",
       "4    {'NoiseLevel': 'u'average'', 'HasTV': 'False',...   \n",
       "..                                                 ...   \n",
       "170  {'NoiseLevel': 'u'average'', 'HasTV': 'False',...   \n",
       "171  {'NoiseLevel': 'u'average'', 'HasTV': 'False',...   \n",
       "172  {'NoiseLevel': 'u'average'', 'HasTV': 'False',...   \n",
       "173  {'NoiseLevel': 'u'average'', 'HasTV': 'False',...   \n",
       "174  {'NoiseLevel': 'u'average'', 'HasTV': 'False',...   \n",
       "\n",
       "                                            categories  \\\n",
       "0    Restaurants, Breakfast & Brunch, Food, Juice B...   \n",
       "1    Restaurants, Breakfast & Brunch, Food, Juice B...   \n",
       "2    Restaurants, Breakfast & Brunch, Food, Juice B...   \n",
       "3    Restaurants, Breakfast & Brunch, Food, Juice B...   \n",
       "4    Restaurants, Breakfast & Brunch, Food, Juice B...   \n",
       "..                                                 ...   \n",
       "170  Restaurants, Breakfast & Brunch, Food, Juice B...   \n",
       "171  Restaurants, Breakfast & Brunch, Food, Juice B...   \n",
       "172  Restaurants, Breakfast & Brunch, Food, Juice B...   \n",
       "173  Restaurants, Breakfast & Brunch, Food, Juice B...   \n",
       "174  Restaurants, Breakfast & Brunch, Food, Juice B...   \n",
       "\n",
       "                                                 hours  \n",
       "0    {'Monday': '7:30-15:0', 'Tuesday': '7:30-15:0'...  \n",
       "1    {'Monday': '7:30-15:0', 'Tuesday': '7:30-15:0'...  \n",
       "2    {'Monday': '7:30-15:0', 'Tuesday': '7:30-15:0'...  \n",
       "3    {'Monday': '7:30-15:0', 'Tuesday': '7:30-15:0'...  \n",
       "4    {'Monday': '7:30-15:0', 'Tuesday': '7:30-15:0'...  \n",
       "..                                                 ...  \n",
       "170  {'Monday': '7:30-15:0', 'Tuesday': '7:30-15:0'...  \n",
       "171  {'Monday': '7:30-15:0', 'Tuesday': '7:30-15:0'...  \n",
       "172  {'Monday': '7:30-15:0', 'Tuesday': '7:30-15:0'...  \n",
       "173  {'Monday': '7:30-15:0', 'Tuesday': '7:30-15:0'...  \n",
       "174  {'Monday': '7:30-15:0', 'Tuesday': '7:30-15:0'...  \n",
       "\n",
       "[175 rows x 22 columns]"
      ]
     },
     "execution_count": 14,
     "metadata": {},
     "output_type": "execute_result"
    }
   ],
   "source": []
  },
  {
   "cell_type": "code",
   "execution_count": 15,
   "id": "3b96ad54",
   "metadata": {},
   "outputs": [
    {
     "data": {
      "text/html": [
       "<div>\n",
       "<style scoped>\n",
       "    .dataframe tbody tr th:only-of-type {\n",
       "        vertical-align: middle;\n",
       "    }\n",
       "\n",
       "    .dataframe tbody tr th {\n",
       "        vertical-align: top;\n",
       "    }\n",
       "\n",
       "    .dataframe thead th {\n",
       "        text-align: right;\n",
       "    }\n",
       "</style>\n",
       "<table border=\"1\" class=\"dataframe\">\n",
       "  <thead>\n",
       "    <tr style=\"text-align: right;\">\n",
       "      <th></th>\n",
       "      <th>business_id</th>\n",
       "      <th>text</th>\n",
       "    </tr>\n",
       "  </thead>\n",
       "  <tbody>\n",
       "    <tr>\n",
       "      <th>0</th>\n",
       "      <td>XQfwVwDr-v0ZS3_CbbE5Xw</td>\n",
       "      <td>If you decide to eat here, just be aware it is...</td>\n",
       "    </tr>\n",
       "  </tbody>\n",
       "</table>\n",
       "</div>"
      ],
      "text/plain": [
       "              business_id                                               text\n",
       "0  XQfwVwDr-v0ZS3_CbbE5Xw  If you decide to eat here, just be aware it is..."
      ]
     },
     "execution_count": 15,
     "metadata": {},
     "output_type": "execute_result"
    }
   ],
   "source": []
  },
  {
   "cell_type": "code",
   "execution_count": 3,
   "id": "5bbb4aa8",
   "metadata": {},
   "outputs": [],
   "source": [
    "#review_raw=df2[['business_id','text']]"
   ]
  },
  {
   "cell_type": "code",
   "execution_count": 5,
   "id": "6398c877",
   "metadata": {},
   "outputs": [],
   "source": [
    "#review=review_raw.groupby(['business_id'])['text'].apply('. '.join)"
   ]
  },
  {
   "cell_type": "code",
   "execution_count": 8,
   "id": "5f17f1bb",
   "metadata": {},
   "outputs": [],
   "source": [
    "#data_review=df_res1.merge(review,on='business_id')"
   ]
  },
  {
   "cell_type": "code",
   "execution_count": 24,
   "id": "ceeca877",
   "metadata": {},
   "outputs": [],
   "source": [
    "from sklearn.feature_extraction.text import TfidfVectorizer\n",
    "import csv\n",
    "\n",
    " "
   ]
  },
  {
   "cell_type": "code",
   "execution_count": 27,
   "id": "b94f7707",
   "metadata": {},
   "outputs": [],
   "source": [
    "#with open('restaurant_review.csv', 'w', encoding='UTF8', newline='') as f:\n",
    "#    writer = csv.writer(f)\n",
    "\n",
    "    # write multiple rows\n",
    "#    writer.writerows(data_review)"
   ]
  },
  {
   "cell_type": "code",
   "execution_count": 28,
   "id": "941d67e3",
   "metadata": {},
   "outputs": [],
   "source": [
    "#data_review.to_csv('restaurant_review.csv')  "
   ]
  },
  {
   "cell_type": "code",
   "execution_count": 29,
   "id": "5c7dbfe6",
   "metadata": {
    "scrolled": true
   },
   "outputs": [
    {
     "name": "stdout",
     "output_type": "stream",
     "text": [
      "<class 'pandas.core.frame.DataFrame'>\n",
      "Int64Index: 34987 entries, 0 to 34986\n",
      "Data columns (total 15 columns):\n",
      " #   Column        Non-Null Count  Dtype  \n",
      "---  ------        --------------  -----  \n",
      " 0   business_id   34987 non-null  object \n",
      " 1   name          34987 non-null  object \n",
      " 2   address       34987 non-null  object \n",
      " 3   city          34987 non-null  object \n",
      " 4   state         34987 non-null  object \n",
      " 5   postal_code   34987 non-null  object \n",
      " 6   latitude      34987 non-null  float64\n",
      " 7   longitude     34987 non-null  float64\n",
      " 8   stars         34987 non-null  float64\n",
      " 9   review_count  34987 non-null  int64  \n",
      " 10  is_open       34987 non-null  int64  \n",
      " 11  attributes    34547 non-null  object \n",
      " 12  categories    34987 non-null  object \n",
      " 13  hours         31617 non-null  object \n",
      " 14  text          34987 non-null  object \n",
      "dtypes: float64(3), int64(2), object(10)\n",
      "memory usage: 4.3+ MB\n"
     ]
    }
   ],
   "source": [
    "#data_review.info()"
   ]
  },
  {
   "cell_type": "code",
   "execution_count": 2,
   "id": "03b82960",
   "metadata": {},
   "outputs": [],
   "source": [
    "#dd=pd.read_csv('restaurant_review.csv')"
   ]
  },
  {
   "cell_type": "code",
   "execution_count": 33,
   "id": "0c916ce7",
   "metadata": {},
   "outputs": [],
   "source": [
    "#import sklearn.feature_extraction.text as sk_text\n",
    "#Tfidf_vectorizer = sk_text.TfidfVectorizer(max_features=1000, lowercase=True, analyzer='word',\n",
    "#stop_words= 'english',ngram_range=(1,1), min_df = .05 , max_df = .85)\n"
   ]
  },
  {
   "cell_type": "code",
   "execution_count": 12,
   "id": "a0c4b065",
   "metadata": {},
   "outputs": [
    {
     "data": {
      "text/plain": [
       "'This is nice little Chinese bakery in the heart of Philadelphia\\'s Chinatown! The female cashier was very friendly (flirtatious!) and the pastries shown in nicely adorned display cases. I stopped by early one evening had a sesame ball, which was filled with bean paste. The glutinous rice of the ball was nicely flavored, similar to Bai Tang Gao. Definitely as place worth stopping at if you are in the area.. This is the bakery I usually go to in Chinatown.  They have a decent variety of buns and pastries.  Red bean-filled buns, mung bean-filled buns, coconut stuff, egg tarts etc.  If you buy a dozen, they will give you two more for free.  The prices are standard for a Chinese bakery, with most things at approximately $1.  The service has always been good.  They do serve coffee and tea.  There are a couple of tables inside, with usually the expected group of older Chinese guys chillin\\' in the corner table debating about something.  Great place to stock up on the buns, which I usually do before leaving town.. A delightful find in Chinatown! Very clean, and very kind service. Everyone always seems happy in here, and their treats are absolutely delicious. You can also get a ton of sweet treats without any judgement! They\\'re my favorite.. I ordered a graduation cake for my niece and it came out absolutely perfect. Will come again for future events! Staff was nice also and the cake was really good.. HK-STYLE MILK TEA:  FOUR STARS\\n\\nNot quite sure why there are two Saint Honore Pastries business listings on Yelp, but I have been checking in to this one.\\n\\nBoyfriend and I go by it all the time while in Chinatown, but it never crossed our mind to try it.  I think we might have tried it once a year or two ago, but it wasn\\'t memorable.  I decided to try the HK-style milk tea not too long ago and was hooked.  I think I went here almost every day one week to get the milk tea, only to realize that I should REALLY watch my sugar intake...it\\'s sooo good!  \\n\\nI personally don\\'t think it\\'s better than Zhong Gang\\'s HK-style milk tea because they have their off days when a certain lady makes them (not enough ice, too much ice, etc.).\\n\\nOn a side note:  I wanted to try the crispy roast pork bun, but accidentally said the wrong name in Chinese and got the roast pork bun.  It was decent enough, although I will get to trying the crispy roast pork bun soon!  \\n\\nI will be back~. This is my favorite bakery in Chinatown! I usually get a pineapple bao (bun), red bean bao, and pork bun. \\n\\nThese buns are the cheapest and they also have bags of multiple buns, with and without filling. They have boba but I\\'ve never tried it, as well as custard tarts. I love the buns and that\\'s what I go here for. \\n\\nThe service is decent. They don\\'t speak much English, which isn\\'t out of the ordinary in Chinatown. There\\'s lots of seating and it\\'s decently clean. \\n\\nCome here for the cheapest priced buns and baked goods (which are yummy) in Chinatown!. so I dropped in to this store since it was the same company as you would find in Hong Kong. Thought it might have the same delicious pastries you would find in Hong Kong. Although you did find your egg tarts and sweet buns, they weren\\'t as ... how would you call it... fresh. They didn\\'t have the same \"zest\" as you would find at the little stores along the alley ways of Hong Kong.They do have egg tarts which will satisfy your craving but doesn\\'t leave you as tickled as you would hope. They don\\'t take credit cards by the way and there\\'s a lot of construction going on around them so it looks like they\\'re closed.. Impression: The good thing is that there are like 5-6 of these kinds of Asian Chinese bakeries around Chinatown- Mong Kok is another one that sells the same get up: sesame balls, roll cakes, taro buns, egg tarts, meat buns, ham and cheese breads- your typical Hong Kong South East Asian kinds of bakeries that sell their fares for less than 1$ each. The bad thing is, b/c it is the same as the rest, it may be hard to find something you\\'ve never tried before- but their cheese cakes looked to be their stand apart from other bakeries. This is the only \"Asian\" bakery on this street across from Nine Ting, the new Taiwanese popcorn chicken, right by Red King BBQ, and Wong Wong Restaurant. It\\'s a solid Chinese bakery- neither fancy nor cheap and poor quality, neither special or bland but solid if you\\'re looking for the typical Chinese desserts and pastries \\n\\nBecause it\\'s cheap, feel free to load up on a large stash of goodies! Egg tarts were 0.80$, sesame balls were also 0.80$ and the green tea roll cake was only 3.50$. I like to take these treats home and eat them slowly over the next few days. The sesame balls and the tarts taste great if you stick them in the microwave and zap it for 30 seconds to 1 min. Pair it with some good tea and you got yourself a nice afternoon tea for your studies/work/friends. Best egg tarts? \\n\\nI was lucky to get them fresh and right out of the oven. Oh my goodness, a little piece of heaven they certainly were! With the right amount of flakiness and the sweet creamy filling, their egg tarts that I tried this time was probably one of the best that I\\'ve ever tried, if not the best. \\n\\nIn terms of pricing, this bakery is on par with every other bakery in Chinatown. There really is not significant, if any, differential in terms of the prices.. Little square cakes of happiness with cute bunnies, cherries, and fruit, and for 90 cents each.... Don\\'t mind if I do!  I still can\\'t believe the prices in here.  I was wondering what was wrong with the cake at first for that price, but it was surprisingly as delicious as it looked.  Everything in here just looks appetizing.  I like Asian bakeries because the cakes are not overly sweet as most ones are in American Bakeries.  \\n\\n      I have tried the chocolate cake, and different versions of the vanilla cake here (bunny and cherry).  Both were fluffy, moist, simple, and slightly sweet.  They didn\\'t really have any difference in taste though.  The main difference here seems to be the cute decoration.  I\\'m okay with that though.  I get excited like a five year old child at the idea of what cute animal or fruit I will get on my cake next.  The mango pudding was okay, but not as good as I\\'ve had in some Thai restaurants, or even what I could make at home.  I haven\\'t tried any of the buns, but they do look tasty and are priced right.  They also offer bubble tea and smoothies here, but I haven\\'t tried them.  I\\'m always too distracted by the cake.\\n\\n    You should drop by here after a nice dinner in Chinatown and get some sweets to take home.  It doesn\\'t matter if you\\'re still full from your meal like I usually am. The cute little cakes look and taste just as good the next day.. This is my second favorite place for pastries down in Chinatown.  The egg tarts are second best, first being Asia Bakery.  I usually end up in here if im too lazy to walk over to Asia Bakery lol.  The breads are soft and chewy and always fresh.  Im not a big fan of their cakes though.  They have been too dry for my taste.  They have almond cookies and they are very good and cheap.  As most bakeries down there, they make milk bubble tea and smoothies.  Not a fan of the bubble tea and never had the smoothies, though alot of people do buy it here.  I\\'ll stick to my favorite bubble tea place down there. (see my other reviews lol)\\n\\nGood bread, cookies and egg tarts here.  So give it a try!  \\n\\nHappy Eatings!!. This was my and the bf\\'s go-to HK pastry place for the last two months. I thoroughly enjoyed their hot dog buns and egg tarts. Cash only and they\\'re nicer to you probably if you speak their language. Overall, a good chill spot after roaming around Philly/Chinatown all day if you need a short 5-10 minute break. Let the soy milk drink go though, it really didn\\'t taste like anything and I don\\'t like the foam silky part on the top.\\n\\nIt was authentic and I wish I can get one of em hot dog buns right now but whoever is reading this - enjoy one for me!. Excellent dim-sum but better get there early. Often sold out.. Nice pastry shop.   We went in for bubble tea after dinner at Wong Wong and left with drinks plus a bag of savory pastries.   The bubble tea is more flavor and less sugary which I like though my kids have come to expect a certain level of sweetness from their fruit flavors.  The boba were perfect, small & chewy.  The cups were smaller than most places but then again none cost more than $3.  In the evening Monday pastries ranging from $0.80 and up are 2 for $1.00, which is a good deal...similar to ABP\\'s twofer sales.  I picked a variety of savory pastries and they were all tasty the next day - one difference from buns I\\'ve had  before is that I could see bits of onion inside the bun but not in the filling.  Will go back.. 3 pastries for $1.25 after 7:00 pm!  I love coming here on a Sunday and stocking up for the week with a box full of rolls and custards.  The baked goods here are always very fresh and consistent.  I\\'m a big fan of the egg custards, which have a layered, flaky shell, and the coconut milk buns.  The cakes are better at Greenleaf\\'s but the breakfast pastries here are excellent.. I\\'ve walked down Race many times, but never noticed St. Honore before. I asked the woman at the counter if they were new, but she gave me a polite smile and no answer - either there was a communication gap or she couldn\\'t believe that I was so clueless (seeing as how Yelp reviews date back to 2008, clearly I am just  unobservant). \\n\\nI ordered an Egg Tart and was pleasantly surprised that a baked good was still so moist at the end of the day. The crust was sweet, light, and flaky and the egg filling was the perfect consistency - definitely one of the best I\\'ve had in Philly. Now that I know this place exists, I\\'ll be back to try some other baked goods.. I would give five stars, but I probably didn\\'t try enough things to qualify. The sponge cupcake was really light, fluffy, and perfectly sweet. I also got some egg tarts, which my boyfriend loves, and he said they were perfect. It\\'s cash only, they have some cheesecakes and such as well as Asian desserts.. While I\\'ve never tried their bao (and usually go to KC for that), they have the best egg tart that I have found in Philadelphia Chinatown! Not too sweet and a light flaky, buttery crust. That alone is worth a trip here.. Stumbled upon this little gem after having Pho with my friend from work....I had a slice of cake-- 95 cents! Where in the world can you still get a slice of cake for 95 cents?? It was very light and fluffy, almost like angel food cake with super light frosting.. I am quite partial to the St Honore in Mei Foo, Hong Kong. For a short while, I think I may have been a mild addict.\\n\\nSame logo, same wrapping, so yep, yep-----\\nOrdered some vanilla cream sponge slices.\\n\\nSoooo good with Starbux decaf for dessert in a warm bed. Simple pleasures:). The steamed pork buns here are out of this world!  I\\'ve tried them at several other bakeries in Chinatown, but those don\\'t even come close.  Perfect consistency, flavor, and they actually fill them up with big pieces of pork! You can get a pack of 8 for $6.50, which is a great price! The egg tarts are also some of the best I\\'ve ever had!  This place is a gem!. I\\'ve been looking for a good place that serves good roast pork buns that isn\\'t stuffed with tons of fatty meat, but has a generous portion of non fatty meat in them. This place is it! At first, I only ordered one bc I was afraid that it would be lacking meat, but once I took my first bite (whoa...meat on the first bite!!!!), I ordered a full box. :-) If you purchase a full box, they give you 2 free. AWESOME! I also ordered an avacado shake and a strawberry shake. Both are made with real fruit. I hate places that use powder. The shake was great. She made them without milk (like I requested) and I couldn\\'t have asked for anything better.\\n\\nThe service is spectacular! I loved the fact that she could speak english very well and understood everything I asked for. I hate going into some places and give you dirty looks bc you can\\'t speak their language. She asked if my shake was good and to my liking. I really appreciated her taking the time to get my order correct. I will def be back here for more pastries!. Their prices were very good, and the lotus cake I tried was tasty. I can\\'t speak for their other pastries, so I\\'ll have to stop by again sometime.. My go to place to get a nice birthday cake. Not too expensive (12$ for a strawberry cake), and very delicious ! They also gave me birthday candles, which is nice !. Got my wedding cake here and it was the best decision ever. So much more reasonable priced than American bakeries and way more delicious since it is not fondant based. Owner Kevin is an artist when it comes to cakes and he offered me great suggestions when I was torn between flavors and designs.\\n\\nWe ended up with 3 tiers: top: Strawberry shortcake 2nd: Chocolate sponge with strawberry filling 3rd: Green Tea with homemade red bean filling.\\n\\nIn normal weddings, there\\'s usually a whole lot of cake leftovers. In normal Chinese weddings, there\\'s usually a whole hecka lot more cause people leave after the lobster is served. So it\\'s a huge deal when I tell you that other than a take out box that the server set aside for us, we had no cake leftover! \\n\\nThey also custom made mini coconut tarts for our Cocktail Hour which were a huge hit! Much thanks!!. Really good egg tarts. Scratch that, probably the best egg tarts in Philly. I keep trying to catch them straight out of the oven, but I think you probably have to ask them for that or something, because the last time I watched them bring out a fresh batch of egg tarts, and ordered it, it was still cold. Definitely still, good, I just want to try them right when they come out of the oven. I wish I knew when they baked those darn egg tarts. I\\'ll have to ask them next time. Anyways, unlike most of the places in Chinatown, they use a flaky crust for their egg tarts. Pair that with the sweet, creamy baked egg custard filling, and it is a match made in heaven haha. Flaky crusts are the way to go for egg tarts. \\n\\nTheir other buns and savory pastries are standard; taste the same to me anywhere I get them. My sister favors their butter bread though, which is very good, and can act as dinner rolls. The drinks here are ok, nothing special. They serve the standard milk tea, lemon tea, and they also have bubble tea, but I\\'ve never gotten that here. They have a few small tables for you to sit on, and a refrigerator with soda and canned/boxed drinks right by the door so you can grab and go(no five finger discount!!! Remember to pay). I\\'ve also had the lemon cake before, which wasn\\'t bad, but sometimes I do stray from the cakes, as they don\\'t always look fresh.\\n\\nI don\\'t think I\\'ve ever seen young people working here; it\\'s usually 1 or 2 middle aged ladies behind the counter. They\\'re not mean, but they\\'re not overly friendly either. They just do their job, that\\'s all it is. No extra smiles or small chat. And usually, there will be one or two middle aged/old men sitting toward the back reading the newspaper, making it seem more like the cafes in HK, where old people will hang out in cafes just to drink a cup of tea and pass the hours by. \\n\\nAll in all, definitely come here for an egg tart, if nothing else. You won\\'t regret it.. St Honore Pastries is another one of those places that if I\\'m ever nearby I have to make a visit. They have a wide selection of individual size cakes, buns, and other nibbly things almost all less than $1, usually .70-.90 a piece. \\n\\nMy personal favorite is the \"cupcake\" which looks like it\\'s baked in a flower pot, it has a very eggy taste and a light and fluffy texture. The snowman cake, already mentioned by kathy t. is kind of really cute so I got one last time and it was pretty tasty. \\n\\nThey also have a fairly large drink menu so if you\\'re looking for a durian shake, or something more appetizing, this is the place to get it.. People are really cold and reserved didnt feel welcomed at all. Was rushed out the door quickly. Feeling welcomed is always important.. The pastries are decent but the coconut bread and raisin breads are very dough-y and had the tendency to stick to the roof of your mouth.  The coconut bread only had a very scant amount of shredded coconut and was, itself, a bit on the bland side.  Definitely not even close to what you would get in Flushing.  We had to toast the bread just so we could actually swallow i The sesame butter cookies were fantastic: light, crisp, covered in sesame seeds, and containing the perfect amount of sweetness.  These are much akin to the butter cookies from Roma\\'s and Isgro\\'s, except with an Asian twist, compliments of the sesame seeds.  The almond puffs are also quite delish and very flaky and light with plenty of sliced, toasted almonds and a drizzle of honey on top.  The egg tarts are great with a flakey, layered, and buttery crust.  Come here for the cookies, egg tarts, and pastries, not for the breads.. A nice Chinese bakery that gets you the goods. Rather than the shortbread cookie like crust of egg custard tarts at other Chinatown bakeries, St. Honore\\'s egg tart has a flaky multilayered crimped crust (probably full of hydrogenated fats, but life is short). Full range of multilayer cake slices (snowman cake! peach cake!), jelly roll like chocolate roll, sweet pastries (sponge cake like cupcake, almond cookies, coconut cream bun, coconut cocktail bun) to the usual savoury pastries (beef curry bun, bbq pork bun, etc). Most of the individually sized baked goods run under $1 and an extensive bubble tea and fruit flavored shakes menu is posted on the wall.\\n\\nSeveral fourtops along the wall if you want to eat in, but I generally takeout and munch in the park etc. If you get a dozen pastries, they\\'ll often throw in two for free.. Their egg tarts are the best. The crust is flaky and buttery and the custard is baked to perfection- soft, creamy, and jiggly, the way it should be! I love that they\\'re not overly sweet too. Get there early in the morning and get the egg tarts while they\\'re still warm, it\\'s the best thing ever!\\n\\nSome bakeries in Chinatown get their pastries delivered, I like that they bake on the premises. You know you\\'re getting fresh pastries!. So I don\\'t know how the other review was double posted, and I didn\\'t notice till now. But here\\'s an update. I don\\'t go here for egg tarts anymore, they are not as good as they used to be. (Go to Zhong Gong if you\\'re looking for great puff pastry egg tarts.) That being said, I still think their tarts aren\\'t too bad, just not the best, and all their other baked goods are still good too.\\n\\nBut the real gem here are the custom chinese cakes. If you like soft, light, and fluffy Chinese cakes, then you\\'ll love the cakes at St Honore. They bake to order, and their fillings, toppings, and whipped cream are always fresh. It\\'s a little more than what you\\'d pay at some of the other asian bakeries in Chinatown, but you\\'re paying for quality and consistency. Try one for the next birthday!. Absolutely love this bakery.  My guilty pleasure after work.  Croissants and raisin buns are so fresh they melt in your mouth.  Prices insanely low for the quality... cheaper than the surrounding bakeries which don\\'t quite cut it like St Honore. Also, the owner is so sweet. She even is honest about how fresh her coffee is; when fresh, it is excellent and also cheap.. I was so glad when the smoking ban in Phila  was implemented,because the old men smoking would have been the only the only reason I would have gave this place a lower score.Phew! it was foul smelling. The prices are unbelievable.I don\\'t know how they can create such beautiful works of art for such small amounts of money .60 cents for a magnificent pastry decorated with glazed fruit to look like a expensive $5.00 french pastry.Crazy! and delish.My favorite is the buttery cream filled coconut bun.It is so rich we tend to share one with coffee.Buy a few and refrigerate them or impress friends at a party .So many lovely sweets so cheap and yummy.Nice enough for a bridal party. Street parking sucks but one goes in while the others circle.. Arguably the best Chinese pastry shop in Philly\\'s Chinatown... another favorite of mine when I was doing time in Philly for college years ago...\\n\\nThey have all the traditional favorites - hot dog buns, roast pork buns, coconut cream, coffee rolls, egg tarts, etc.  Prices have gone up since I last visited -- but the place is cheaper than most bakeries in NYC - ranging from $0.60 to $0.80 for most items.\\n\\nThey also serve up drinks including bubble tea - it hits the spot but is by no means earth shattering.. Just came from this bakery this afternoon and I really liked this little shop. They have the fluffiest, soft bolo bao (pineapple bun) I have ever had. Their milk tea was made fresh. I would probably ask for a stronger tea brew in my milk tea though. Their prices are very affordable. Yum!\\n\\nThe only downside to this place is their packaging. I\\'m from out of town and the open wax paper packaging makes it hard to travel around with and to keep fresh.. Horrible 3rd world service. After I picked out my pastries, I asked for a box. The woman behind the counter scolded me:\"you have to ask that in advance!\" Then she proceeded to take out each pastry from its little bag to put them in the box! I asked if that was necessary and the response \"you can get bags OR a box,\" not both! I nearly fainted. I guess they are going to re use the bags, which is UNFATHOMABLE to me. I am a grown ass adult and I won\\'t be spending any of my hard earned $ here!. Looks like a nice place from the outside, but the Bubble tea really sucked. If you are going to blend ice into it, at least do it so it\\'s smooth and not gritty or rocky. Also something is wrong when you Green Tea Bubble Tea looks white and not green. Bubbles had the wrong texture too. Yuck!\\n\\nWe also ordered the egg tarts which were good.\\n\\nBased on my experience though, I have no desire of coming back.. I just walked in to this random bakery to order a birthday cake for my family member\\'s birthday last week. I picked it up this afternoon. It was beautiful fruity and cheap. I only paid $27.00 for  pretty big size cake. The most important thing is it was DELICIOUS !! I can\\'t believe it !!. It was not too sweet, it was just perfect. Just perfect for the birthday party. I willing to try another kind again for the next birthday party.. Stopped in yesterday while on an unsuccessful hunt for something else in Chinatown and grabbed a coconut cream bun ($0.70) and a curry beef thing ($0.80). \\n\\nI ate the coconut cream bun while I was waiting for the train and it was so delicious I briefly considered seeing if I could make it to St. Honore and back before the train came. The bun itself is sort of elastic/chewy but in an inoffensive way, the filling is delicious. \\n\\nCurry beef pastry was ok, extremely flaky which is a plus but not very much inside. Roast pork bun is a better bet.. We have tried many of the bakeries in Chinatown and beleive that this is the best one. The quality of their pastries is superior and their deserts are also more attractive than the other bakeries. This is my go to for a chinatown bakery.. Escaped the bubble of business travel and happened upon this Chinatown bakery early in the morning. Buns are standard Chinatown freshness and deliciousness but prices were amazing. Maybe I have my SF goggles on?. bun is sucked here and the waitress was really mean and cheap... will never come anymore... I really think that the review above 3 stars are fake. I can only comment on the cakes but my cake experience has been great. They are not pricey by any means. I think a 6-inch strawberry cake for Mothers Day cost me only $12. Don\\'t think that because it\\'s not pricey that the taste will be bad. We all loved the cake. The cream was light and the cake moist and not too sweet, which I appreciate.  We\\'ve tried the taro one before too. I was skeptical about the flavor but it was terrific too. They\\'ll write what you want on the cake on the spot. They gladly wrote \"happy Mother\\'s Day\" in Chinese on it for me. I\\'m not sure if they make custom cakes.  I\\'ve never tried their other things but I\\'m going to try their sponge roll cakes next- just 4 bucks if I remember right. Give their cakes a try!. This place is cheap with a capital \"C.\" Though most bakeries in Chinatown are very affordable, what made this place great was the service! The woman behind the counter chatted us up and helped us decide on which bubble tea to order. We went with the thai tea which they prepare themselves earlier in the day. The thai tea was tasty but could have been a little sweeter. I was tempted to try out some of the treats since they were only a buck but I was stuffed from dinner. Next time I\\'ll try to the egg tarts.. Cute pastry shop, very authentic chinatown feel. I had their egg tarts including the almond tart. I definitely prefer the egg tart over the almond tart. It was flaky and the egg custard was sweeter than the almond. The almond tart didn\\'t have any almond taste to it. The flaky crust was definitely a good compliment to the egg custard. Not bad for 80 cents a pop.. Ordered a birthday cake here for the first time based on the reviews. I ordered a few days in advance, a chocolate cake with vanilla frosting that said happy birthday mom. They only did 8 in chocolate cakes which is fine. When I went to pick up, I was disappointed to see they had put some chocolate frosting on the top of the vanilla. I paid $23, my mom would still like it but it\\'s not my order 100%. The lady at the counter didn\\'t seem to speak English and I didn\\'t want to argue. The lady I spoke with over the phone spoke perfect English and we confirmed at least 4 times my order back and forth. I think just be careful when placing an order here. There must have been a miscommunication or it wasn\\'t written down right as the paper that came with the cake just said chocolate cake. The cake was delicious, the price was fair and the cake was beautiful so that\\'s why I give it 4 stars. I may just order all vanilla next time.. This bakery is a gem! It has the most delish pineapple buns!! The service was excellent as well! We enjoyed buns with Vietnamese coffee! They were very kid friendly as well! I highly recommend this bakery!. Cheap chinese bakery. Pretty consistent with the quality. They make decent cakes here too!. One of the better places in Philadelphia Chinatown for rolls and egg tarts (multiple layer crust here!).\\n\\nService is generally faster if you can speak in Cantonese, though... I tried to use Mandarin and it\\'s still faster than English.\\n\\nTeas here are okay, although probably better elsewhere.\\n\\nLimited baked good selection, but they do everything almost equally as well, and they\\'re very consistent about it.. This use to be my goto bakery for coconut buns. Then I became a freak about my sugar intake and I stopped getting most baked goods.\\n\\nI remember Linda N.\\'s review about them and ventured there during my lunch break. I didn\\'t want a drink but saw they had a sign for custard buns, my childhood favorite!!!  I go in and look for their steam machine thing... But nothing is in it. I ask for the bun, and they said it was frozen. I assume for take home orders. Womp Womp!!  \\n\\nI felt weird leaving without buying something so I got the egg custard. I\\'m glad I did, it was pretty bomb. Well done in my opinion. Can\\'t beat price, 80 cents. I\\'ll try the hk tea next time... Didn\\'t realize they sold it in ice lol.. Didn\\'t want hot since it was hot outside.. I ordered so many cake from here for our family\\'s events.\\nThey all came out good. Easy to communicate with the owner cuz her English is pro. Price is reasonable.. We usually buy durian birthday cake from this bakery but this will be my last time buying from here. Just got a 10\" durian birthday cake and the quality is going down while price is going up. The cake cost $50 and back then you\\'ll get more durian filling but now you get more cream! The cream is not even good.. I have been looking for chestnut cake around for a while for my birthday and they have it! It\\'s like an angel fruit cake with chestnut paste as the filling! It\\'s delicious!\\nThe quality is very good!and it\\'s very affordable as well!\\nThey also have regular fruitcake,tiramisu mousse cake and more!some of the items are made to order like the chestnut cake,and some are pre-made(see pictures)Have a look next time when you are around!\\nAuthentic Hongkong style pastries!!. TERRIBLE TERRIBLE service. I have never felt so disrespected by any establishment EVER. I walked in around 7:30pm on a Friday to pick up a birthday cake pre-ordered. I was waiting for a friend so I decided to buy an egg tart (somehow they charged me 90c even though the sign CLEARLY said 80c, but I wasn\\'t in the mood to argue over 10c) and use the rest room while I waited. The door to the bathroom was locked and all I got as an explanation was, \"the last person to use it must have locked it behind them. We have no key.\" HOW do you not have the key to your own bathroom? I was confused at first and thought it must be a simple misunderstanding but nope, they really just didn\\'t want me to use their restroom. I asked them where they used the restroom if its locked and they just mumbled and didn\\'t answer me (mind you, there was no language barrier--they completely understood me). So I sat down with the egg tart (which honestly wasn\\'t even as good as those at other bakeries) and waited for my friend.\\n\\nWhen I checked on the cake, the name was spelled wrong even though we had confirmed the spelling multiple times. So when I asked the woman to change it, she just had the biggest attitude. I could hear both women behind the counter talking about me, I guess they didn\\'t realize that I could understand. Believe me, I am the first to admit if I am in the wrong or if I had any part in bad service received but this is the first time I have genuinely been shocked at how I was treated. I will never be back here again. Get your pastries somewhere else, where the employees are friendlier, where they won\\'t unreasonably overcharge, and the food tastier.. Went just for the egg tarts. The crust was incredibly thick and while flaky, the edges had the texture of being stale. The egg custard was sweeter than I am used to but I did not mind that as much the crust.. Really good egg tarts. Scratch that, probably the best egg tarts in Philly. I keep trying to catch them straight out of the oven, but I think you probably have to ask them for that or something, because the last time I watched them bring out a fresh batch of egg tarts, and ordered it, it was still cold. Definitely still, good, I just want to try them right when they come out of the oven. I wish I knew when they baked those darn egg tarts. I\\'ll have to ask them next time. Anyways, unlike most of the places in Chinatown, they use a flaky crust for their egg tarts. Pair that with the sweet, creamy baked egg custard filling, and it is a match made in heaven haha. Flaky crusts are the way to go for egg tarts. \\n\\nTheir other buns and savory pastries are standard; taste the same to me anywhere I get them. My sister favors their butter bread though, which is very good, and can act as dinner rolls. The drinks here are ok, nothing special. They serve the standard milk tea, lemon tea, and they also have bubble tea, but I\\'ve never gotten that here. They have a few small tables for you to sit on, and a refrigerator with soda and canned/boxed drinks right by the door so you can grab and go(no five finger discount!!! Remember to pay). I\\'ve also had the lemon cake before, which wasn\\'t bad, but sometimes I do stray from the cakes, as they don\\'t always look fresh.\\n\\nI don\\'t think I\\'ve ever seen young people working here; it\\'s usually 1 or 2 middle aged ladies behind the counter. They\\'re not mean, but they\\'re not overly friendly either. They just do their job, that\\'s all it is. No extra smiles or small chat. And usually, there will be one or two middle aged/old men sitting toward the back reading the newspaper, making it seem more like the cafes in HK, where old people will hang out in cafes just to drink a cup of tea and pass the hours by. \\n\\nAll in all, stop by here for an egg tarts, if nothing else. You definitely won\\'t regret it.. my friends and i were on the search for the best hong kong milk tea today. while st honore\\'s version wasnt remotely as close to the best i\\'ve tried, it is by far the best in philly. give this place a go if you are on the hunt for some good hong kong milk tea.. After coming from New York I knew I\\'d have to go through trial and error to find my go-to Chinese bakery in Philly.  After trying nearly all of the bakeries around Chinatown, this is probably my favorite.  First of all, the staff is very nice and helpful.  I wish I knew their names because I\\'d like to give proper credit to the staff, but the lady who speaks English without an accent is so friendly.  Every time I stop in she\\'ll say hi and ask how I\\'m doing with a big smile.  I really feel like I\\'m a regular at this point.  I once came with my mom and now she\\'s always asking how my mom is and when\\'s the next time she\\'ll be back.  \\n\\nOn to the buns.  I\\'ve tried most of the items available at the bakery.  There\\'s a wide assortment of sweet and savory buns, desserts, and prepackaged steamed buns ready to go.  I\\'m really obsessed with Chinese style dried shredded pork, so I always have to get either the \\'pork over bun\\' or the rolled up bun with green onion and dried pork any time I walk by.  To someone without much Chinese bakery experience this may sound weird but you have to give it a try, such a great balance of sweet, salty, savory, decadence.  Everything else for sale is also top notch.  I was lucky enough once to grab some egg tarts that were literally straight from the oven and I have to say at that point they were the best I\\'ve ever had in my life.  \\n\\nThey also have an assortment of hot and cold drinks available, but I don\\'t have much experience with those.  All in all this is a must-go if you are wandering around Chinatown.  Stop in for a bun or a dessert.  It\\'s a great treat, from an exceptional staff, and it definitely won\\'t break the bank.. My favorite go-to Chinese bakery for roast pork buns, egg custard buns & tarts, and fried pork dumplings! I especially love coming here in the morning because I get to see/listen to the old Chinese men in the back talking/gossiping about the latest news (old people are so cute!). \\n\\nPros:\\n-- Cheap prices! Almost every baked good is under $1\\n-- The ladies who work here are so friendly and always smile\\n-- Very consistent with almost always getting \"fresh out of the oven warm\" baked goods\\n-- Get to practice my Cantonese!\\n\\nCons:\\n-- Very small place, so not much moving room\\n-- Not a place to go to sit down and do work. If I\\'m driving to Philly for some cheese steaks from NYC, I know I have to go to St Honore Pastries for some egg tarts. I guess with everything going on with the pandemic, I thought the staff would have taken more precautions.  I didn\\'t realize it at the time, maybe I was just too eager to have some egg tarts, but the lady that took my order used her hands (without gloves) to get the egg tarts instead of tongs.  Am I being overly paranoid?!?  I mean, I\\'ve been to Chinatown and Flushing in NYC, so a woman using her hands to get me a bao isn\\'t out of the norm but that was before Covid.  If I had to rate the egg tarts (yup, ate them waaaaay before I played back the experience in my head) and cha sui baos, I\\'d definitely give it 5 stars but because of the lack of safety precautions, had to bump them down to 2 stars. Oh, the store hours aren\\'t correct on Yelp, I made the mistake of going at night (before closing time) and they were already closed.. Support this business! I grabbed 4 pastries here to taste and they were all awesome. The woman who runs this plan was so sweet and kind to me. I regret not trying the cheesecake they offered!! Luckily, everything I did grab was awesome, and I got to share it with my friends who also loved them.. Oh pastry shop, how you now disappoint me! I\\'ve been here often and they have always stuck with the moto \"We only use fresh fruit. We don\\'t have powder stuff here.\" And now, what happened to you?!?! You stooped to the level of some other tea places that use powder. YUCK!!!!!! And it\\'s not even blended good either. It taste gritty and just plain disgusting. After making it, I noticed the funky looking color and asked if this was fresh. \"No, it\\'s powder. You didn\\'t ask for the fresh fruit one which costs more money.\" From all the other times I have been here, you have never given me a strawberry drink made of flavored powder. Who even asks for a fruit drink made of powder??? Also, my sister ordered the thai tea. It did not taste fresh. :-( When my family wanted a good bakery, I was so happy to introduce them here, but then all this happened....shame.\\n\\nAnd the pork buns aren\\'t as good either anymore either. It was stuffed with tons of onions when before it was stuffed with a balance of meat and onions. Are you cutting back on quality bc of costs?? I rather pay a lil extra money for your old quality then you trying to cut cost and making your products non-edible.\\n\\nI thought I found my new bakery, but my search continues..... I\\'ve only tried the roast pork buns/char siu bao and egg custards here, and both were solid. I\\'ve tried bao at a few of the other Asian bakeries, and I think this one is my favorite thus far. The meat isn\\'t too sweet and is tender and flavorful enough, and the ratio of meat to bun is such that the bread doesn\\'t fall apart while eating. The egg custard was also enjoyable. I liked the consistency and flavor of the custard, but prefer a flakier crust. \\n\\nFor now, this is my go-to place for bao.. I love this place..  I love their chunky fried dumplings, sesame balls, n more... never disappointed when I go there...  you even call them in advance if you have a  party , they can even make extra fresh bakery for u!. Tried just about every sweet bun available. This has got to be the best brioche dough I have tasted in a long time. The fillings, while delicious, were a bit skimpy in some of the buns. Red bean and crispy coconut were standouts. Taro was lovely but could\\'ve had more oomph. Sesame balls were the one thing I didn\\'t like: fryer needed an oil change, so that was all I could taste. Would return for the brioche goodness, great prices, friendly staff.. My mom loves this joint. A trip to chinatown is not complete without some  egg tarts. They are delightful even two days later.\\n\\nThey are also insanely cheap and take credit cards.. I love this place!  The cakes are always beautifully made and very fresh!  The buns are also very delicious! My favorite bun is the pineapple roast pork bun.  The mixture of sweet and savory is yummy to my tummy!. They are still open and fully stocked during this pandemic! :) Stopped by on a Saturday mid-day and they had everything. The lady who helped me at the counter was very friendly. She informed me what pastries just came out fresh. (Their egg tarts are very popular by the way.)\\n\\nOther times that I\\'ve come here, they\\'ve sold out on the pork scallion roll. I was so glad to see they actually had some when I stopped by!! Finally got to taste it and I was not disappointed. The bread is so soft and tasty. It has the light taste of pork and scallion. I honestly expected a little more scallion to be in it, but it still tasted delicious. For those not familiar with this kind of roll, forewarning to those who don\\'t like mayonnaise: it has a mayonnaise-like spread inside. I personally think it enhances the roll.\\n\\nI also tried their roast pork bun for the first time. Do not miss out on this if you like roast pork !! This is a great combination of sweet and salty. The bun itself has the sweet topping and it\\'s filled with the roast pork inside. I regret not buying more than one, especially because it\\'s so affordable. :(\\n\\nIf you\\'re looking for some cheap and delicious asian pastries, definitely stop by here and check out what they have. I\\'ll have to try their desserts next!. AMAZING!!!! Everything is so cheap! I got the egg tart, neapolitan, and \"cupcake.\" The place smelled bit weird when i came in, but that was fine since i wasnt planning on staying there to eat. Neapolitan is perfect combo of sweet and crispy. It\\'s not crazy sweet like others with icing on top. The cream in between is also not that sweet, tastes bit like whipped cream, but the pie is AMAZING. The \"cupcake \" is like spongy soft angel/pound cake which is what i was expecting. Egg tart EXCEEDED my expectations the crust was to DIE for and it actually tasted like an egg tart not a tart with yellow cream in middle!!! COMPLETELY recommend this place. If you know me, I LOVE iced HK-style milk tea... a lot. I used to frequent Zhong Gang, but it has been very, very inconsistent - too much half and half, not enough syrup, or not enough ice. \\n\\nMy new favorite HK-style milk tea is from here. $1.50 for iced. It is consistent most of the time. I like to ask for crushed ice, but there\\'s just too much clumped ice leftover... most likely because of the cold weather. Maybe it will be different when the weather gets warmer. \\n\\nDefinitely recommend their iced HK-style milk tea and HK-style iced tea!. The breads were SUPER SOFT. The egg custard in both breads were on point. Whenever I go to Chinatown, I always stop by at least one local bakery. The breads are so cheap and packed with goodness. There wasn\\'t much variety around 4pm. I was hoping for more savory choices. But this is a great snack stop.. Not sure what happen. I have order a taro cake from this place 4 times and each time it was delicious and fresh. However, the fifth time, I ordered a 12inch taro cake for my moms birthday it was bad. The cake was order on a Friday, picked up on Saturday, and party was on Sunday. I had put it in the refrigerator immediately after coming home with it. The taro fulling of the cake was sour and tasted very odd. They must of used old taro or just completely messed up the order. I was and still am embarrassed and disappointed at the cake because we had 20 guest and we served bad cake at my moms birthday party. I call the bakery immediately and they did refund me my money, however, the party was somewhat ruined and literally left a bad taste in my mouth. I will no longer recommend this place nor will I return to purchase anything from here anymore. I wish I can give it zero stars.. Clean little Asian pastry shop and owner was very friendly and kind. Prices are reasonable - came away with 6 pastries for $6.75. Recommend the pineapple buns, roast pork buns, sponge cake, and wife cake!. Saint Honore Pastries is one of the best bakeries in Chinatown. Although the location is small, but the pastries are good and the place is clean. If you buy a dozen pastries, you get a free pastry or the raisin bread. My family is a fan and we always buy from here when we hit the beach. Our favorite is the shredded pork roll, which is moist and flavorful. They have the best shredded pork roll in Chinatown. They do serve other foods as well and not just pastries and desserts. Saint Honore Pastries is good to sit for a quick bite and some tea as most Asian elders do around in the early morning.. Awesome pastries, awesome price! This place is the absolute BEST in Chinatown for egg tarts and they\\'re only 80 cents each! I got 10 of them and it came out to $8. You can\\'t beat that! The service is so nice. It\\'s your typical cute Chinese bakery. This place is great for getting a quick treats and walking around the city of ordering a bunch and bringing them home like I do.. Great breads, cookies and cakes. Great service, and the owner who works on Sun. always has a friendly smile to greet you and make you feel welcome. Also sell moon cakes for the Autumn Fest. and New Year cookies. 2 of my favs are the butter buns and the green tea roll cake.. The bakery was very simple and didn\\'t have many items out on display but the woman who helped us was very nice and friendly. We bought two pork buns and a milk boba/tapioca tea. The tea and the buns were both very good. We asked that the buns be warmed up and she quickly obliged. We ate them as soon as we got back in the car.. The crispy roast pork is SO GOOD and lowkey it\\'s 2 little buns stack next to each other for the price of 1. Amazing amazing and can\\'t recommend enough.\\n\\nWhen I got there ~2 pm the bun I got was warm!. Great swiss roll cakes! The pandan flavor is delicious. The cream is so thinly rolled in, just the way I like it--aromatic yet fluffy and light.. This is my favorite bakery in Chinatown! It\\'s my go to spot at all times.\\n\\nI love the egg tart, pineapple bun, and milk tea there. The staff are so nice and friendly. Once you walk in they will greet you right away. When I walk in they already know my order.\\n\\nAfter 6 o\\'clock, they have a special for buns - 2/$1. It\\'s what\\'s left from the afternoon. The buns can sit overnight; I normally eat it right away as a snack or eat it for breakfast the next day. \\n\\nDefinitely recommend this bakery!. Yesss, the bakery is open and with my favorite worker lol. After months of no Asian pastries, my husband and I ordered a dozen of goodies to ourselves. We miss the egg tarts and buns. Yum, so happy they\\'re open and cravings satisfied for sure.. The owners do a great job with this place. It is clean, well lit and managed well. They are always friendly and helpful. Bought some great mooncakes for the Mid Autumn Fest and were reasonably priced. My 2 favs are their butter buns and steamed buns - best in Chinatown. Also they have a good selection of cakes, buns and cookies. You gotta try their custard cakes. There are like 8 or 9 bakeries in Chinatown. This one is at the top of my list.. The lady at the counter was very pleasant. I was on the hunt for the best big combination steamed buns (Baozi). It was good, but the bread to filling ratio needs improvement.. I really enjoyed my brief visit to St.Honore Pastries. I\\'d originally planned to go to one of the newer spots but I\\'ve been here many times and knew they wouldn\\'t disappoint me. I wish the rest of the city was like Chinatown that place is always jumping it feels like NYC. \\n\\nService 4.5/5\\nThe counter lady was all business but the two people in front of me were elderly and I thought she could have been a little gentler with their cake box. I\\'d a feeling there was an actual cake inside and the man commented to me that \"this is a peaceful place,\" right before she slammed his cake box on the counter. Now he epitomized customer loyalty but I could see (though he didn\\'t say it) he didn\\'t feel appreciated by the counter lady. A loyal customer is special and should be treated accordingly. \\n\\nAmbiance 3/5\\nI\\'ve been here before it\\'s not peaceful. But I enjoyed the people watching. There are usually senior citizens sitting together watching the news in Chinese with a cup of coffee or tea it\\'s lovely to see them. And even better b/c the scent of coffee wafting through the cafe/bakery smelled divine. I didn\\'t order it though b/c I\\'m a habitual insomniac so no caffeine for me after 2pm.\\n\\nFood\\nEgg tart 3/5\\nThough it was delicious it was way too sweet for me and i love sweets. The tart crust was perfect but the egg custard was too sweet. I won\\'t order it again although it was very creamy and otherwise cooked perfectly.\\n\\nRainbow cake 5/5\\nNot too sweet - it was perfect and just the right amount of frosting. The sponge cake was moist and had the right texture. I basically have the pallet of a little kid so if i see rainbow sprinkles i say yes please.\\n\\nMy check came to $2 so I highly recommend you make a visit and try different items b/c at those prices you can afford to take some risks !. The lady on the counter looked like she did not want to do business at all, her face was very unpleasant. I went to this store specifically to get their egg tarts cause they WERE delicious. Now, not anymore. The fillings had watery texture instead of the creamy taste they should have. \\n\\nI also ordered \"honey citron tea\" which the sign said $1.25, then the lady charged me $1.50. I positively thought they must have changed the price. As I went back, she got my order wrong and gave me \"honey ginseng tea\" instead. Ugh. I also bought a slice of tiramisu cake, and it was ok, not too sweet but I hardly tasted the coffee at all.\\n\\nI will not be back.. My favorite chinese bakery. I love their buns. And their eggtart is best in whole Chinatown'"
      ]
     },
     "execution_count": 12,
     "metadata": {},
     "output_type": "execute_result"
    }
   ],
   "source": [
    "#dd.text[0]"
   ]
  },
  {
   "cell_type": "code",
   "execution_count": 11,
   "id": "e4b43633",
   "metadata": {},
   "outputs": [
    {
     "data": {
      "text/plain": [
       "74"
      ]
     },
     "execution_count": 11,
     "metadata": {},
     "output_type": "execute_result"
    }
   ],
   "source": [
    "#len(dd.text[0].split(\".. \"))"
   ]
  },
  {
   "cell_type": "code",
   "execution_count": 34,
   "id": "32ba09d2",
   "metadata": {},
   "outputs": [],
   "source": [
    "#matrix = Tfidf_vectorizer.fit_transform(data_review['text'])"
   ]
  },
  {
   "cell_type": "code",
   "execution_count": 37,
   "id": "8c69d7f6",
   "metadata": {},
   "outputs": [
    {
     "name": "stdout",
     "output_type": "stream",
     "text": [
      "<class 'pandas.core.frame.DataFrame'>\n",
      "RangeIndex: 34987 entries, 0 to 34986\n",
      "Data columns (total 1 columns):\n",
      " #   Column  Non-Null Count  Dtype \n",
      "---  ------  --------------  ----- \n",
      " 0   0       34987 non-null  object\n",
      "dtypes: object(1)\n",
      "memory usage: 273.5+ KB\n"
     ]
    }
   ],
   "source": [
    "#pd.DataFrame(matrix).info()"
   ]
  },
  {
   "cell_type": "code",
   "execution_count": null,
   "id": "b10248aa",
   "metadata": {},
   "outputs": [],
   "source": []
  },
  {
   "cell_type": "code",
   "execution_count": null,
   "id": "145bcfcc",
   "metadata": {},
   "outputs": [],
   "source": []
  },
  {
   "cell_type": "code",
   "execution_count": null,
   "id": "116c5a35",
   "metadata": {},
   "outputs": [],
   "source": []
  },
  {
   "cell_type": "code",
   "execution_count": 8,
   "id": "4f1f8e8f",
   "metadata": {},
   "outputs": [],
   "source": [
    "attributes= df_res1.attributes.apply(lambda x: pd.Series(x,dtype='str'))\n",
    "hours=df_res1.hours.apply(lambda x: pd.Series(x,dtype='str'))"
   ]
  },
  {
   "cell_type": "code",
   "execution_count": 9,
   "id": "0502cbca",
   "metadata": {},
   "outputs": [],
   "source": [
    "hours=df_res1.hours.apply(lambda x: pd.Series(x,dtype='str'))\n",
    "hours['opendays_work'] = hours[['Monday','Tuesday','Wednesday','Thursday','Friday']].notna().sum(axis=1)\n",
    "hours['opendays_weekend'] = hours[['Saturday','Sunday']].notna().sum(axis=1)\n"
   ]
  },
  {
   "cell_type": "code",
   "execution_count": 10,
   "id": "59fafba6",
   "metadata": {
    "scrolled": true
   },
   "outputs": [],
   "source": [
    "o1,c1 = pd.DataFrame(), pd.DataFrame()\n",
    "for col in hours.columns[0:5]:\n",
    "    temp = hours[col].str.split('-', expand=True)\n",
    "    oo = temp[0].str.split(':').str.get(0)#.astype(int)\n",
    "    cc = temp[1].str.split(':').str.get(0)#.astype(int)\n",
    "    o1 = pd.concat([o1,oo],axis = 1) #.fillna(0).astype(int)\n",
    "    c1 = pd.concat([c1,cc],axis = 1) #.fillna(0).astype(int)\n",
    "o1 = o1.astype('float')\n",
    "#o1 = o1.astype('Int64')\n",
    "hours['open_workday'] = o1.mean(axis = 1, numeric_only=True)\n",
    "c1 = c1.astype('float')\n",
    "#c1 = c1.astype('Int64')\n",
    "hours['close_workday'] = c1.mean(axis = 1, numeric_only=True)"
   ]
  },
  {
   "cell_type": "code",
   "execution_count": 11,
   "id": "2076538a",
   "metadata": {},
   "outputs": [],
   "source": [
    "o2,c2 = pd.DataFrame(), pd.DataFrame()\n",
    "for col in hours.columns[5:7]:\n",
    "    temp = hours[col].str.split('-', expand=True)\n",
    "    oo = temp[0].str.split(':').str.get(0)#.astype(int)\n",
    "    cc = temp[1].str.split(':').str.get(0)#.astype(int)\n",
    "    o2 = pd.concat([o2,oo],axis = 1) #.fillna(0).astype(int)\n",
    "    c2 = pd.concat([c2,cc],axis = 1) #.fillna(0).astype(int)\n",
    "o2 = o2.astype('float')\n",
    "hours['open_weekend'] = o2.mean(axis = 1, numeric_only=True)\n",
    "c2 = c2.astype('float')\n",
    "hours['close_weekend'] = c2.mean(axis = 1, numeric_only=True)"
   ]
  },
  {
   "cell_type": "code",
   "execution_count": 12,
   "id": "d15383bf",
   "metadata": {},
   "outputs": [],
   "source": [
    "hours_res=hours[hours.columns[-6:]]"
   ]
  },
  {
   "cell_type": "code",
   "execution_count": 13,
   "id": "af95788b",
   "metadata": {},
   "outputs": [],
   "source": [
    "attributes_res=attributes[['RestaurantsDelivery','RestaurantsPriceRange2',\n",
    "                           'RestaurantsTakeOut','RestaurantsReservations',\n",
    "                           'Alcohol','HappyHour','OutdoorSeating']]"
   ]
  },
  {
   "cell_type": "code",
   "execution_count": 14,
   "id": "74aeaabe",
   "metadata": {},
   "outputs": [],
   "source": [
    "df_res1_att_ochour=pd.concat([df_res1,attributes_res, hours[hours.columns[-6:]]], axis=1).copy()\n",
    "data=df_res1_att_ochour.drop(['hours','attributes'],axis=1)"
   ]
  },
  {
   "cell_type": "code",
   "execution_count": 15,
   "id": "48c17bc6",
   "metadata": {},
   "outputs": [],
   "source": [
    "data.loc[data.RestaurantsPriceRange2.str.contains('None' ,na=True),'RestaurantsPriceRange2'] =0\n",
    "data.loc[data.RestaurantsTakeOut.str.contains('None' ,na=True),'RestaurantsTakeOut'] ='False'\n",
    "data.loc[data.RestaurantsDelivery.str.contains('None' ,na=True),'RestaurantsDelivery'] ='False'\n",
    "data.loc[data.RestaurantsReservations.str.contains('None' ,na=True),'RestaurantsReservations'] ='False'\n",
    "data.loc[data.OutdoorSeating.str.contains('None' ,na=True),'OutdoorSeating'] ='False'\n",
    "data.loc[data.HappyHour.str.contains('None' ,na=True),'HappyHour'] ='False'\n",
    "\n",
    "\n",
    "data.loc[data.Alcohol.str.contains('none' ,na=True),'Alcohol'] ='False'\n",
    "data.loc[data.Alcohol.str.contains('None' ,na=True),'Alcohol'] ='False'\n",
    "data.loc[data.Alcohol != 'False', 'Alcohol'] = 'True'\n",
    "\n",
    "\n",
    "data.open_workday = data.open_workday.fillna(0)\n",
    "data.close_workday = data.close_workday.fillna(0)\n",
    "data.open_weekend = data.open_weekend.fillna(24)\n",
    "data.close_weekend = data.close_weekend.fillna(24)"
   ]
  },
  {
   "cell_type": "code",
   "execution_count": 16,
   "id": "3127cc48",
   "metadata": {},
   "outputs": [],
   "source": [
    "a=data.categories.str.split(',')\n",
    "data['Service']=a.apply(lambda x: len(x))"
   ]
  },
  {
   "cell_type": "code",
   "execution_count": 17,
   "id": "9736a393",
   "metadata": {},
   "outputs": [],
   "source": [
    "#X=data[['review_count','Service','']]\n",
    "data.RestaurantsDelivery=pd.get_dummies(data.RestaurantsDelivery,prefix=\"RestaurantsDelivery\",drop_first=True)\n",
    "data.RestaurantsTakeOut=pd.get_dummies(data.RestaurantsTakeOut,prefix=\"RestaurantsTakeOut\",drop_first=True)\n",
    "data.RestaurantsReservations=pd.get_dummies(data.RestaurantsReservations,prefix=\"RestaurantsReservations\",drop_first=True)\n",
    "data.Alcohol=pd.get_dummies(data.Alcohol,prefix=\"Alcohol\",drop_first=True)\n",
    "data.HappyHour=pd.get_dummies(data.HappyHour,prefix=\"HappyHour\",drop_first=True)\n",
    "data.OutdoorSeating=pd.get_dummies(data.OutdoorSeating,prefix=\"OutdoorSeating\",drop_first=True)\n",
    "\n",
    "\n",
    "data.RestaurantsPriceRange2=data.RestaurantsPriceRange2.astype('float')\n"
   ]
  },
  {
   "cell_type": "code",
   "execution_count": 18,
   "id": "374f6c80",
   "metadata": {},
   "outputs": [
    {
     "name": "stdout",
     "output_type": "stream",
     "text": [
      "<class 'pandas.core.frame.DataFrame'>\n",
      "Int64Index: 34987 entries, 3 to 150339\n",
      "Data columns (total 26 columns):\n",
      " #   Column                   Non-Null Count  Dtype  \n",
      "---  ------                   --------------  -----  \n",
      " 0   business_id              34987 non-null  object \n",
      " 1   name                     34987 non-null  object \n",
      " 2   address                  34987 non-null  object \n",
      " 3   city                     34987 non-null  object \n",
      " 4   state                    34987 non-null  object \n",
      " 5   postal_code              34987 non-null  object \n",
      " 6   latitude                 34987 non-null  float64\n",
      " 7   longitude                34987 non-null  float64\n",
      " 8   stars                    34987 non-null  float64\n",
      " 9   review_count             34987 non-null  int64  \n",
      " 10  is_open                  34987 non-null  int64  \n",
      " 11  categories               34987 non-null  object \n",
      " 12  RestaurantsDelivery      34987 non-null  uint8  \n",
      " 13  RestaurantsPriceRange2   34987 non-null  float64\n",
      " 14  RestaurantsTakeOut       34987 non-null  uint8  \n",
      " 15  RestaurantsReservations  34987 non-null  uint8  \n",
      " 16  Alcohol                  34987 non-null  uint8  \n",
      " 17  HappyHour                34987 non-null  uint8  \n",
      " 18  OutdoorSeating           34987 non-null  uint8  \n",
      " 19  opendays_work            34987 non-null  int64  \n",
      " 20  opendays_weekend         34987 non-null  int64  \n",
      " 21  open_workday             34987 non-null  float64\n",
      " 22  close_workday            34987 non-null  float64\n",
      " 23  open_weekend             34987 non-null  float64\n",
      " 24  close_weekend            34987 non-null  float64\n",
      " 25  Service                  34987 non-null  int64  \n",
      "dtypes: float64(8), int64(5), object(7), uint8(6)\n",
      "memory usage: 5.8+ MB\n"
     ]
    }
   ],
   "source": [
    "data.info()"
   ]
  },
  {
   "cell_type": "code",
   "execution_count": 19,
   "id": "1f183952",
   "metadata": {},
   "outputs": [],
   "source": [
    "def normalize(df):\n",
    "    result = df.copy()\n",
    "    for feature_name in df.columns:\n",
    "        max_value = df[feature_name].max()\n",
    "        min_value = df[feature_name].min()\n",
    "        result[feature_name] = (df[feature_name] - min_value) / (max_value - min_value)\n",
    "    return result"
   ]
  },
  {
   "cell_type": "code",
   "execution_count": 21,
   "id": "d547d55f",
   "metadata": {},
   "outputs": [],
   "source": [
    "from decimal import Decimal\n",
    "def roundup(x):\n",
    "    s=[str(i) for i in x]\n",
    "    r=[Decimal(j).quantize(Decimal(\"1\"), rounding = \"ROUND_HALF_UP\") for j in s]\n",
    "    return np.array(r).astype(int)"
   ]
  },
  {
   "cell_type": "code",
   "execution_count": 23,
   "id": "0f90ad2c",
   "metadata": {},
   "outputs": [
    {
     "data": {
      "text/plain": [
       "array([4, 2, 2, ..., 4, 5, 5])"
      ]
     },
     "execution_count": 23,
     "metadata": {},
     "output_type": "execute_result"
    }
   ],
   "source": [
    "X=data[['review_count','Service','RestaurantsDelivery','RestaurantsPriceRange2','RestaurantsReservations',\n",
    "        'Alcohol','HappyHour','OutdoorSeating','opendays_weekend',\n",
    "        'open_workday' , 'close_workday','open_weekend' ,'close_weekend']]\n",
    "#Y=data[['stars']]*2\n",
    "\n",
    "#\n",
    "Y=roundup(data.stars)#data[['stars']]#.astype('int')\n",
    "\n",
    "y=np.array(data[['stars']])\n",
    "X.index=range(len(X))\n",
    "#Y.index=range(len(Y))\n",
    "#Y=pd.DataFrame(Y.values.astype(np.int_))\n",
    "#Y=np.asarray(Y)\n",
    "Y"
   ]
  },
  {
   "cell_type": "code",
   "execution_count": 25,
   "id": "435db72f",
   "metadata": {},
   "outputs": [],
   "source": [
    "from sklearn.model_selection import train_test_split"
   ]
  },
  {
   "cell_type": "code",
   "execution_count": 26,
   "id": "6843242f",
   "metadata": {},
   "outputs": [],
   "source": [
    "X=normalize(X)\n",
    "\n",
    "X_train,X_test,y_train,y_test = train_test_split(X,(Y),\n",
    "                                                       train_size=.8,  #default (only need one of train/test)\n",
    "                                                         test_size=.2,   #default\n",
    "                                                 stratify=Y,\n",
    "                                                         )"
   ]
  },
  {
   "cell_type": "code",
   "execution_count": null,
   "id": "d5efb261",
   "metadata": {},
   "outputs": [],
   "source": []
  },
  {
   "cell_type": "code",
   "execution_count": 939,
   "id": "4e671e82",
   "metadata": {},
   "outputs": [],
   "source": [
    "from sklearn.preprocessing import StandardScaler\n",
    "from sklearn.preprocessing import MinMaxScaler\n",
    "\n",
    "\n",
    "# instantiate\n",
    "ss = StandardScaler() # default is center and scale\n",
    "\n",
    "# fit to the data\n",
    "ss.fit(X_new)\n",
    "\n",
    "# transform the data\n",
    "X_ss = ss.transform(X_new)\n",
    "\n",
    "X_mms = MinMaxScaler(feature_range=(0,1)).fit_transform(X_new)\n",
    "\n",
    "\n",
    "X_train,X_test,y_train,y_test = train_test_split(X_mms,Y,\n",
    "                                                         train_size=.8,  #default (only need one of train/test)\n",
    "                                                         test_size=.2,   #default\n",
    "                                                         stratify=Y,\n",
    "                                                         random_state=123)"
   ]
  },
  {
   "cell_type": "code",
   "execution_count": 596,
   "id": "0635959c",
   "metadata": {},
   "outputs": [],
   "source": [
    "from sklearn.linear_model import LinearRegression\n",
    "import statsmodels.api as sm\n",
    "from sklearn.linear_model import Ridge\n",
    "from sklearn.linear_model import Lasso"
   ]
  },
  {
   "cell_type": "code",
   "execution_count": 814,
   "id": "39219eab",
   "metadata": {
    "collapsed": true
   },
   "outputs": [
    {
     "data": {
      "text/html": [
       "<table class=\"simpletable\">\n",
       "<caption>OLS Regression Results</caption>\n",
       "<tr>\n",
       "  <th>Dep. Variable:</th>            <td>y</td>        <th>  R-squared (uncentered):</th>      <td>   0.002</td> \n",
       "</tr>\n",
       "<tr>\n",
       "  <th>Model:</th>                   <td>OLS</td>       <th>  Adj. R-squared (uncentered):</th> <td>   0.002</td> \n",
       "</tr>\n",
       "<tr>\n",
       "  <th>Method:</th>             <td>Least Squares</td>  <th>  F-statistic:       </th>          <td>   56.44</td> \n",
       "</tr>\n",
       "<tr>\n",
       "  <th>Date:</th>             <td>Tue, 29 Mar 2022</td> <th>  Prob (F-statistic):</th>          <td>5.92e-14</td> \n",
       "</tr>\n",
       "<tr>\n",
       "  <th>Time:</th>                 <td>03:47:52</td>     <th>  Log-Likelihood:    </th>          <td> -94703.</td> \n",
       "</tr>\n",
       "<tr>\n",
       "  <th>No. Observations:</th>      <td> 34987</td>      <th>  AIC:               </th>          <td>1.894e+05</td>\n",
       "</tr>\n",
       "<tr>\n",
       "  <th>Df Residuals:</th>          <td> 34986</td>      <th>  BIC:               </th>          <td>1.894e+05</td>\n",
       "</tr>\n",
       "<tr>\n",
       "  <th>Df Model:</th>              <td>     1</td>      <th>                     </th>              <td> </td>    \n",
       "</tr>\n",
       "<tr>\n",
       "  <th>Covariance Type:</th>      <td>nonrobust</td>    <th>                     </th>              <td> </td>    \n",
       "</tr>\n",
       "</table>\n",
       "<table class=\"simpletable\">\n",
       "<tr>\n",
       "        <td></td>          <th>coef</th>     <th>std err</th>      <th>t</th>      <th>P>|t|</th>  <th>[0.025</th>    <th>0.975]</th>  \n",
       "</tr>\n",
       "<tr>\n",
       "  <th>review_count</th> <td>    0.1456</td> <td>    0.019</td> <td>    7.513</td> <td> 0.000</td> <td>    0.108</td> <td>    0.184</td>\n",
       "</tr>\n",
       "</table>\n",
       "<table class=\"simpletable\">\n",
       "<tr>\n",
       "  <th>Omnibus:</th>       <td>1723.047</td> <th>  Durbin-Watson:     </th> <td>   0.110</td>\n",
       "</tr>\n",
       "<tr>\n",
       "  <th>Prob(Omnibus):</th>  <td> 0.000</td>  <th>  Jarque-Bera (JB):  </th> <td>1978.507</td>\n",
       "</tr>\n",
       "<tr>\n",
       "  <th>Skew:</th>           <td>-0.579</td>  <th>  Prob(JB):          </th> <td>    0.00</td>\n",
       "</tr>\n",
       "<tr>\n",
       "  <th>Kurtosis:</th>       <td> 2.865</td>  <th>  Cond. No.          </th> <td>    1.00</td>\n",
       "</tr>\n",
       "</table><br/><br/>Notes:<br/>[1] R² is computed without centering (uncentered) since the model does not contain a constant.<br/>[2] Standard Errors assume that the covariance matrix of the errors is correctly specified."
      ],
      "text/plain": [
       "<class 'statsmodels.iolib.summary.Summary'>\n",
       "\"\"\"\n",
       "                                 OLS Regression Results                                \n",
       "=======================================================================================\n",
       "Dep. Variable:                      y   R-squared (uncentered):                   0.002\n",
       "Model:                            OLS   Adj. R-squared (uncentered):              0.002\n",
       "Method:                 Least Squares   F-statistic:                              56.44\n",
       "Date:                Tue, 29 Mar 2022   Prob (F-statistic):                    5.92e-14\n",
       "Time:                        03:47:52   Log-Likelihood:                         -94703.\n",
       "No. Observations:               34987   AIC:                                  1.894e+05\n",
       "Df Residuals:                   34986   BIC:                                  1.894e+05\n",
       "Df Model:                           1                                                  \n",
       "Covariance Type:            nonrobust                                                  \n",
       "================================================================================\n",
       "                   coef    std err          t      P>|t|      [0.025      0.975]\n",
       "--------------------------------------------------------------------------------\n",
       "review_count     0.1456      0.019      7.513      0.000       0.108       0.184\n",
       "==============================================================================\n",
       "Omnibus:                     1723.047   Durbin-Watson:                   0.110\n",
       "Prob(Omnibus):                  0.000   Jarque-Bera (JB):             1978.507\n",
       "Skew:                          -0.579   Prob(JB):                         0.00\n",
       "Kurtosis:                       2.865   Cond. No.                         1.00\n",
       "==============================================================================\n",
       "\n",
       "Notes:\n",
       "[1] R² is computed without centering (uncentered) since the model does not contain a constant.\n",
       "[2] Standard Errors assume that the covariance matrix of the errors is correctly specified.\n",
       "\"\"\""
      ]
     },
     "execution_count": 814,
     "metadata": {},
     "output_type": "execute_result"
    }
   ],
   "source": [
    "\n",
    "X_train = sm.add_constant(X_train)\n",
    "# linear regression model\n",
    "sm_mlr = sm.OLS(np.asarray(y_train),X_train).fit() # Note: X,y passed as parameters to object, not fit\n",
    "sm_mlr.summary()"
   ]
  },
  {
   "cell_type": "code",
   "execution_count": 1089,
   "id": "8abf5f5a",
   "metadata": {
    "scrolled": false
   },
   "outputs": [],
   "source": [
    "# regression data\n",
    "X_new=data[[\"review_count\", \"RestaurantsDelivery\", \"RestaurantsPriceRange2\", \n",
    "              'open_weekend' ,'close_weekend',\n",
    "            'Service']]\n",
    "#Y=round(data[['stars']]).astype('int')\n",
    "Y=data[['stars']]\n",
    "X.index=range(len(X))\n",
    "Y.index=range(len(Y))\n",
    "#\n",
    "#Y=pd.DataFrame(Y.values.astype(np.int_))\n",
    "Y=np.array(Y).ravel()\n",
    "X_new=normalize(X_new)\n",
    "\n",
    "X_train,X_test,y_train,y_test = train_test_split(X_new,Y,\n",
    "                                                         train_size=.8,  #default (only need one of train/test)\n",
    "                                                         test_size=.2,   #default\n",
    "                                                 stratify=Y,\n",
    "                                                         )"
   ]
  },
  {
   "cell_type": "markdown",
   "id": "a7aeaf9f",
   "metadata": {},
   "source": [
    "# Regressor"
   ]
  },
  {
   "cell_type": "markdown",
   "id": "9a6128c5",
   "metadata": {},
   "source": [
    "## GradientBoostingRegressor"
   ]
  },
  {
   "cell_type": "code",
   "execution_count": 1069,
   "id": "f7766ddc",
   "metadata": {
    "scrolled": true
   },
   "outputs": [
    {
     "name": "stdout",
     "output_type": "stream",
     "text": [
      "best parameter setting found: {'n_estimators': 200}\n",
      "best training score found   : 0.369\n",
      "gbr_gscv test score  : 0.369\n"
     ]
    }
   ],
   "source": [
    "param_grid = {\n",
    "              'n_estimators': [10,50,100,200]}\n",
    "gbr_gscv = GridSearchCV(estimator=GradientBoostingRegressor(),\n",
    "                         param_grid=param_grid,\n",
    "                         cv=3,\n",
    "                         n_jobs=-1).fit(X_train,y_train)\n",
    "\n",
    "print(f'best parameter setting found: {gbr_gscv.best_params_}')\n",
    "print(f'best training score found   : {gbr_gscv.best_score_.round(3)}')\n",
    "\n",
    "gbr_gscv_test_score = gbr_gscv.score(X_test,y_test)\n",
    "\n",
    "print(f'gbr_gscv test score  : {gbr_gscv_test_score.round(3)}')\n",
    "\n",
    "\n",
    "gbr= GradientBoostingRegressor(n_estimators=200)\n",
    "gbr.fit(X_train,y_train);\n",
    "gbr.score(X_test,y_test)"
   ]
  },
  {
   "cell_type": "code",
   "execution_count": 1099,
   "id": "7b147168",
   "metadata": {
    "scrolled": true
   },
   "outputs": [
    {
     "data": {
      "text/plain": [
       "0.5923120891683338"
      ]
     },
     "execution_count": 1099,
     "metadata": {},
     "output_type": "execute_result"
    }
   ],
   "source": [
    "from sklearn.metrics import accuracy_score\n",
    "y_pre_gbr=gbr.predict(X_test)\n",
    "accuracy_score((y_test).round(0),(y_pre_gbr).round(0))"
   ]
  },
  {
   "cell_type": "markdown",
   "id": "7d4dd3ba",
   "metadata": {},
   "source": [
    "## RandomForestRegressor"
   ]
  },
  {
   "cell_type": "code",
   "execution_count": 1092,
   "id": "3a7ca94c",
   "metadata": {},
   "outputs": [
    {
     "name": "stdout",
     "output_type": "stream",
     "text": [
      "best parameter setting found: {'max_depth': 10, 'n_estimators': 100}\n",
      "best training score found   : 0.373\n",
      "rfc_gscv test score  : 0.374\n"
     ]
    }
   ],
   "source": [
    "from sklearn.ensemble import RandomForestRegressor\n",
    "param_grid = {\n",
    "              'n_estimators': [10,50,100],\n",
    "                'max_depth':[3,5,8,10,30]}\n",
    "rfc_gscv = GridSearchCV(estimator=RandomForestRegressor(),\n",
    "                         param_grid=param_grid,\n",
    "                         cv=3,\n",
    "                         n_jobs=-1).fit(X_train,y_train)\n",
    "\n",
    "print(f'best parameter setting found: {rfc_gscv.best_params_}')\n",
    "print(f'best training score found   : {rfc_gscv.best_score_.round(3)}')\n",
    "\n",
    "rfc_gscv_test_score = rfc_gscv.score(X_test,y_test)\n",
    "\n",
    "print(f'rfc_gscv test score  : {rfc_gscv_test_score.round(3)}')"
   ]
  },
  {
   "cell_type": "code",
   "execution_count": 1093,
   "id": "aa6ef112",
   "metadata": {},
   "outputs": [
    {
     "data": {
      "text/plain": [
       "0.6255752136507846"
      ]
     },
     "execution_count": 1093,
     "metadata": {},
     "output_type": "execute_result"
    }
   ],
   "source": [
    "rfr = RandomForestRegressor(max_depth=10, n_estimators=100)\n",
    "rfr.fit(X_train,y_train)\n",
    "rfr.score(X_test, y_test)\n",
    "y_pre_rfr=rfr.predict(X_new)\n",
    "accuracy_score((Y).round(0),(y_pre_rfr).round(0))"
   ]
  },
  {
   "cell_type": "code",
   "execution_count": 1100,
   "id": "05dc3e6c",
   "metadata": {
    "scrolled": true
   },
   "outputs": [
    {
     "data": {
      "text/plain": [
       "(<Figure size 432x288 with 1 Axes>,\n",
       " <AxesSubplot:xlabel='predicted label', ylabel='true label'>)"
      ]
     },
     "execution_count": 1100,
     "metadata": {},
     "output_type": "execute_result"
    },
    {
     "data": {
      "image/png": "[encoded data removed]",
      "text/plain": [
       "<Figure size 432x288 with 1 Axes>"
      ]
     },
     "metadata": {},
     "output_type": "display_data"
    }
   ],
   "source": [
    "from sklearn.metrics import confusion_matrix\n",
    "from mlxtend.plotting import plot_confusion_matrix\n",
    "\n",
    "\n",
    "\n",
    "plot_confusion_matrix(confusion_matrix(y_test.round(0),(y_pre_gbr).round(0)))"
   ]
  },
  {
   "cell_type": "markdown",
   "id": "c2dada1e",
   "metadata": {},
   "source": [
    "# Stacking Regressors"
   ]
  },
  {
   "cell_type": "code",
   "execution_count": 1096,
   "id": "b78b6101",
   "metadata": {
    "scrolled": true
   },
   "outputs": [
    {
     "data": {
      "text/plain": [
       "0.38239541702341195"
      ]
     },
     "execution_count": 1096,
     "metadata": {},
     "output_type": "execute_result"
    }
   ],
   "source": [
    "from sklearn.ensemble import StackingRegressor\n",
    "from sklearn.tree import DecisionTreeRegressor\n",
    "from sklearn.neighbors import KNeighborsRegressor\n",
    "\n",
    "ensemble = [\n",
    "            ('gbr', GradientBoostingRegressor(n_estimators=200)),\n",
    "            ('dt',RandomForestRegressor(max_depth=10)),\n",
    "            ('knn',KNeighborsRegressor(n_neighbors=10))]\n",
    "\n",
    "stackr = StackingRegressor(estimators=ensemble,\n",
    "                           final_estimator=LinearRegression())\n",
    "stackr.fit(X_train,y_train)\n",
    "\n",
    "stackr.score(X_test, y_test)"
   ]
  },
  {
   "cell_type": "code",
   "execution_count": 1097,
   "id": "b2b17df4",
   "metadata": {},
   "outputs": [
    {
     "data": {
      "text/plain": [
       "0.6016004572735068"
      ]
     },
     "execution_count": 1097,
     "metadata": {},
     "output_type": "execute_result"
    }
   ],
   "source": [
    "y_pre_stackr=stackr.predict(X_test)\n",
    "accuracy_score((y_test).round(0),(y_pre_stackr).round(0))"
   ]
  },
  {
   "cell_type": "code",
   "execution_count": 1081,
   "id": "ce838b2f",
   "metadata": {},
   "outputs": [
    {
     "name": "stdout",
     "output_type": "stream",
     "text": [
      "stackr_mse = 0.46\n"
     ]
    }
   ],
   "source": [
    "stackr_mse = mean_squared_error(y_test,y_pre_stackr)\n",
    "print(f'{stackr_mse = :0.2f}')"
   ]
  },
  {
   "cell_type": "code",
   "execution_count": 1080,
   "id": "8ca7c185",
   "metadata": {
    "scrolled": true
   },
   "outputs": [
    {
     "data": {
      "text/plain": [
       "(<Figure size 432x288 with 1 Axes>,\n",
       " <AxesSubplot:xlabel='predicted label', ylabel='true label'>)"
      ]
     },
     "execution_count": 1080,
     "metadata": {},
     "output_type": "execute_result"
    },
    {
     "data": {
      "image/png": "[encoded data removed]",
      "text/plain": [
       "<Figure size 432x288 with 1 Axes>"
      ]
     },
     "metadata": {},
     "output_type": "display_data"
    }
   ],
   "source": [
    "plot_confusion_matrix(confusion_matrix((y_test).round(0),(y_pre_stackr).round(0)))"
   ]
  },
  {
   "cell_type": "code",
   "execution_count": null,
   "id": "3ff390b3",
   "metadata": {},
   "outputs": [],
   "source": []
  },
  {
   "cell_type": "code",
   "execution_count": 1102,
   "id": "a7aae222",
   "metadata": {},
   "outputs": [],
   "source": [
    "#classification data\n",
    "X_new=data[[\"review_count\", \"RestaurantsDelivery\", \"RestaurantsPriceRange2\", \n",
    "              'open_weekend' ,'close_weekend',\n",
    "            'Service']]\n",
    "Y=round(data[['stars']]).astype('int')\n",
    "#Y=data[['stars']]\n",
    "X.index=range(len(X))\n",
    "Y.index=range(len(Y))\n",
    "#\n",
    "#Y=pd.DataFrame(Y.values.astype(np.int_))\n",
    "Y=np.array(Y).ravel()\n",
    "X_new=normalize(X_new)\n",
    "\n",
    "X_train,X_test,y_train,y_test = train_test_split(X_new,Y,\n",
    "                                                         train_size=.8,  #default (only need one of train/test)\n",
    "                                                         test_size=.2,   #default\n",
    "                                                 stratify=Y,\n",
    "                                                         )"
   ]
  },
  {
   "cell_type": "code",
   "execution_count": 29,
   "id": "19554f14",
   "metadata": {},
   "outputs": [],
   "source": [
    "from sklearn.metrics import confusion_matrix\n",
    "from mlxtend.plotting import plot_confusion_matrix\n",
    "from sklearn.model_selection import GridSearchCV"
   ]
  },
  {
   "cell_type": "markdown",
   "id": "a8d537b2",
   "metadata": {},
   "source": [
    "# RandomForestClassifier\n"
   ]
  },
  {
   "cell_type": "code",
   "execution_count": 30,
   "id": "5c00f1a5",
   "metadata": {
    "scrolled": false
   },
   "outputs": [
    {
     "name": "stdout",
     "output_type": "stream",
     "text": [
      "best parameter setting found: {'max_depth': 10, 'n_estimators': 50}\n",
      "best training score found   : 0.545\n",
      "rfc_gscv test score  : 0.545\n"
     ]
    }
   ],
   "source": [
    "from sklearn.ensemble import RandomForestClassifier\n",
    "param_grid = {\n",
    "              'n_estimators': [10,50,100],\n",
    "                'max_depth':[3,5,8,10]}\n",
    "rfc_gscv = GridSearchCV(estimator=RandomForestClassifier(),\n",
    "                         param_grid=param_grid,\n",
    "                         cv=3,\n",
    "                         n_jobs=-1).fit(X_train,y_train)\n",
    "\n",
    "print(f'best parameter setting found: {rfc_gscv.best_params_}')\n",
    "print(f'best training score found   : {rfc_gscv.best_score_.round(3)}')\n",
    "\n",
    "rfc_gscv_test_score = rfc_gscv.score(X_test,y_test)\n",
    "\n",
    "print(f'rfc_gscv test score  : {rfc_gscv_test_score.round(3)}')"
   ]
  },
  {
   "cell_type": "code",
   "execution_count": 31,
   "id": "28e61a33",
   "metadata": {},
   "outputs": [
    {
     "data": {
      "text/plain": [
       "0.5441554729922835"
      ]
     },
     "execution_count": 31,
     "metadata": {},
     "output_type": "execute_result"
    }
   ],
   "source": [
    "rfc = RandomForestClassifier(max_depth=10, n_estimators=100)\n",
    "rfc.fit(X_train,y_train)\n",
    "rfc.score(X_test, y_test)"
   ]
  },
  {
   "cell_type": "code",
   "execution_count": 32,
   "id": "f63ffa6e",
   "metadata": {},
   "outputs": [
    {
     "data": {
      "text/plain": [
       "(<Figure size 432x288 with 1 Axes>,\n",
       " <AxesSubplot:xlabel='predicted label', ylabel='true label'>)"
      ]
     },
     "execution_count": 32,
     "metadata": {},
     "output_type": "execute_result"
    },
    {
     "data": {
      "image/png": "[encoded data removed]",
      "text/plain": [
       "<Figure size 432x288 with 1 Axes>"
      ]
     },
     "metadata": {},
     "output_type": "display_data"
    }
   ],
   "source": [
    "y_pre_rfc=rfc.predict(X_test)\n",
    "plot_confusion_matrix(confusion_matrix(y_test,(y_pre_rfc)))"
   ]
  },
  {
   "cell_type": "code",
   "execution_count": 1114,
   "id": "040d138c",
   "metadata": {},
   "outputs": [
    {
     "data": {
      "text/html": [
       "<div>\n",
       "<style scoped>\n",
       "    .dataframe tbody tr th:only-of-type {\n",
       "        vertical-align: middle;\n",
       "    }\n",
       "\n",
       "    .dataframe tbody tr th {\n",
       "        vertical-align: top;\n",
       "    }\n",
       "\n",
       "    .dataframe thead th {\n",
       "        text-align: right;\n",
       "    }\n",
       "</style>\n",
       "<table border=\"1\" class=\"dataframe\">\n",
       "  <thead>\n",
       "    <tr style=\"text-align: right;\">\n",
       "      <th></th>\n",
       "      <th>factors</th>\n",
       "      <th>importance</th>\n",
       "    </tr>\n",
       "  </thead>\n",
       "  <tbody>\n",
       "    <tr>\n",
       "      <th>0</th>\n",
       "      <td>review_count</td>\n",
       "      <td>0.318554</td>\n",
       "    </tr>\n",
       "    <tr>\n",
       "      <th>1</th>\n",
       "      <td>RestaurantsDelivery</td>\n",
       "      <td>0.089516</td>\n",
       "    </tr>\n",
       "    <tr>\n",
       "      <th>2</th>\n",
       "      <td>RestaurantsPriceRange2</td>\n",
       "      <td>0.114135</td>\n",
       "    </tr>\n",
       "    <tr>\n",
       "      <th>3</th>\n",
       "      <td>open_weekend</td>\n",
       "      <td>0.170404</td>\n",
       "    </tr>\n",
       "    <tr>\n",
       "      <th>4</th>\n",
       "      <td>close_weekend</td>\n",
       "      <td>0.214273</td>\n",
       "    </tr>\n",
       "    <tr>\n",
       "      <th>5</th>\n",
       "      <td>Service</td>\n",
       "      <td>0.093119</td>\n",
       "    </tr>\n",
       "  </tbody>\n",
       "</table>\n",
       "</div>"
      ],
      "text/plain": [
       "                  factors  importance\n",
       "0            review_count    0.318554\n",
       "1     RestaurantsDelivery    0.089516\n",
       "2  RestaurantsPriceRange2    0.114135\n",
       "3            open_weekend    0.170404\n",
       "4           close_weekend    0.214273\n",
       "5                 Service    0.093119"
      ]
     },
     "execution_count": 1114,
     "metadata": {},
     "output_type": "execute_result"
    }
   ],
   "source": [
    "imp = pd.concat([pd.DataFrame(np.array(X_new.columns), columns=[\"factors\"]), \n",
    "                 pd.DataFrame(rfc.feature_importances_, columns=[\"importance\"])], axis=1)\n",
    "(imp)"
   ]
  },
  {
   "cell_type": "markdown",
   "id": "081318e2",
   "metadata": {},
   "source": [
    "# GradientBoostingClassifier"
   ]
  },
  {
   "cell_type": "code",
   "execution_count": 33,
   "id": "2cb1dc6f",
   "metadata": {
    "scrolled": true
   },
   "outputs": [
    {
     "name": "stdout",
     "output_type": "stream",
     "text": [
      "best parameter setting found: {'n_estimators': 200}\n",
      "best training score found   : 0.543\n"
     ]
    }
   ],
   "source": [
    "from sklearn.ensemble import GradientBoostingClassifier\n",
    "param_grid = {\n",
    "              'n_estimators': [10,50,100,200]}\n",
    "gbc_gscv = GridSearchCV(estimator=GradientBoostingClassifier(),\n",
    "                         param_grid=param_grid,\n",
    "                         cv=3,\n",
    "                         n_jobs=-1).fit(X_train,y_train)\n",
    "\n",
    "print(f'best parameter setting found: {gbc_gscv.best_params_}')\n",
    "print(f'best training score found   : {gbc_gscv.best_score_.round(3)}')\n",
    "\n",
    "gbc_gscv_test_score = gbc_gscv.score(X_test,y_test)"
   ]
  },
  {
   "cell_type": "code",
   "execution_count": 34,
   "id": "0d476a23",
   "metadata": {},
   "outputs": [
    {
     "data": {
      "text/plain": [
       "0.5492997999428408"
      ]
     },
     "execution_count": 34,
     "metadata": {},
     "output_type": "execute_result"
    }
   ],
   "source": [
    "gbc = GradientBoostingClassifier(n_estimators=200)\n",
    "gbc.fit(X_train,y_train)\n",
    "gbc.score(X_test, y_test)"
   ]
  },
  {
   "cell_type": "code",
   "execution_count": 35,
   "id": "786941a2",
   "metadata": {},
   "outputs": [
    {
     "data": {
      "text/plain": [
       "(<Figure size 432x288 with 1 Axes>,\n",
       " <AxesSubplot:xlabel='predicted label', ylabel='true label'>)"
      ]
     },
     "execution_count": 35,
     "metadata": {},
     "output_type": "execute_result"
    },
    {
     "data": {
      "image/png": "[encoded data removed]",
      "text/plain": [
       "<Figure size 432x288 with 1 Axes>"
      ]
     },
     "metadata": {},
     "output_type": "display_data"
    }
   ],
   "source": [
    "y_pre_gbc=gbc.predict(X_test)\n",
    "plot_confusion_matrix(confusion_matrix(y_test,(y_pre_gbc)))"
   ]
  },
  {
   "cell_type": "code",
   "execution_count": 1113,
   "id": "7d17d9d3",
   "metadata": {
    "scrolled": true
   },
   "outputs": [
    {
     "data": {
      "text/plain": [
       "(<Figure size 432x288 with 1 Axes>,\n",
       " <AxesSubplot:xlabel='predicted label', ylabel='true label'>)"
      ]
     },
     "execution_count": 1113,
     "metadata": {},
     "output_type": "execute_result"
    },
    {
     "data": {
      "image/png": "[encoded data removed]",
      "text/plain": [
       "<Figure size 432x288 with 1 Axes>"
      ]
     },
     "metadata": {},
     "output_type": "display_data"
    }
   ],
   "source": [
    "y_pre_gbc=gbc.predict(X_test)\n",
    "plot_confusion_matrix(confusion_matrix(y_test,(y_pre_gbc)))"
   ]
  },
  {
   "cell_type": "code",
   "execution_count": 1115,
   "id": "21eca199",
   "metadata": {},
   "outputs": [
    {
     "data": {
      "text/html": [
       "<div>\n",
       "<style scoped>\n",
       "    .dataframe tbody tr th:only-of-type {\n",
       "        vertical-align: middle;\n",
       "    }\n",
       "\n",
       "    .dataframe tbody tr th {\n",
       "        vertical-align: top;\n",
       "    }\n",
       "\n",
       "    .dataframe thead th {\n",
       "        text-align: right;\n",
       "    }\n",
       "</style>\n",
       "<table border=\"1\" class=\"dataframe\">\n",
       "  <thead>\n",
       "    <tr style=\"text-align: right;\">\n",
       "      <th></th>\n",
       "      <th>factors</th>\n",
       "      <th>importance</th>\n",
       "    </tr>\n",
       "  </thead>\n",
       "  <tbody>\n",
       "    <tr>\n",
       "      <th>0</th>\n",
       "      <td>review_count</td>\n",
       "      <td>0.354094</td>\n",
       "    </tr>\n",
       "    <tr>\n",
       "      <th>1</th>\n",
       "      <td>RestaurantsDelivery</td>\n",
       "      <td>0.120427</td>\n",
       "    </tr>\n",
       "    <tr>\n",
       "      <th>2</th>\n",
       "      <td>RestaurantsPriceRange2</td>\n",
       "      <td>0.101749</td>\n",
       "    </tr>\n",
       "    <tr>\n",
       "      <th>3</th>\n",
       "      <td>open_weekend</td>\n",
       "      <td>0.154940</td>\n",
       "    </tr>\n",
       "    <tr>\n",
       "      <th>4</th>\n",
       "      <td>close_weekend</td>\n",
       "      <td>0.215799</td>\n",
       "    </tr>\n",
       "    <tr>\n",
       "      <th>5</th>\n",
       "      <td>Service</td>\n",
       "      <td>0.052991</td>\n",
       "    </tr>\n",
       "  </tbody>\n",
       "</table>\n",
       "</div>"
      ],
      "text/plain": [
       "                  factors  importance\n",
       "0            review_count    0.354094\n",
       "1     RestaurantsDelivery    0.120427\n",
       "2  RestaurantsPriceRange2    0.101749\n",
       "3            open_weekend    0.154940\n",
       "4           close_weekend    0.215799\n",
       "5                 Service    0.052991"
      ]
     },
     "execution_count": 1115,
     "metadata": {},
     "output_type": "execute_result"
    }
   ],
   "source": [
    "imp = pd.concat([pd.DataFrame(np.array(X_new.columns), columns=[\"factors\"]), \n",
    "                 pd.DataFrame(gbc.feature_importances_, columns=[\"importance\"])], axis=1)\n",
    "(imp)"
   ]
  },
  {
   "cell_type": "code",
   "execution_count": null,
   "id": "3f733ec1",
   "metadata": {},
   "outputs": [],
   "source": [
    "stackr_mse = mean_squared_error(Y,y_pre_stackc)\n",
    "print(f'{stackr_mse = :0.2f}')"
   ]
  },
  {
   "cell_type": "code",
   "execution_count": 1106,
   "id": "4a12f059",
   "metadata": {},
   "outputs": [
    {
     "data": {
      "text/plain": [
       "0.6853386681909117"
      ]
     },
     "execution_count": 1106,
     "metadata": {},
     "output_type": "execute_result"
    }
   ],
   "source": [
    "from sklearn.neighbors import KNeighborsClassifier\n",
    "\n",
    "\n",
    "knc = KNeighborsClassifier(n_neighbors=10)\n",
    "knc.fit(X_train,y_train)\n",
    "knc.score(X_test, y_test)"
   ]
  },
  {
   "cell_type": "markdown",
   "id": "9fb33c18",
   "metadata": {},
   "source": [
    "# Stacking Classifiers (nothing different"
   ]
  },
  {
   "cell_type": "code",
   "execution_count": 1105,
   "id": "accaf772",
   "metadata": {},
   "outputs": [
    {
     "data": {
      "text/plain": [
       "0.7052014861388969"
      ]
     },
     "execution_count": 1105,
     "metadata": {},
     "output_type": "execute_result"
    }
   ],
   "source": [
    "from sklearn.ensemble import StackingClassifier\n",
    "from sklearn.ensemble import RandomForestClassifier\n",
    "from sklearn.ensemble import GradientBoostingClassifier\n",
    "\n",
    "\n",
    "ensemble = [\n",
    "            ('gbc', GradientBoostingClassifier(n_estimators=200)),\n",
    "            ('rfc',RandomForestClassifier(max_depth=10,n_estimators=100)),\n",
    "            ('knn',KNeighborsClassifier(n_neighbors=10))]\n",
    "\n",
    "stackc = StackingClassifier(estimators=ensemble,\n",
    "                           final_estimator=GradientBoostingClassifier())\n",
    "stackc.fit(X_train,y_train)\n",
    "\n",
    "stackc.score(X_test, y_test)"
   ]
  },
  {
   "cell_type": "code",
   "execution_count": 1107,
   "id": "719b114a",
   "metadata": {},
   "outputs": [],
   "source": [
    "y_pre_stackc=stackc.predict(X_test)"
   ]
  },
  {
   "cell_type": "code",
   "execution_count": 1108,
   "id": "3ceba867",
   "metadata": {},
   "outputs": [
    {
     "name": "stdout",
     "output_type": "stream",
     "text": [
      "stackr_mse = 0.69\n"
     ]
    }
   ],
   "source": [
    "stackr_mse = mean_squared_error(y_test,y_pre_stackc)\n",
    "print(f'{stackr_mse = :0.2f}')"
   ]
  },
  {
   "cell_type": "code",
   "execution_count": 1016,
   "id": "366a2201",
   "metadata": {},
   "outputs": [
    {
     "data": {
      "text/plain": [
       "array([3, 3, 3, ..., 2, 3, 4])"
      ]
     },
     "execution_count": 1016,
     "metadata": {},
     "output_type": "execute_result"
    }
   ],
   "source": [
    "y_test"
   ]
  },
  {
   "cell_type": "code",
   "execution_count": 1109,
   "id": "10e05f37",
   "metadata": {},
   "outputs": [
    {
     "data": {
      "text/plain": [
       "(<Figure size 432x288 with 1 Axes>,\n",
       " <AxesSubplot:xlabel='predicted label', ylabel='true label'>)"
      ]
     },
     "execution_count": 1109,
     "metadata": {},
     "output_type": "execute_result"
    },
    {
     "data": {
      "image/png": "[encoded data removed]",
      "text/plain": [
       "<Figure size 432x288 with 1 Axes>"
      ]
     },
     "metadata": {},
     "output_type": "display_data"
    }
   ],
   "source": [
    "plot_confusion_matrix(confusion_matrix(y_test,(y_pre_stackc)))"
   ]
  },
  {
   "cell_type": "code",
   "execution_count": null,
   "id": "be967873",
   "metadata": {},
   "outputs": [],
   "source": []
  },
  {
   "cell_type": "code",
   "execution_count": null,
   "id": "6a3d6b38",
   "metadata": {},
   "outputs": [],
   "source": [
    " RandomForestClassifier(max_depth=30)"
   ]
  },
  {
   "cell_type": "code",
   "execution_count": 947,
   "id": "48b7015a",
   "metadata": {},
   "outputs": [
    {
     "data": {
      "text/html": [
       "<div>\n",
       "<style scoped>\n",
       "    .dataframe tbody tr th:only-of-type {\n",
       "        vertical-align: middle;\n",
       "    }\n",
       "\n",
       "    .dataframe tbody tr th {\n",
       "        vertical-align: top;\n",
       "    }\n",
       "\n",
       "    .dataframe thead th {\n",
       "        text-align: right;\n",
       "    }\n",
       "</style>\n",
       "<table border=\"1\" class=\"dataframe\">\n",
       "  <thead>\n",
       "    <tr style=\"text-align: right;\">\n",
       "      <th></th>\n",
       "      <th>factors</th>\n",
       "      <th>importance</th>\n",
       "    </tr>\n",
       "  </thead>\n",
       "  <tbody>\n",
       "    <tr>\n",
       "      <th>0</th>\n",
       "      <td>review_count</td>\n",
       "      <td>0.169726</td>\n",
       "    </tr>\n",
       "    <tr>\n",
       "      <th>1</th>\n",
       "      <td>RestaurantsDelivery</td>\n",
       "      <td>0.115482</td>\n",
       "    </tr>\n",
       "    <tr>\n",
       "      <th>2</th>\n",
       "      <td>RestaurantsPriceRange2</td>\n",
       "      <td>0.143871</td>\n",
       "    </tr>\n",
       "    <tr>\n",
       "      <th>3</th>\n",
       "      <td>open_weekend</td>\n",
       "      <td>0.196774</td>\n",
       "    </tr>\n",
       "    <tr>\n",
       "      <th>4</th>\n",
       "      <td>close_weekend</td>\n",
       "      <td>0.320787</td>\n",
       "    </tr>\n",
       "    <tr>\n",
       "      <th>5</th>\n",
       "      <td>Service</td>\n",
       "      <td>0.053359</td>\n",
       "    </tr>\n",
       "  </tbody>\n",
       "</table>\n",
       "</div>"
      ],
      "text/plain": [
       "                  factors  importance\n",
       "0            review_count    0.169726\n",
       "1     RestaurantsDelivery    0.115482\n",
       "2  RestaurantsPriceRange2    0.143871\n",
       "3            open_weekend    0.196774\n",
       "4           close_weekend    0.320787\n",
       "5                 Service    0.053359"
      ]
     },
     "execution_count": 947,
     "metadata": {},
     "output_type": "execute_result"
    }
   ],
   "source": [
    "imp = pd.concat([pd.DataFrame(np.array(X_new.columns), columns=[\"factors\"]), \n",
    "                 pd.DataFrame(gbr.feature_importances_, columns=[\"importance\"])], axis=1)\n",
    "(imp)"
   ]
  },
  {
   "cell_type": "code",
   "execution_count": 742,
   "id": "7c4c0681",
   "metadata": {},
   "outputs": [],
   "source": [
    "y_pred=gbr.predict(X_test)"
   ]
  },
  {
   "cell_type": "code",
   "execution_count": 743,
   "id": "fe264da3",
   "metadata": {},
   "outputs": [
    {
     "name": "stdout",
     "output_type": "stream",
     "text": [
      "lr_mse = 0.46\n"
     ]
    }
   ],
   "source": [
    "from sklearn.metrics import mean_squared_error\n",
    "\n",
    "lr_mse = mean_squared_error(y_test,y_pred)\n",
    "print(f'{lr_mse = :0.2f}')"
   ]
  },
  {
   "cell_type": "code",
   "execution_count": 753,
   "id": "322d4db0",
   "metadata": {},
   "outputs": [
    {
     "data": {
      "text/plain": [
       "0.264417218960152"
      ]
     },
     "execution_count": 753,
     "metadata": {},
     "output_type": "execute_result"
    }
   ],
   "source": [
    "from sklearn.ensemble import AdaBoostRegressor\n",
    "regr = AdaBoostRegressor( n_estimators=200)\n",
    "regr.fit(X_train,y_train)\n",
    "\n",
    "regr.score(X_test, y_test)"
   ]
  },
  {
   "cell_type": "code",
   "execution_count": 521,
   "id": "55040979",
   "metadata": {},
   "outputs": [],
   "source": [
    "y_pred=regr.predict(X_test)"
   ]
  },
  {
   "cell_type": "code",
   "execution_count": 522,
   "id": "c97a324a",
   "metadata": {},
   "outputs": [
    {
     "name": "stdout",
     "output_type": "stream",
     "text": [
      "lr_mse = 2.13\n"
     ]
    }
   ],
   "source": [
    "from sklearn.metrics import mean_squared_error\n",
    "\n",
    "lr_mse = mean_squared_error(y_test,y_pred)\n",
    "print(f'{lr_mse = :0.2f}')"
   ]
  },
  {
   "cell_type": "code",
   "execution_count": 866,
   "id": "27aae81a",
   "metadata": {
    "scrolled": true
   },
   "outputs": [
    {
     "data": {
      "text/plain": [
       "(1.0, 300.0)"
      ]
     },
     "execution_count": 866,
     "metadata": {},
     "output_type": "execute_result"
    },
    {
     "data": {
      "image/png": "[encoded data removed]",
      "text/plain": [
       "<Figure size 432x288 with 1 Axes>"
      ]
     },
     "metadata": {},
     "output_type": "display_data"
    }
   ],
   "source": [
    "ax = sns.kdeplot(data['review_count'][data.stars==1],color='darkturquoise',shade=True)\n",
    "sns.kdeplot(data['review_count'].loc[(data['stars']>1) & (data['stars']<=4.5)],color='lightcoral',shade=True)\n",
    "sns.kdeplot(data['review_count'][data.stars == 5], color='lightgreen', shade=True)\n",
    "\n",
    "plt.legend(['1','1.5-4.5','5'])\n",
    "plt.title('Density Review counts of Restaurant for Stars')\n",
    "ax.set(xlabel='review')\n",
    "plt.xlim(1,300)"
   ]
  },
  {
   "cell_type": "code",
   "execution_count": null,
   "id": "ca45f0b8",
   "metadata": {},
   "outputs": [],
   "source": []
  },
  {
   "cell_type": "code",
   "execution_count": 703,
   "id": "36ed0adf",
   "metadata": {},
   "outputs": [
    {
     "name": "stdout",
     "output_type": "stream",
     "text": [
      "Best: 0.235231 using {'lasso__alpha': 10.0, 'meta_regressor__n_estimators': 100, 'ridge__alpha': 1.0}\n"
     ]
    }
   ],
   "source": [
    "from sklearn.model_selection import GridSearchCV\n",
    "from mlxtend.regressor import StackingCVRegressor\n",
    "from sklearn.linear_model import Lasso\n",
    "from sklearn.linear_model import Ridge\n",
    "from sklearn.ensemble import RandomForestRegressor\n",
    "from sklearn.ensemble import StackingRegressor\n",
    "\n",
    "# Initializing models\n",
    "\n",
    "#lr = LinearRegression()\n",
    "#svr_lin = SVR(kernel='linear')\n",
    "ridge = Ridge(random_state=1)\n",
    "lasso = Lasso(random_state=1)\n",
    "#regr = AdaBoostRegressor(random_state=1)\n",
    "#svr_rbf = SVR(kernel='rbf')\n",
    "gbr = GradientBoostingRegressor(n_estimators=100)\n",
    "dtr = DecisionTreeRegressor(max_depth=10)\n",
    "\n",
    "\n",
    "regressors = [ridge, lasso]\n",
    "stack = StackingCVRegressor(regressors=(ridge, lasso),\n",
    "                            meta_regressor = gbr,\n",
    "                           )\n",
    "\n",
    "params = {\n",
    "          'lasso__alpha': [1.0,10.0],\n",
    "          'ridge__alpha': [1.0,10.0],\n",
    "          'meta_regressor__n_estimators': [10,100,200]\n",
    "}\n",
    "\n",
    "grid = GridSearchCV(estimator=stack, \n",
    "                    param_grid=params, \n",
    "                    cv=5,\n",
    "                    refit=True)\n",
    "grid.fit(X, Y)\n",
    "\n",
    "print(\"Best: %f using %s\" % (grid.best_score_, grid.best_params_))"
   ]
  },
  {
   "cell_type": "code",
   "execution_count": 881,
   "id": "fa3840ca",
   "metadata": {},
   "outputs": [
    {
     "data": {
      "text/plain": [
       "-0.10351951777568402"
      ]
     },
     "execution_count": 881,
     "metadata": {},
     "output_type": "execute_result"
    }
   ],
   "source": [
    "dtr = DecisionTreeRegressor(max_depth=10)\n",
    "dtr.fit(X_train,y_train)\n",
    "dtr.score(X_test,y_test)"
   ]
  },
  {
   "cell_type": "code",
   "execution_count": 873,
   "id": "2d04f80e",
   "metadata": {},
   "outputs": [],
   "source": [
    "y_pred=dtr.predict(X_test)"
   ]
  },
  {
   "cell_type": "code",
   "execution_count": 874,
   "id": "36fa76e5",
   "metadata": {},
   "outputs": [
    {
     "name": "stdout",
     "output_type": "stream",
     "text": [
      "lr_mse = 2.01\n"
     ]
    }
   ],
   "source": [
    "\n",
    "lr_mse = mean_squared_error(y_test,y_pred)\n",
    "print(f'{lr_mse = :0.2f}')"
   ]
  },
  {
   "cell_type": "code",
   "execution_count": 622,
   "id": "8353e2ec",
   "metadata": {},
   "outputs": [
    {
     "data": {
      "text/plain": [
       "array([0.23334145, 0.13754336, 0.20510577, 0.01852589, 0.05964652,\n",
       "       0.08603466, 0.05542221, 0.15086448, 0.05351567])"
      ]
     },
     "execution_count": 622,
     "metadata": {},
     "output_type": "execute_result"
    }
   ],
   "source": [
    "dtr.feature_importances_"
   ]
  },
  {
   "cell_type": "code",
   "execution_count": 875,
   "id": "ca155a9f",
   "metadata": {},
   "outputs": [
    {
     "data": {
      "text/plain": [
       "0.18820299120773487"
      ]
     },
     "execution_count": 875,
     "metadata": {},
     "output_type": "execute_result"
    }
   ],
   "source": [
    "from sklearn.ensemble import RandomForestRegressor\n",
    "\n",
    "rfr = RandomForestRegressor(n_estimators=3, n_jobs=-1)\n",
    "rfr.fit(X_train,y_train)\n",
    "\n",
    "rfr.score(X_test,y_test)"
   ]
  },
  {
   "cell_type": "code",
   "execution_count": null,
   "id": "3b4424fd",
   "metadata": {},
   "outputs": [],
   "source": []
  },
  {
   "cell_type": "code",
   "execution_count": 948,
   "id": "f75da516",
   "metadata": {},
   "outputs": [
    {
     "data": {
      "text/html": [
       "<div>\n",
       "<style scoped>\n",
       "    .dataframe tbody tr th:only-of-type {\n",
       "        vertical-align: middle;\n",
       "    }\n",
       "\n",
       "    .dataframe tbody tr th {\n",
       "        vertical-align: top;\n",
       "    }\n",
       "\n",
       "    .dataframe thead th {\n",
       "        text-align: right;\n",
       "    }\n",
       "</style>\n",
       "<table border=\"1\" class=\"dataframe\">\n",
       "  <thead>\n",
       "    <tr style=\"text-align: right;\">\n",
       "      <th></th>\n",
       "      <th>factors</th>\n",
       "      <th>importance</th>\n",
       "    </tr>\n",
       "  </thead>\n",
       "  <tbody>\n",
       "    <tr>\n",
       "      <th>0</th>\n",
       "      <td>review_count</td>\n",
       "      <td>0.169726</td>\n",
       "    </tr>\n",
       "    <tr>\n",
       "      <th>1</th>\n",
       "      <td>RestaurantsDelivery</td>\n",
       "      <td>0.115482</td>\n",
       "    </tr>\n",
       "    <tr>\n",
       "      <th>2</th>\n",
       "      <td>RestaurantsPriceRange2</td>\n",
       "      <td>0.143871</td>\n",
       "    </tr>\n",
       "    <tr>\n",
       "      <th>3</th>\n",
       "      <td>open_weekend</td>\n",
       "      <td>0.196774</td>\n",
       "    </tr>\n",
       "    <tr>\n",
       "      <th>4</th>\n",
       "      <td>close_weekend</td>\n",
       "      <td>0.320787</td>\n",
       "    </tr>\n",
       "    <tr>\n",
       "      <th>5</th>\n",
       "      <td>Service</td>\n",
       "      <td>0.053359</td>\n",
       "    </tr>\n",
       "  </tbody>\n",
       "</table>\n",
       "</div>"
      ],
      "text/plain": [
       "                  factors  importance\n",
       "0            review_count    0.169726\n",
       "1     RestaurantsDelivery    0.115482\n",
       "2  RestaurantsPriceRange2    0.143871\n",
       "3            open_weekend    0.196774\n",
       "4           close_weekend    0.320787\n",
       "5                 Service    0.053359"
      ]
     },
     "execution_count": 948,
     "metadata": {},
     "output_type": "execute_result"
    }
   ],
   "source": [
    "# importance\n",
    "imp = pd.concat([pd.DataFrame(np.array(X_new.columns), columns=[\"factors\"]), \n",
    "                 pd.DataFrame(gbr.feature_importances_, columns=[\"importance\"])], axis=1)\n",
    "(imp)"
   ]
  },
  {
   "cell_type": "code",
   "execution_count": 949,
   "id": "68f2ff73",
   "metadata": {},
   "outputs": [
    {
     "name": "stdout",
     "output_type": "stream",
     "text": [
      "Mean MAE: 0.685 (0.008)\n"
     ]
    }
   ],
   "source": [
    "from numpy import mean\n",
    "from numpy import std\n",
    "from numpy import absolute\n",
    "from sklearn.model_selection import cross_val_score\n",
    "from sklearn.model_selection import RepeatedKFold\n",
    "model = Lasso(alpha=1.0)\n",
    "# define model evaluation method\n",
    "cv = RepeatedKFold(n_splits=10, n_repeats=3, random_state=1)\n",
    "# evaluate model\n",
    "scores = cross_val_score(model, X_train, y_train, scoring='neg_mean_absolute_error', cv=cv, n_jobs=-1)\n",
    "# force scores to be positive\n",
    "scores = absolute(scores)\n",
    "print('Mean MAE: %.3f (%.3f)' % (mean(scores), std(scores)))"
   ]
  }
 ],
 "metadata": {
  "kernelspec": {
   "display_name": "eods-s22",
   "language": "python",
   "name": "eods-s22"
  },
  "language_info": {
   "codemirror_mode": {
    "name": "ipython",
    "version": 3
   },
   "file_extension": ".py",
   "mimetype": "text/x-python",
   "name": "python",
   "nbconvert_exporter": "python",
   "pygments_lexer": "ipython3",
   "version": "3.9.9"
  }
 },
 "nbformat": 4,
 "nbformat_minor": 5
}
