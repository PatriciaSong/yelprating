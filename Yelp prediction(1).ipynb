{
 "cells": [
  {
   "cell_type": "code",
   "execution_count": 37,
   "id": "5e048c2d",
   "metadata": {},
   "outputs": [],
   "source": [
    "import pandas as pd\n",
    "import numpy as np\n",
    "import seaborn as sns\n",
    "\n",
    "sns.set_style('darkgrid')\n",
    "%matplotlib inline"
   ]
  },
  {
   "cell_type": "code",
   "execution_count": 2,
   "id": "0c819baa",
   "metadata": {},
   "outputs": [],
   "source": [
    "df = pd.read_csv('../data/yelp_restaurant_total.csv')"
   ]
  },
  {
   "cell_type": "code",
   "execution_count": 3,
   "id": "c6f8326f",
   "metadata": {},
   "outputs": [],
   "source": [
    "df[['RestaurantsPriceRange2']] = df[['RestaurantsPriceRange2']].astype('object')\n",
    "df[['RestaurantsTakeOut']] = df[['RestaurantsTakeOut']].astype('object')\n",
    "df[['RestaurantsDelivery']] = df[['RestaurantsDelivery']].astype('object')"
   ]
  },
  {
   "cell_type": "code",
   "execution_count": 4,
   "id": "b446bfbd",
   "metadata": {},
   "outputs": [
    {
     "name": "stdout",
     "output_type": "stream",
     "text": [
      "<class 'pandas.core.frame.DataFrame'>\n",
      "RangeIndex: 34987 entries, 0 to 34986\n",
      "Data columns (total 23 columns):\n",
      " #   Column                  Non-Null Count  Dtype  \n",
      "---  ------                  --------------  -----  \n",
      " 0   business_id             34987 non-null  object \n",
      " 1   name                    34987 non-null  object \n",
      " 2   address                 34662 non-null  object \n",
      " 3   city                    34987 non-null  object \n",
      " 4   state                   34987 non-null  object \n",
      " 5   postal_code             34983 non-null  object \n",
      " 6   latitude                34987 non-null  float64\n",
      " 7   longitude               34987 non-null  float64\n",
      " 8   stars                   34987 non-null  float64\n",
      " 9   review_count            34987 non-null  int64  \n",
      " 10  is_open                 34987 non-null  int64  \n",
      " 11  RestaurantsPriceRange2  34987 non-null  object \n",
      " 12  RestaurantsTakeOut      34987 non-null  object \n",
      " 13  RestaurantsDelivery     34987 non-null  object \n",
      " 14  opendays_work           34987 non-null  int64  \n",
      " 15  cpendays_weekend        34987 non-null  int64  \n",
      " 16  open_workday            34987 non-null  float64\n",
      " 17  close_workday           34987 non-null  float64\n",
      " 18  open_weekend            34987 non-null  float64\n",
      " 19  close_weekend           34987 non-null  float64\n",
      " 20  categories              34987 non-null  object \n",
      " 21  Service                 34987 non-null  int64  \n",
      " 22  Food                    34987 non-null  bool   \n",
      "dtypes: bool(1), float64(7), int64(5), object(10)\n",
      "memory usage: 5.9+ MB\n"
     ]
    }
   ],
   "source": [
    "df.info()"
   ]
  },
  {
   "cell_type": "code",
   "execution_count": 5,
   "id": "79ed73b0",
   "metadata": {},
   "outputs": [],
   "source": [
    "df_x = df[['review_count','opendays_work','cpendays_weekend','open_workday','close_workday',\n",
    "            'open_weekend','close_weekend','Service',\n",
    "           'postal_code','RestaurantsPriceRange2','RestaurantsTakeOut','RestaurantsDelivery']]"
   ]
  },
  {
   "cell_type": "code",
   "execution_count": 6,
   "id": "ef790a76",
   "metadata": {},
   "outputs": [
    {
     "name": "stdout",
     "output_type": "stream",
     "text": [
      "<class 'pandas.core.frame.DataFrame'>\n",
      "RangeIndex: 34987 entries, 0 to 34986\n",
      "Data columns (total 12 columns):\n",
      " #   Column                  Non-Null Count  Dtype  \n",
      "---  ------                  --------------  -----  \n",
      " 0   review_count            34987 non-null  int64  \n",
      " 1   opendays_work           34987 non-null  int64  \n",
      " 2   cpendays_weekend        34987 non-null  int64  \n",
      " 3   open_workday            34987 non-null  float64\n",
      " 4   close_workday           34987 non-null  float64\n",
      " 5   open_weekend            34987 non-null  float64\n",
      " 6   close_weekend           34987 non-null  float64\n",
      " 7   Service                 34987 non-null  int64  \n",
      " 8   postal_code             34983 non-null  object \n",
      " 9   RestaurantsPriceRange2  34987 non-null  object \n",
      " 10  RestaurantsTakeOut      34987 non-null  object \n",
      " 11  RestaurantsDelivery     34987 non-null  object \n",
      "dtypes: float64(4), int64(4), object(4)\n",
      "memory usage: 3.2+ MB\n"
     ]
    }
   ],
   "source": [
    "df_x.info()"
   ]
  },
  {
   "cell_type": "code",
   "execution_count": 7,
   "id": "e3745939",
   "metadata": {},
   "outputs": [
    {
     "name": "stderr",
     "output_type": "stream",
     "text": [
      "/Users/kaiaxu/opt/anaconda3/envs/tf2/lib/python3.9/site-packages/pandas/core/algorithms.py:798: FutureWarning: In a future version, the Index constructor will not infer numeric dtypes when passed object-dtype sequences (matching Series behavior)\n",
      "  uniques = Index(uniques)\n"
     ]
    }
   ],
   "source": [
    "from sklearn.preprocessing import OneHotEncoder\n",
    "df_x = pd.get_dummies(df_x)\n",
    "df_x = df_x.astype('float')\n",
    "df_y = df[['stars']].astype('int')"
   ]
  },
  {
   "cell_type": "code",
   "execution_count": 30,
   "id": "1641a5f0",
   "metadata": {},
   "outputs": [],
   "source": [
    "from sklearn.model_selection import train_test_split\n",
    "X_train, X_test, y_train, y_test = train_test_split(np.array(df_x), np.array(df_y).ravel(), test_size=0.33, random_state=42)"
   ]
  },
  {
   "cell_type": "markdown",
   "id": "b0677cfb",
   "metadata": {},
   "source": [
    "### Random Forest Classifier"
   ]
  },
  {
   "cell_type": "code",
   "execution_count": 42,
   "id": "5e22998d",
   "metadata": {},
   "outputs": [
    {
     "name": "stdout",
     "output_type": "stream",
     "text": [
      "Prediction score on train set: 0.999\n",
      "Prediction score on train set: 0.550\n"
     ]
    }
   ],
   "source": [
    "from sklearn.ensemble import RandomForestClassifier\n",
    "from sklearn.model_selection import GridSearchCV\n",
    "\n",
    "#param_grid = {'max_depth' : list(range(5,50))}\n",
    "\n",
    "rfc = RandomForestClassifier(random_state=42)\n",
    "rfc.fit(X_train, y_train)\n",
    "#gs_rfc = GridSearchCV(rfc, param_grid,refit=True)\n",
    "#gs_rfc.fit(X_train, y_train)\n",
    "#print(f'max_depth is {gs_rfc.best_params_}')\n",
    "\n",
    "print(f'Prediction score on train set: {rfc.score(X_train, y_train):0.3f}')\n",
    "print(f'Prediction score on train set: {rfc.score(X_test, y_test):0.3f}')"
   ]
  },
  {
   "cell_type": "code",
   "execution_count": 47,
   "id": "5ba5ddd3",
   "metadata": {},
   "outputs": [],
   "source": [
    "## round scores into five categories [1,2,3,4,5]"
   ]
  },
  {
   "cell_type": "code",
   "execution_count": 46,
   "id": "f9f1b8f7",
   "metadata": {},
   "outputs": [
    {
     "name": "stdout",
     "output_type": "stream",
     "text": [
      "Prediction score on train set: 0.999\n",
      "Prediction score on train set: 0.709\n"
     ]
    }
   ],
   "source": [
    "df_y_bins = round(df[['stars']]).astype('int')\n",
    "X_train, X_test, y_train, y_test = train_test_split(np.array(df_x), np.array(df_y_bins).ravel(), test_size=0.33, random_state=42)\n",
    "\n",
    "rfc = RandomForestClassifier(random_state=42)\n",
    "rfc.fit(X_train, y_train)\n",
    "#gs_rfc = GridSearchCV(rfc, param_grid,refit=True)\n",
    "#gs_rfc.fit(X_train, y_train)\n",
    "#print(f'max_depth is {gs_rfc.best_params_}')\n",
    "\n",
    "print(f'Prediction score on train set: {rfc.score(X_train, y_train):0.3f}')\n",
    "print(f'Prediction score on train set: {rfc.score(X_test, y_test):0.3f}')"
   ]
  },
  {
   "cell_type": "code",
   "execution_count": null,
   "id": "a48fa60f",
   "metadata": {},
   "outputs": [],
   "source": []
  }
 ],
 "metadata": {
  "kernelspec": {
   "display_name": "Python 3 (ipykernel)",
   "language": "python",
   "name": "python3"
  },
  "language_info": {
   "codemirror_mode": {
    "name": "ipython",
    "version": 3
   },
   "file_extension": ".py",
   "mimetype": "text/x-python",
   "name": "python",
   "nbconvert_exporter": "python",
   "pygments_lexer": "ipython3",
   "version": "3.9.7"
  }
 },
 "nbformat": 4,
 "nbformat_minor": 5
}
