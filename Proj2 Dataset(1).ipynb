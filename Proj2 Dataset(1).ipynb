{
 "cells": [
  {
   "cell_type": "code",
   "execution_count": 1,
   "id": "0b7a9150",
   "metadata": {},
   "outputs": [],
   "source": [
    "import pandas as pd"
   ]
  },
  {
   "cell_type": "code",
   "execution_count": 2,
   "id": "682e1b8d",
   "metadata": {},
   "outputs": [],
   "source": [
    "import numpy as np"
   ]
  },
  {
   "cell_type": "code",
   "execution_count": null,
   "id": "6e97d822",
   "metadata": {},
   "outputs": [],
   "source": [
    "df = pd.read_json('yelp_dataset-2/yelp_academic_dataset_review.json', lines=True)"
   ]
  },
  {
   "cell_type": "code",
   "execution_count": null,
   "id": "a72364c8",
   "metadata": {},
   "outputs": [],
   "source": [
    "df"
   ]
  },
  {
   "cell_type": "code",
   "execution_count": 3,
   "id": "3b7927ca",
   "metadata": {},
   "outputs": [],
   "source": [
    "df2 = pd.read_csv(\"P2_review_sentiment+topics.csv\")"
   ]
  },
  {
   "cell_type": "code",
   "execution_count": 4,
   "id": "9c17fc2a",
   "metadata": {},
   "outputs": [
    {
     "data": {
      "text/html": [
       "<div>\n",
       "<style scoped>\n",
       "    .dataframe tbody tr th:only-of-type {\n",
       "        vertical-align: middle;\n",
       "    }\n",
       "\n",
       "    .dataframe tbody tr th {\n",
       "        vertical-align: top;\n",
       "    }\n",
       "\n",
       "    .dataframe thead th {\n",
       "        text-align: right;\n",
       "    }\n",
       "</style>\n",
       "<table border=\"1\" class=\"dataframe\">\n",
       "  <thead>\n",
       "    <tr style=\"text-align: right;\">\n",
       "      <th></th>\n",
       "      <th>business_id</th>\n",
       "      <th>name</th>\n",
       "      <th>address</th>\n",
       "      <th>city</th>\n",
       "      <th>state</th>\n",
       "      <th>postal_code</th>\n",
       "      <th>latitude</th>\n",
       "      <th>longitude</th>\n",
       "      <th>stars</th>\n",
       "      <th>review_count</th>\n",
       "      <th>...</th>\n",
       "      <th>open_workday</th>\n",
       "      <th>close_workday</th>\n",
       "      <th>open_weekend</th>\n",
       "      <th>close_weekend</th>\n",
       "      <th>categories</th>\n",
       "      <th>Service</th>\n",
       "      <th>Food</th>\n",
       "      <th>text</th>\n",
       "      <th>topics</th>\n",
       "      <th>sentiment</th>\n",
       "    </tr>\n",
       "  </thead>\n",
       "  <tbody>\n",
       "    <tr>\n",
       "      <th>0</th>\n",
       "      <td>MTSW4McQd7CbVtyjqoe9mw</td>\n",
       "      <td>St Honore Pastries</td>\n",
       "      <td>935 Race St</td>\n",
       "      <td>Philadelphia</td>\n",
       "      <td>PA</td>\n",
       "      <td>19107</td>\n",
       "      <td>39.955505</td>\n",
       "      <td>-75.155564</td>\n",
       "      <td>4.0</td>\n",
       "      <td>80</td>\n",
       "      <td>...</td>\n",
       "      <td>7.0</td>\n",
       "      <td>20.2</td>\n",
       "      <td>7.0</td>\n",
       "      <td>21.0</td>\n",
       "      <td>['Restaurants', 'Food', 'BubbleTea', 'Coffee&amp;T...</td>\n",
       "      <td>5</td>\n",
       "      <td>True</td>\n",
       "      <td>This is nice little Chinese bakery in the hear...</td>\n",
       "      <td>['along', 'guilty', 'decent', 'desire', 'yum',...</td>\n",
       "      <td>0.224</td>\n",
       "    </tr>\n",
       "    <tr>\n",
       "      <th>1</th>\n",
       "      <td>CF33F8-E6oudUQ46HnavjQ</td>\n",
       "      <td>Sonic Drive-In</td>\n",
       "      <td>615 S Main St</td>\n",
       "      <td>Ashland City</td>\n",
       "      <td>TN</td>\n",
       "      <td>37015</td>\n",
       "      <td>36.269593</td>\n",
       "      <td>-87.058943</td>\n",
       "      <td>2.0</td>\n",
       "      <td>6</td>\n",
       "      <td>...</td>\n",
       "      <td>5.4</td>\n",
       "      <td>13.2</td>\n",
       "      <td>8.5</td>\n",
       "      <td>22.0</td>\n",
       "      <td>['Burgers', 'FastFood', 'Sandwiches', 'Food', ...</td>\n",
       "      <td>6</td>\n",
       "      <td>True</td>\n",
       "      <td>I have always liked Sonic as it is good fresh ...</td>\n",
       "      <td>['calling', 'printed', 'hops', 'could', 'wante...</td>\n",
       "      <td>-0.011</td>\n",
       "    </tr>\n",
       "    <tr>\n",
       "      <th>2</th>\n",
       "      <td>bBDDEgkFA1Otx9Lfe7BZUQ</td>\n",
       "      <td>Sonic Drive-In</td>\n",
       "      <td>2312 Dickerson Pike</td>\n",
       "      <td>Nashville</td>\n",
       "      <td>TN</td>\n",
       "      <td>37207</td>\n",
       "      <td>36.208102</td>\n",
       "      <td>-86.768170</td>\n",
       "      <td>1.5</td>\n",
       "      <td>10</td>\n",
       "      <td>...</td>\n",
       "      <td>4.8</td>\n",
       "      <td>14.8</td>\n",
       "      <td>6.0</td>\n",
       "      <td>19.0</td>\n",
       "      <td>['IceCream&amp;FrozenYogurt', 'FastFood', 'Burgers...</td>\n",
       "      <td>5</td>\n",
       "      <td>True</td>\n",
       "      <td>Waited several minutes waiting to order. I was...</td>\n",
       "      <td>['stall', 'seems', 'ordering', 'man', 'cookie'...</td>\n",
       "      <td>0.014</td>\n",
       "    </tr>\n",
       "    <tr>\n",
       "      <th>3</th>\n",
       "      <td>eEOYSgkmpB90uNA7lDOMRA</td>\n",
       "      <td>Vietnamese Food Truck</td>\n",
       "      <td>NaN</td>\n",
       "      <td>Tampa Bay</td>\n",
       "      <td>FL</td>\n",
       "      <td>33602</td>\n",
       "      <td>27.955269</td>\n",
       "      <td>-82.456320</td>\n",
       "      <td>4.0</td>\n",
       "      <td>10</td>\n",
       "      <td>...</td>\n",
       "      <td>11.0</td>\n",
       "      <td>14.0</td>\n",
       "      <td>10.0</td>\n",
       "      <td>14.0</td>\n",
       "      <td>['Vietnamese', 'Food', 'Restaurants', 'FoodTru...</td>\n",
       "      <td>4</td>\n",
       "      <td>True</td>\n",
       "      <td>I eat pho about 4 times a week and from a spec...</td>\n",
       "      <td>['sold', 'thanks', 'restaurants', 'without', '...</td>\n",
       "      <td>0.218</td>\n",
       "    </tr>\n",
       "    <tr>\n",
       "      <th>4</th>\n",
       "      <td>il_Ro8jwPlHresjw9EGmBg</td>\n",
       "      <td>Denny's</td>\n",
       "      <td>8901 US 31 S</td>\n",
       "      <td>Indianapolis</td>\n",
       "      <td>IN</td>\n",
       "      <td>46227</td>\n",
       "      <td>39.637133</td>\n",
       "      <td>-86.127217</td>\n",
       "      <td>2.5</td>\n",
       "      <td>28</td>\n",
       "      <td>...</td>\n",
       "      <td>6.0</td>\n",
       "      <td>22.0</td>\n",
       "      <td>6.0</td>\n",
       "      <td>22.0</td>\n",
       "      <td>['American(Traditional)', 'Restaurants', 'Dine...</td>\n",
       "      <td>4</td>\n",
       "      <td>True</td>\n",
       "      <td>Went there at 4am and there was only one waitr...</td>\n",
       "      <td>['hello', 'freezer', 'eaten', 'decent', 'outin...</td>\n",
       "      <td>0.035</td>\n",
       "    </tr>\n",
       "    <tr>\n",
       "      <th>...</th>\n",
       "      <td>...</td>\n",
       "      <td>...</td>\n",
       "      <td>...</td>\n",
       "      <td>...</td>\n",
       "      <td>...</td>\n",
       "      <td>...</td>\n",
       "      <td>...</td>\n",
       "      <td>...</td>\n",
       "      <td>...</td>\n",
       "      <td>...</td>\n",
       "      <td>...</td>\n",
       "      <td>...</td>\n",
       "      <td>...</td>\n",
       "      <td>...</td>\n",
       "      <td>...</td>\n",
       "      <td>...</td>\n",
       "      <td>...</td>\n",
       "      <td>...</td>\n",
       "      <td>...</td>\n",
       "      <td>...</td>\n",
       "      <td>...</td>\n",
       "    </tr>\n",
       "    <tr>\n",
       "      <th>34982</th>\n",
       "      <td>w_4xUt-1AyY2ZwKtnjW0Xg</td>\n",
       "      <td>Bittercreek Alehouse</td>\n",
       "      <td>246 N 8th St</td>\n",
       "      <td>Boise</td>\n",
       "      <td>ID</td>\n",
       "      <td>83702</td>\n",
       "      <td>43.616590</td>\n",
       "      <td>-116.202383</td>\n",
       "      <td>4.5</td>\n",
       "      <td>998</td>\n",
       "      <td>...</td>\n",
       "      <td>8.8</td>\n",
       "      <td>18.0</td>\n",
       "      <td>11.0</td>\n",
       "      <td>22.5</td>\n",
       "      <td>['Bars', 'Gastropubs', 'Sandwiches', 'Nightlif...</td>\n",
       "      <td>5</td>\n",
       "      <td>True</td>\n",
       "      <td>I must say that this place is amazing. Comfort...</td>\n",
       "      <td>['jostling', 'along', 'event', 'guilty', 'deal...</td>\n",
       "      <td>0.276</td>\n",
       "    </tr>\n",
       "    <tr>\n",
       "      <th>34983</th>\n",
       "      <td>l9eLGG9ZKpLJzboZq-9LRQ</td>\n",
       "      <td>Wawa</td>\n",
       "      <td>19 N Bishop Ave</td>\n",
       "      <td>Clifton Heights</td>\n",
       "      <td>PA</td>\n",
       "      <td>19018</td>\n",
       "      <td>39.925656</td>\n",
       "      <td>-75.310344</td>\n",
       "      <td>3.0</td>\n",
       "      <td>11</td>\n",
       "      <td>...</td>\n",
       "      <td>0.0</td>\n",
       "      <td>0.0</td>\n",
       "      <td>0.0</td>\n",
       "      <td>0.0</td>\n",
       "      <td>['Restaurants', 'Sandwiches', 'ConvenienceStor...</td>\n",
       "      <td>5</td>\n",
       "      <td>True</td>\n",
       "      <td>I only stop at this WaWa during off hours as g...</td>\n",
       "      <td>['lost', 'hello', 'could', 'prices', 'pump', '...</td>\n",
       "      <td>0.175</td>\n",
       "    </tr>\n",
       "    <tr>\n",
       "      <th>34984</th>\n",
       "      <td>cM6V90ExQD6KMSU3rRB5ZA</td>\n",
       "      <td>Dutch Bros Coffee</td>\n",
       "      <td>1181 N Milwaukee St</td>\n",
       "      <td>Boise</td>\n",
       "      <td>ID</td>\n",
       "      <td>83704</td>\n",
       "      <td>43.615401</td>\n",
       "      <td>-116.284689</td>\n",
       "      <td>4.0</td>\n",
       "      <td>33</td>\n",
       "      <td>...</td>\n",
       "      <td>0.0</td>\n",
       "      <td>3.4</td>\n",
       "      <td>0.0</td>\n",
       "      <td>0.0</td>\n",
       "      <td>['Cafes', 'JuiceBars&amp;Smoothies', 'Coffee&amp;Tea',...</td>\n",
       "      <td>5</td>\n",
       "      <td>True</td>\n",
       "      <td>I've been a Starbucks queen ever since I can r...</td>\n",
       "      <td>['along', 'representative', 'lost', 'dutch', '...</td>\n",
       "      <td>0.177</td>\n",
       "    </tr>\n",
       "    <tr>\n",
       "      <th>34985</th>\n",
       "      <td>WnT9NIzQgLlILjPT0kEcsQ</td>\n",
       "      <td>Adelita Taqueria &amp; Restaurant</td>\n",
       "      <td>1108 S 9th St</td>\n",
       "      <td>Philadelphia</td>\n",
       "      <td>PA</td>\n",
       "      <td>19147</td>\n",
       "      <td>39.935982</td>\n",
       "      <td>-75.158665</td>\n",
       "      <td>4.5</td>\n",
       "      <td>35</td>\n",
       "      <td>...</td>\n",
       "      <td>11.0</td>\n",
       "      <td>17.0</td>\n",
       "      <td>11.0</td>\n",
       "      <td>12.0</td>\n",
       "      <td>['Restaurants', 'Mexican']</td>\n",
       "      <td>2</td>\n",
       "      <td>True</td>\n",
       "      <td>I do not know why Adelita is not packed. There...</td>\n",
       "      <td>['man', 'perhaps', 'yum', 'could', 'excelnte',...</td>\n",
       "      <td>0.298</td>\n",
       "    </tr>\n",
       "    <tr>\n",
       "      <th>34986</th>\n",
       "      <td>2O2K6SXPWv56amqxCECd4w</td>\n",
       "      <td>The Plum Pit</td>\n",
       "      <td>4405 Pennell Rd</td>\n",
       "      <td>Aston</td>\n",
       "      <td>DE</td>\n",
       "      <td>19014</td>\n",
       "      <td>39.856185</td>\n",
       "      <td>-75.427725</td>\n",
       "      <td>4.5</td>\n",
       "      <td>14</td>\n",
       "      <td>...</td>\n",
       "      <td>0.0</td>\n",
       "      <td>0.0</td>\n",
       "      <td>0.0</td>\n",
       "      <td>0.0</td>\n",
       "      <td>['Restaurants', 'ComfortFood', 'Food', 'FoodTr...</td>\n",
       "      <td>6</td>\n",
       "      <td>True</td>\n",
       "      <td>Every single item on their menu is delicious! ...</td>\n",
       "      <td>['thanks', 'friend', 'size', 'event', 'humor',...</td>\n",
       "      <td>0.309</td>\n",
       "    </tr>\n",
       "  </tbody>\n",
       "</table>\n",
       "<p>34987 rows × 26 columns</p>\n",
       "</div>"
      ],
      "text/plain": [
       "                  business_id                           name  \\\n",
       "0      MTSW4McQd7CbVtyjqoe9mw             St Honore Pastries   \n",
       "1      CF33F8-E6oudUQ46HnavjQ                 Sonic Drive-In   \n",
       "2      bBDDEgkFA1Otx9Lfe7BZUQ                 Sonic Drive-In   \n",
       "3      eEOYSgkmpB90uNA7lDOMRA          Vietnamese Food Truck   \n",
       "4      il_Ro8jwPlHresjw9EGmBg                        Denny's   \n",
       "...                       ...                            ...   \n",
       "34982  w_4xUt-1AyY2ZwKtnjW0Xg           Bittercreek Alehouse   \n",
       "34983  l9eLGG9ZKpLJzboZq-9LRQ                           Wawa   \n",
       "34984  cM6V90ExQD6KMSU3rRB5ZA              Dutch Bros Coffee   \n",
       "34985  WnT9NIzQgLlILjPT0kEcsQ  Adelita Taqueria & Restaurant   \n",
       "34986  2O2K6SXPWv56amqxCECd4w                   The Plum Pit   \n",
       "\n",
       "                   address             city state postal_code   latitude  \\\n",
       "0              935 Race St     Philadelphia    PA       19107  39.955505   \n",
       "1            615 S Main St     Ashland City    TN       37015  36.269593   \n",
       "2      2312 Dickerson Pike        Nashville    TN       37207  36.208102   \n",
       "3                      NaN        Tampa Bay    FL       33602  27.955269   \n",
       "4             8901 US 31 S     Indianapolis    IN       46227  39.637133   \n",
       "...                    ...              ...   ...         ...        ...   \n",
       "34982         246 N 8th St            Boise    ID       83702  43.616590   \n",
       "34983      19 N Bishop Ave  Clifton Heights    PA       19018  39.925656   \n",
       "34984  1181 N Milwaukee St            Boise    ID       83704  43.615401   \n",
       "34985        1108 S 9th St     Philadelphia    PA       19147  39.935982   \n",
       "34986      4405 Pennell Rd            Aston    DE       19014  39.856185   \n",
       "\n",
       "        longitude  stars  review_count  ...  open_workday  close_workday  \\\n",
       "0      -75.155564    4.0            80  ...           7.0           20.2   \n",
       "1      -87.058943    2.0             6  ...           5.4           13.2   \n",
       "2      -86.768170    1.5            10  ...           4.8           14.8   \n",
       "3      -82.456320    4.0            10  ...          11.0           14.0   \n",
       "4      -86.127217    2.5            28  ...           6.0           22.0   \n",
       "...           ...    ...           ...  ...           ...            ...   \n",
       "34982 -116.202383    4.5           998  ...           8.8           18.0   \n",
       "34983  -75.310344    3.0            11  ...           0.0            0.0   \n",
       "34984 -116.284689    4.0            33  ...           0.0            3.4   \n",
       "34985  -75.158665    4.5            35  ...          11.0           17.0   \n",
       "34986  -75.427725    4.5            14  ...           0.0            0.0   \n",
       "\n",
       "       open_weekend  close_weekend  \\\n",
       "0               7.0           21.0   \n",
       "1               8.5           22.0   \n",
       "2               6.0           19.0   \n",
       "3              10.0           14.0   \n",
       "4               6.0           22.0   \n",
       "...             ...            ...   \n",
       "34982          11.0           22.5   \n",
       "34983           0.0            0.0   \n",
       "34984           0.0            0.0   \n",
       "34985          11.0           12.0   \n",
       "34986           0.0            0.0   \n",
       "\n",
       "                                              categories  Service  Food  \\\n",
       "0      ['Restaurants', 'Food', 'BubbleTea', 'Coffee&T...        5  True   \n",
       "1      ['Burgers', 'FastFood', 'Sandwiches', 'Food', ...        6  True   \n",
       "2      ['IceCream&FrozenYogurt', 'FastFood', 'Burgers...        5  True   \n",
       "3      ['Vietnamese', 'Food', 'Restaurants', 'FoodTru...        4  True   \n",
       "4      ['American(Traditional)', 'Restaurants', 'Dine...        4  True   \n",
       "...                                                  ...      ...   ...   \n",
       "34982  ['Bars', 'Gastropubs', 'Sandwiches', 'Nightlif...        5  True   \n",
       "34983  ['Restaurants', 'Sandwiches', 'ConvenienceStor...        5  True   \n",
       "34984  ['Cafes', 'JuiceBars&Smoothies', 'Coffee&Tea',...        5  True   \n",
       "34985                         ['Restaurants', 'Mexican']        2  True   \n",
       "34986  ['Restaurants', 'ComfortFood', 'Food', 'FoodTr...        6  True   \n",
       "\n",
       "                                                    text  \\\n",
       "0      This is nice little Chinese bakery in the hear...   \n",
       "1      I have always liked Sonic as it is good fresh ...   \n",
       "2      Waited several minutes waiting to order. I was...   \n",
       "3      I eat pho about 4 times a week and from a spec...   \n",
       "4      Went there at 4am and there was only one waitr...   \n",
       "...                                                  ...   \n",
       "34982  I must say that this place is amazing. Comfort...   \n",
       "34983  I only stop at this WaWa during off hours as g...   \n",
       "34984  I've been a Starbucks queen ever since I can r...   \n",
       "34985  I do not know why Adelita is not packed. There...   \n",
       "34986  Every single item on their menu is delicious! ...   \n",
       "\n",
       "                                                  topics  sentiment  \n",
       "0      ['along', 'guilty', 'decent', 'desire', 'yum',...      0.224  \n",
       "1      ['calling', 'printed', 'hops', 'could', 'wante...     -0.011  \n",
       "2      ['stall', 'seems', 'ordering', 'man', 'cookie'...      0.014  \n",
       "3      ['sold', 'thanks', 'restaurants', 'without', '...      0.218  \n",
       "4      ['hello', 'freezer', 'eaten', 'decent', 'outin...      0.035  \n",
       "...                                                  ...        ...  \n",
       "34982  ['jostling', 'along', 'event', 'guilty', 'deal...      0.276  \n",
       "34983  ['lost', 'hello', 'could', 'prices', 'pump', '...      0.175  \n",
       "34984  ['along', 'representative', 'lost', 'dutch', '...      0.177  \n",
       "34985  ['man', 'perhaps', 'yum', 'could', 'excelnte',...      0.298  \n",
       "34986  ['thanks', 'friend', 'size', 'event', 'humor',...      0.309  \n",
       "\n",
       "[34987 rows x 26 columns]"
      ]
     },
     "execution_count": 4,
     "metadata": {},
     "output_type": "execute_result"
    }
   ],
   "source": [
    "df2"
   ]
  },
  {
   "cell_type": "code",
   "execution_count": 5,
   "id": "89f5f440",
   "metadata": {},
   "outputs": [
    {
     "data": {
      "text/html": [
       "<div>\n",
       "<style scoped>\n",
       "    .dataframe tbody tr th:only-of-type {\n",
       "        vertical-align: middle;\n",
       "    }\n",
       "\n",
       "    .dataframe tbody tr th {\n",
       "        vertical-align: top;\n",
       "    }\n",
       "\n",
       "    .dataframe thead th {\n",
       "        text-align: right;\n",
       "    }\n",
       "</style>\n",
       "<table border=\"1\" class=\"dataframe\">\n",
       "  <thead>\n",
       "    <tr style=\"text-align: right;\">\n",
       "      <th></th>\n",
       "      <th>topics</th>\n",
       "      <th>text</th>\n",
       "    </tr>\n",
       "  </thead>\n",
       "  <tbody>\n",
       "    <tr>\n",
       "      <th>0</th>\n",
       "      <td>['along', 'guilty', 'decent', 'desire', 'yum',...</td>\n",
       "      <td>This is nice little Chinese bakery in the hear...</td>\n",
       "    </tr>\n",
       "    <tr>\n",
       "      <th>1</th>\n",
       "      <td>['calling', 'printed', 'hops', 'could', 'wante...</td>\n",
       "      <td>I have always liked Sonic as it is good fresh ...</td>\n",
       "    </tr>\n",
       "    <tr>\n",
       "      <th>2</th>\n",
       "      <td>['stall', 'seems', 'ordering', 'man', 'cookie'...</td>\n",
       "      <td>Waited several minutes waiting to order. I was...</td>\n",
       "    </tr>\n",
       "    <tr>\n",
       "      <th>3</th>\n",
       "      <td>['sold', 'thanks', 'restaurants', 'without', '...</td>\n",
       "      <td>I eat pho about 4 times a week and from a spec...</td>\n",
       "    </tr>\n",
       "    <tr>\n",
       "      <th>4</th>\n",
       "      <td>['hello', 'freezer', 'eaten', 'decent', 'outin...</td>\n",
       "      <td>Went there at 4am and there was only one waitr...</td>\n",
       "    </tr>\n",
       "    <tr>\n",
       "      <th>...</th>\n",
       "      <td>...</td>\n",
       "      <td>...</td>\n",
       "    </tr>\n",
       "    <tr>\n",
       "      <th>34982</th>\n",
       "      <td>['jostling', 'along', 'event', 'guilty', 'deal...</td>\n",
       "      <td>I must say that this place is amazing. Comfort...</td>\n",
       "    </tr>\n",
       "    <tr>\n",
       "      <th>34983</th>\n",
       "      <td>['lost', 'hello', 'could', 'prices', 'pump', '...</td>\n",
       "      <td>I only stop at this WaWa during off hours as g...</td>\n",
       "    </tr>\n",
       "    <tr>\n",
       "      <th>34984</th>\n",
       "      <td>['along', 'representative', 'lost', 'dutch', '...</td>\n",
       "      <td>I've been a Starbucks queen ever since I can r...</td>\n",
       "    </tr>\n",
       "    <tr>\n",
       "      <th>34985</th>\n",
       "      <td>['man', 'perhaps', 'yum', 'could', 'excelnte',...</td>\n",
       "      <td>I do not know why Adelita is not packed. There...</td>\n",
       "    </tr>\n",
       "    <tr>\n",
       "      <th>34986</th>\n",
       "      <td>['thanks', 'friend', 'size', 'event', 'humor',...</td>\n",
       "      <td>Every single item on their menu is delicious! ...</td>\n",
       "    </tr>\n",
       "  </tbody>\n",
       "</table>\n",
       "<p>34987 rows × 2 columns</p>\n",
       "</div>"
      ],
      "text/plain": [
       "                                                  topics  \\\n",
       "0      ['along', 'guilty', 'decent', 'desire', 'yum',...   \n",
       "1      ['calling', 'printed', 'hops', 'could', 'wante...   \n",
       "2      ['stall', 'seems', 'ordering', 'man', 'cookie'...   \n",
       "3      ['sold', 'thanks', 'restaurants', 'without', '...   \n",
       "4      ['hello', 'freezer', 'eaten', 'decent', 'outin...   \n",
       "...                                                  ...   \n",
       "34982  ['jostling', 'along', 'event', 'guilty', 'deal...   \n",
       "34983  ['lost', 'hello', 'could', 'prices', 'pump', '...   \n",
       "34984  ['along', 'representative', 'lost', 'dutch', '...   \n",
       "34985  ['man', 'perhaps', 'yum', 'could', 'excelnte',...   \n",
       "34986  ['thanks', 'friend', 'size', 'event', 'humor',...   \n",
       "\n",
       "                                                    text  \n",
       "0      This is nice little Chinese bakery in the hear...  \n",
       "1      I have always liked Sonic as it is good fresh ...  \n",
       "2      Waited several minutes waiting to order. I was...  \n",
       "3      I eat pho about 4 times a week and from a spec...  \n",
       "4      Went there at 4am and there was only one waitr...  \n",
       "...                                                  ...  \n",
       "34982  I must say that this place is amazing. Comfort...  \n",
       "34983  I only stop at this WaWa during off hours as g...  \n",
       "34984  I've been a Starbucks queen ever since I can r...  \n",
       "34985  I do not know why Adelita is not packed. There...  \n",
       "34986  Every single item on their menu is delicious! ...  \n",
       "\n",
       "[34987 rows x 2 columns]"
      ]
     },
     "execution_count": 5,
     "metadata": {},
     "output_type": "execute_result"
    }
   ],
   "source": [
    "df2[['topics', 'text']]"
   ]
  },
  {
   "cell_type": "code",
   "execution_count": 8,
   "id": "d43d0a35",
   "metadata": {},
   "outputs": [
    {
     "data": {
      "text/plain": [
       "'This is nice little Chinese bakery in the heart of Philadelphia\\'s Chinatown! The female cashier was very friendly (flirtatious!) and the pastries shown in nicely adorned display cases. I stopped by early one evening had a sesame ball, which was filled with bean paste. The glutinous rice of the ball was nicely flavored, similar to Bai Tang Gao. Definitely as place worth stopping at if you are in the area.. This is the bakery I usually go to in Chinatown.  They have a decent variety of buns and pastries.  Red bean-filled buns, mung bean-filled buns, coconut stuff, egg tarts etc.  If you buy a dozen, they will give you two more for free.  The prices are standard for a Chinese bakery, with most things at approximately $1.  The service has always been good.  They do serve coffee and tea.  There are a couple of tables inside, with usually the expected group of older Chinese guys chillin\\' in the corner table debating about something.  Great place to stock up on the buns, which I usually do before leaving town.. A delightful find in Chinatown! Very clean, and very kind service. Everyone always seems happy in here, and their treats are absolutely delicious. You can also get a ton of sweet treats without any judgement! They\\'re my favorite.. I ordered a graduation cake for my niece and it came out absolutely perfect. Will come again for future events! Staff was nice also and the cake was really good.. HK-STYLE MILK TEA:  FOUR STARS\\n\\nNot quite sure why there are two Saint Honore Pastries business listings on Yelp, but I have been checking in to this one.\\n\\nBoyfriend and I go by it all the time while in Chinatown, but it never crossed our mind to try it.  I think we might have tried it once a year or two ago, but it wasn\\'t memorable.  I decided to try the HK-style milk tea not too long ago and was hooked.  I think I went here almost every day one week to get the milk tea, only to realize that I should REALLY watch my sugar intake...it\\'s sooo good!  \\n\\nI personally don\\'t think it\\'s better than Zhong Gang\\'s HK-style milk tea because they have their off days when a certain lady makes them (not enough ice, too much ice, etc.).\\n\\nOn a side note:  I wanted to try the crispy roast pork bun, but accidentally said the wrong name in Chinese and got the roast pork bun.  It was decent enough, although I will get to trying the crispy roast pork bun soon!  \\n\\nI will be back~. This is my favorite bakery in Chinatown! I usually get a pineapple bao (bun), red bean bao, and pork bun. \\n\\nThese buns are the cheapest and they also have bags of multiple buns, with and without filling. They have boba but I\\'ve never tried it, as well as custard tarts. I love the buns and that\\'s what I go here for. \\n\\nThe service is decent. They don\\'t speak much English, which isn\\'t out of the ordinary in Chinatown. There\\'s lots of seating and it\\'s decently clean. \\n\\nCome here for the cheapest priced buns and baked goods (which are yummy) in Chinatown!. so I dropped in to this store since it was the same company as you would find in Hong Kong. Thought it might have the same delicious pastries you would find in Hong Kong. Although you did find your egg tarts and sweet buns, they weren\\'t as ... how would you call it... fresh. They didn\\'t have the same \"zest\" as you would find at the little stores along the alley ways of Hong Kong.They do have egg tarts which will satisfy your craving but doesn\\'t leave you as tickled as you would hope. They don\\'t take credit cards by the way and there\\'s a lot of construction going on around them so it looks like they\\'re closed.. Impression: The good thing is that there are like 5-6 of these kinds of Asian Chinese bakeries around Chinatown- Mong Kok is another one that sells the same get up: sesame balls, roll cakes, taro buns, egg tarts, meat buns, ham and cheese breads- your typical Hong Kong South East Asian kinds of bakeries that sell their fares for less than 1$ each. The bad thing is, b/c it is the same as the rest, it may be hard to find something you\\'ve never tried before- but their cheese cakes looked to be their stand apart from other bakeries. This is the only \"Asian\" bakery on this street across from Nine Ting, the new Taiwanese popcorn chicken, right by Red King BBQ, and Wong Wong Restaurant. It\\'s a solid Chinese bakery- neither fancy nor cheap and poor quality, neither special or bland but solid if you\\'re looking for the typical Chinese desserts and pastries \\n\\nBecause it\\'s cheap, feel free to load up on a large stash of goodies! Egg tarts were 0.80$, sesame balls were also 0.80$ and the green tea roll cake was only 3.50$. I like to take these treats home and eat them slowly over the next few days. The sesame balls and the tarts taste great if you stick them in the microwave and zap it for 30 seconds to 1 min. Pair it with some good tea and you got yourself a nice afternoon tea for your studies/work/friends. Best egg tarts? \\n\\nI was lucky to get them fresh and right out of the oven. Oh my goodness, a little piece of heaven they certainly were! With the right amount of flakiness and the sweet creamy filling, their egg tarts that I tried this time was probably one of the best that I\\'ve ever tried, if not the best. \\n\\nIn terms of pricing, this bakery is on par with every other bakery in Chinatown. There really is not significant, if any, differential in terms of the prices.. Little square cakes of happiness with cute bunnies, cherries, and fruit, and for 90 cents each.... Don\\'t mind if I do!  I still can\\'t believe the prices in here.  I was wondering what was wrong with the cake at first for that price, but it was surprisingly as delicious as it looked.  Everything in here just looks appetizing.  I like Asian bakeries because the cakes are not overly sweet as most ones are in American Bakeries.  \\n\\n      I have tried the chocolate cake, and different versions of the vanilla cake here (bunny and cherry).  Both were fluffy, moist, simple, and slightly sweet.  They didn\\'t really have any difference in taste though.  The main difference here seems to be the cute decoration.  I\\'m okay with that though.  I get excited like a five year old child at the idea of what cute animal or fruit I will get on my cake next.  The mango pudding was okay, but not as good as I\\'ve had in some Thai restaurants, or even what I could make at home.  I haven\\'t tried any of the buns, but they do look tasty and are priced right.  They also offer bubble tea and smoothies here, but I haven\\'t tried them.  I\\'m always too distracted by the cake.\\n\\n    You should drop by here after a nice dinner in Chinatown and get some sweets to take home.  It doesn\\'t matter if you\\'re still full from your meal like I usually am. The cute little cakes look and taste just as good the next day.. This is my second favorite place for pastries down in Chinatown.  The egg tarts are second best, first being Asia Bakery.  I usually end up in here if im too lazy to walk over to Asia Bakery lol.  The breads are soft and chewy and always fresh.  Im not a big fan of their cakes though.  They have been too dry for my taste.  They have almond cookies and they are very good and cheap.  As most bakeries down there, they make milk bubble tea and smoothies.  Not a fan of the bubble tea and never had the smoothies, though alot of people do buy it here.  I\\'ll stick to my favorite bubble tea place down there. (see my other reviews lol)\\n\\nGood bread, cookies and egg tarts here.  So give it a try!  \\n\\nHappy Eatings!!. This was my and the bf\\'s go-to HK pastry place for the last two months. I thoroughly enjoyed their hot dog buns and egg tarts. Cash only and they\\'re nicer to you probably if you speak their language. Overall, a good chill spot after roaming around Philly/Chinatown all day if you need a short 5-10 minute break. Let the soy milk drink go though, it really didn\\'t taste like anything and I don\\'t like the foam silky part on the top.\\n\\nIt was authentic and I wish I can get one of em hot dog buns right now but whoever is reading this - enjoy one for me!. Excellent dim-sum but better get there early. Often sold out.. Nice pastry shop.   We went in for bubble tea after dinner at Wong Wong and left with drinks plus a bag of savory pastries.   The bubble tea is more flavor and less sugary which I like though my kids have come to expect a certain level of sweetness from their fruit flavors.  The boba were perfect, small & chewy.  The cups were smaller than most places but then again none cost more than $3.  In the evening Monday pastries ranging from $0.80 and up are 2 for $1.00, which is a good deal...similar to ABP\\'s twofer sales.  I picked a variety of savory pastries and they were all tasty the next day - one difference from buns I\\'ve had  before is that I could see bits of onion inside the bun but not in the filling.  Will go back.. 3 pastries for $1.25 after 7:00 pm!  I love coming here on a Sunday and stocking up for the week with a box full of rolls and custards.  The baked goods here are always very fresh and consistent.  I\\'m a big fan of the egg custards, which have a layered, flaky shell, and the coconut milk buns.  The cakes are better at Greenleaf\\'s but the breakfast pastries here are excellent.. I\\'ve walked down Race many times, but never noticed St. Honore before. I asked the woman at the counter if they were new, but she gave me a polite smile and no answer - either there was a communication gap or she couldn\\'t believe that I was so clueless (seeing as how Yelp reviews date back to 2008, clearly I am just  unobservant). \\n\\nI ordered an Egg Tart and was pleasantly surprised that a baked good was still so moist at the end of the day. The crust was sweet, light, and flaky and the egg filling was the perfect consistency - definitely one of the best I\\'ve had in Philly. Now that I know this place exists, I\\'ll be back to try some other baked goods.. I would give five stars, but I probably didn\\'t try enough things to qualify. The sponge cupcake was really light, fluffy, and perfectly sweet. I also got some egg tarts, which my boyfriend loves, and he said they were perfect. It\\'s cash only, they have some cheesecakes and such as well as Asian desserts.. While I\\'ve never tried their bao (and usually go to KC for that), they have the best egg tart that I have found in Philadelphia Chinatown! Not too sweet and a light flaky, buttery crust. That alone is worth a trip here.. Stumbled upon this little gem after having Pho with my friend from work....I had a slice of cake-- 95 cents! Where in the world can you still get a slice of cake for 95 cents?? It was very light and fluffy, almost like angel food cake with super light frosting.. I am quite partial to the St Honore in Mei Foo, Hong Kong. For a short while, I think I may have been a mild addict.\\n\\nSame logo, same wrapping, so yep, yep-----\\nOrdered some vanilla cream sponge slices.\\n\\nSoooo good with Starbux decaf for dessert in a warm bed. Simple pleasures:). The steamed pork buns here are out of this world!  I\\'ve tried them at several other bakeries in Chinatown, but those don\\'t even come close.  Perfect consistency, flavor, and they actually fill them up with big pieces of pork! You can get a pack of 8 for $6.50, which is a great price! The egg tarts are also some of the best I\\'ve ever had!  This place is a gem!. I\\'ve been looking for a good place that serves good roast pork buns that isn\\'t stuffed with tons of fatty meat, but has a generous portion of non fatty meat in them. This place is it! At first, I only ordered one bc I was afraid that it would be lacking meat, but once I took my first bite (whoa...meat on the first bite!!!!), I ordered a full box. :-) If you purchase a full box, they give you 2 free. AWESOME! I also ordered an avacado shake and a strawberry shake. Both are made with real fruit. I hate places that use powder. The shake was great. She made them without milk (like I requested) and I couldn\\'t have asked for anything better.\\n\\nThe service is spectacular! I loved the fact that she could speak english very well and understood everything I asked for. I hate going into some places and give you dirty looks bc you can\\'t speak their language. She asked if my shake was good and to my liking. I really appreciated her taking the time to get my order correct. I will def be back here for more pastries!. Their prices were very good, and the lotus cake I tried was tasty. I can\\'t speak for their other pastries, so I\\'ll have to stop by again sometime.. My go to place to get a nice birthday cake. Not too expensive (12$ for a strawberry cake), and very delicious ! They also gave me birthday candles, which is nice !. Got my wedding cake here and it was the best decision ever. So much more reasonable priced than American bakeries and way more delicious since it is not fondant based. Owner Kevin is an artist when it comes to cakes and he offered me great suggestions when I was torn between flavors and designs.\\n\\nWe ended up with 3 tiers: top: Strawberry shortcake 2nd: Chocolate sponge with strawberry filling 3rd: Green Tea with homemade red bean filling.\\n\\nIn normal weddings, there\\'s usually a whole lot of cake leftovers. In normal Chinese weddings, there\\'s usually a whole hecka lot more cause people leave after the lobster is served. So it\\'s a huge deal when I tell you that other than a take out box that the server set aside for us, we had no cake leftover! \\n\\nThey also custom made mini coconut tarts for our Cocktail Hour which were a huge hit! Much thanks!!. Really good egg tarts. Scratch that, probably the best egg tarts in Philly. I keep trying to catch them straight out of the oven, but I think you probably have to ask them for that or something, because the last time I watched them bring out a fresh batch of egg tarts, and ordered it, it was still cold. Definitely still, good, I just want to try them right when they come out of the oven. I wish I knew when they baked those darn egg tarts. I\\'ll have to ask them next time. Anyways, unlike most of the places in Chinatown, they use a flaky crust for their egg tarts. Pair that with the sweet, creamy baked egg custard filling, and it is a match made in heaven haha. Flaky crusts are the way to go for egg tarts. \\n\\nTheir other buns and savory pastries are standard; taste the same to me anywhere I get them. My sister favors their butter bread though, which is very good, and can act as dinner rolls. The drinks here are ok, nothing special. They serve the standard milk tea, lemon tea, and they also have bubble tea, but I\\'ve never gotten that here. They have a few small tables for you to sit on, and a refrigerator with soda and canned/boxed drinks right by the door so you can grab and go(no five finger discount!!! Remember to pay). I\\'ve also had the lemon cake before, which wasn\\'t bad, but sometimes I do stray from the cakes, as they don\\'t always look fresh.\\n\\nI don\\'t think I\\'ve ever seen young people working here; it\\'s usually 1 or 2 middle aged ladies behind the counter. They\\'re not mean, but they\\'re not overly friendly either. They just do their job, that\\'s all it is. No extra smiles or small chat. And usually, there will be one or two middle aged/old men sitting toward the back reading the newspaper, making it seem more like the cafes in HK, where old people will hang out in cafes just to drink a cup of tea and pass the hours by. \\n\\nAll in all, definitely come here for an egg tart, if nothing else. You won\\'t regret it.. St Honore Pastries is another one of those places that if I\\'m ever nearby I have to make a visit. They have a wide selection of individual size cakes, buns, and other nibbly things almost all less than $1, usually .70-.90 a piece. \\n\\nMy personal favorite is the \"cupcake\" which looks like it\\'s baked in a flower pot, it has a very eggy taste and a light and fluffy texture. The snowman cake, already mentioned by kathy t. is kind of really cute so I got one last time and it was pretty tasty. \\n\\nThey also have a fairly large drink menu so if you\\'re looking for a durian shake, or something more appetizing, this is the place to get it.. People are really cold and reserved didnt feel welcomed at all. Was rushed out the door quickly. Feeling welcomed is always important.. The pastries are decent but the coconut bread and raisin breads are very dough-y and had the tendency to stick to the roof of your mouth.  The coconut bread only had a very scant amount of shredded coconut and was, itself, a bit on the bland side.  Definitely not even close to what you would get in Flushing.  We had to toast the bread just so we could actually swallow i The sesame butter cookies were fantastic: light, crisp, covered in sesame seeds, and containing the perfect amount of sweetness.  These are much akin to the butter cookies from Roma\\'s and Isgro\\'s, except with an Asian twist, compliments of the sesame seeds.  The almond puffs are also quite delish and very flaky and light with plenty of sliced, toasted almonds and a drizzle of honey on top.  The egg tarts are great with a flakey, layered, and buttery crust.  Come here for the cookies, egg tarts, and pastries, not for the breads.. A nice Chinese bakery that gets you the goods. Rather than the shortbread cookie like crust of egg custard tarts at other Chinatown bakeries, St. Honore\\'s egg tart has a flaky multilayered crimped crust (probably full of hydrogenated fats, but life is short). Full range of multilayer cake slices (snowman cake! peach cake!), jelly roll like chocolate roll, sweet pastries (sponge cake like cupcake, almond cookies, coconut cream bun, coconut cocktail bun) to the usual savoury pastries (beef curry bun, bbq pork bun, etc). Most of the individually sized baked goods run under $1 and an extensive bubble tea and fruit flavored shakes menu is posted on the wall.\\n\\nSeveral fourtops along the wall if you want to eat in, but I generally takeout and munch in the park etc. If you get a dozen pastries, they\\'ll often throw in two for free.. Their egg tarts are the best. The crust is flaky and buttery and the custard is baked to perfection- soft, creamy, and jiggly, the way it should be! I love that they\\'re not overly sweet too. Get there early in the morning and get the egg tarts while they\\'re still warm, it\\'s the best thing ever!\\n\\nSome bakeries in Chinatown get their pastries delivered, I like that they bake on the premises. You know you\\'re getting fresh pastries!. So I don\\'t know how the other review was double posted, and I didn\\'t notice till now. But here\\'s an update. I don\\'t go here for egg tarts anymore, they are not as good as they used to be. (Go to Zhong Gong if you\\'re looking for great puff pastry egg tarts.) That being said, I still think their tarts aren\\'t too bad, just not the best, and all their other baked goods are still good too.\\n\\nBut the real gem here are the custom chinese cakes. If you like soft, light, and fluffy Chinese cakes, then you\\'ll love the cakes at St Honore. They bake to order, and their fillings, toppings, and whipped cream are always fresh. It\\'s a little more than what you\\'d pay at some of the other asian bakeries in Chinatown, but you\\'re paying for quality and consistency. Try one for the next birthday!. Absolutely love this bakery.  My guilty pleasure after work.  Croissants and raisin buns are so fresh they melt in your mouth.  Prices insanely low for the quality... cheaper than the surrounding bakeries which don\\'t quite cut it like St Honore. Also, the owner is so sweet. She even is honest about how fresh her coffee is; when fresh, it is excellent and also cheap.. I was so glad when the smoking ban in Phila  was implemented,because the old men smoking would have been the only the only reason I would have gave this place a lower score.Phew! it was foul smelling. The prices are unbelievable.I don\\'t know how they can create such beautiful works of art for such small amounts of money .60 cents for a magnificent pastry decorated with glazed fruit to look like a expensive $5.00 french pastry.Crazy! and delish.My favorite is the buttery cream filled coconut bun.It is so rich we tend to share one with coffee.Buy a few and refrigerate them or impress friends at a party .So many lovely sweets so cheap and yummy.Nice enough for a bridal party. Street parking sucks but one goes in while the others circle.. Arguably the best Chinese pastry shop in Philly\\'s Chinatown... another favorite of mine when I was doing time in Philly for college years ago...\\n\\nThey have all the traditional favorites - hot dog buns, roast pork buns, coconut cream, coffee rolls, egg tarts, etc.  Prices have gone up since I last visited -- but the place is cheaper than most bakeries in NYC - ranging from $0.60 to $0.80 for most items.\\n\\nThey also serve up drinks including bubble tea - it hits the spot but is by no means earth shattering.. Just came from this bakery this afternoon and I really liked this little shop. They have the fluffiest, soft bolo bao (pineapple bun) I have ever had. Their milk tea was made fresh. I would probably ask for a stronger tea brew in my milk tea though. Their prices are very affordable. Yum!\\n\\nThe only downside to this place is their packaging. I\\'m from out of town and the open wax paper packaging makes it hard to travel around with and to keep fresh.. Horrible 3rd world service. After I picked out my pastries, I asked for a box. The woman behind the counter scolded me:\"you have to ask that in advance!\" Then she proceeded to take out each pastry from its little bag to put them in the box! I asked if that was necessary and the response \"you can get bags OR a box,\" not both! I nearly fainted. I guess they are going to re use the bags, which is UNFATHOMABLE to me. I am a grown ass adult and I won\\'t be spending any of my hard earned $ here!. Looks like a nice place from the outside, but the Bubble tea really sucked. If you are going to blend ice into it, at least do it so it\\'s smooth and not gritty or rocky. Also something is wrong when you Green Tea Bubble Tea looks white and not green. Bubbles had the wrong texture too. Yuck!\\n\\nWe also ordered the egg tarts which were good.\\n\\nBased on my experience though, I have no desire of coming back.. I just walked in to this random bakery to order a birthday cake for my family member\\'s birthday last week. I picked it up this afternoon. It was beautiful fruity and cheap. I only paid $27.00 for  pretty big size cake. The most important thing is it was DELICIOUS !! I can\\'t believe it !!. It was not too sweet, it was just perfect. Just perfect for the birthday party. I willing to try another kind again for the next birthday party.. Stopped in yesterday while on an unsuccessful hunt for something else in Chinatown and grabbed a coconut cream bun ($0.70) and a curry beef thing ($0.80). \\n\\nI ate the coconut cream bun while I was waiting for the train and it was so delicious I briefly considered seeing if I could make it to St. Honore and back before the train came. The bun itself is sort of elastic/chewy but in an inoffensive way, the filling is delicious. \\n\\nCurry beef pastry was ok, extremely flaky which is a plus but not very much inside. Roast pork bun is a better bet.. We have tried many of the bakeries in Chinatown and beleive that this is the best one. The quality of their pastries is superior and their deserts are also more attractive than the other bakeries. This is my go to for a chinatown bakery.. Escaped the bubble of business travel and happened upon this Chinatown bakery early in the morning. Buns are standard Chinatown freshness and deliciousness but prices were amazing. Maybe I have my SF goggles on?. bun is sucked here and the waitress was really mean and cheap... will never come anymore... I really think that the review above 3 stars are fake. I can only comment on the cakes but my cake experience has been great. They are not pricey by any means. I think a 6-inch strawberry cake for Mothers Day cost me only $12. Don\\'t think that because it\\'s not pricey that the taste will be bad. We all loved the cake. The cream was light and the cake moist and not too sweet, which I appreciate.  We\\'ve tried the taro one before too. I was skeptical about the flavor but it was terrific too. They\\'ll write what you want on the cake on the spot. They gladly wrote \"happy Mother\\'s Day\" in Chinese on it for me. I\\'m not sure if they make custom cakes.  I\\'ve never tried their other things but I\\'m going to try their sponge roll cakes next- just 4 bucks if I remember right. Give their cakes a try!. This place is cheap with a capital \"C.\" Though most bakeries in Chinatown are very affordable, what made this place great was the service! The woman behind the counter chatted us up and helped us decide on which bubble tea to order. We went with the thai tea which they prepare themselves earlier in the day. The thai tea was tasty but could have been a little sweeter. I was tempted to try out some of the treats since they were only a buck but I was stuffed from dinner. Next time I\\'ll try to the egg tarts.. Cute pastry shop, very authentic chinatown feel. I had their egg tarts including the almond tart. I definitely prefer the egg tart over the almond tart. It was flaky and the egg custard was sweeter than the almond. The almond tart didn\\'t have any almond taste to it. The flaky crust was definitely a good compliment to the egg custard. Not bad for 80 cents a pop.. Ordered a birthday cake here for the first time based on the reviews. I ordered a few days in advance, a chocolate cake with vanilla frosting that said happy birthday mom. They only did 8 in chocolate cakes which is fine. When I went to pick up, I was disappointed to see they had put some chocolate frosting on the top of the vanilla. I paid $23, my mom would still like it but it\\'s not my order 100%. The lady at the counter didn\\'t seem to speak English and I didn\\'t want to argue. The lady I spoke with over the phone spoke perfect English and we confirmed at least 4 times my order back and forth. I think just be careful when placing an order here. There must have been a miscommunication or it wasn\\'t written down right as the paper that came with the cake just said chocolate cake. The cake was delicious, the price was fair and the cake was beautiful so that\\'s why I give it 4 stars. I may just order all vanilla next time.. This bakery is a gem! It has the most delish pineapple buns!! The service was excellent as well! We enjoyed buns with Vietnamese coffee! They were very kid friendly as well! I highly recommend this bakery!. Cheap chinese bakery. Pretty consistent with the quality. They make decent cakes here too!. One of the better places in Philadelphia Chinatown for rolls and egg tarts (multiple layer crust here!).\\n\\nService is generally faster if you can speak in Cantonese, though... I tried to use Mandarin and it\\'s still faster than English.\\n\\nTeas here are okay, although probably better elsewhere.\\n\\nLimited baked good selection, but they do everything almost equally as well, and they\\'re very consistent about it.. This use to be my goto bakery for coconut buns. Then I became a freak about my sugar intake and I stopped getting most baked goods.\\n\\nI remember Linda N.\\'s review about them and ventured there during my lunch break. I didn\\'t want a drink but saw they had a sign for custard buns, my childhood favorite!!!  I go in and look for their steam machine thing... But nothing is in it. I ask for the bun, and they said it was frozen. I assume for take home orders. Womp Womp!!  \\n\\nI felt weird leaving without buying something so I got the egg custard. I\\'m glad I did, it was pretty bomb. Well done in my opinion. Can\\'t beat price, 80 cents. I\\'ll try the hk tea next time... Didn\\'t realize they sold it in ice lol.. Didn\\'t want hot since it was hot outside.. I ordered so many cake from here for our family\\'s events.\\nThey all came out good. Easy to communicate with the owner cuz her English is pro. Price is reasonable.. We usually buy durian birthday cake from this bakery but this will be my last time buying from here. Just got a 10\" durian birthday cake and the quality is going down while price is going up. The cake cost $50 and back then you\\'ll get more durian filling but now you get more cream! The cream is not even good.. I have been looking for chestnut cake around for a while for my birthday and they have it! It\\'s like an angel fruit cake with chestnut paste as the filling! It\\'s delicious!\\nThe quality is very good!and it\\'s very affordable as well!\\nThey also have regular fruitcake,tiramisu mousse cake and more!some of the items are made to order like the chestnut cake,and some are pre-made(see pictures)Have a look next time when you are around!\\nAuthentic Hongkong style pastries!!. TERRIBLE TERRIBLE service. I have never felt so disrespected by any establishment EVER. I walked in around 7:30pm on a Friday to pick up a birthday cake pre-ordered. I was waiting for a friend so I decided to buy an egg tart (somehow they charged me 90c even though the sign CLEARLY said 80c, but I wasn\\'t in the mood to argue over 10c) and use the rest room while I waited. The door to the bathroom was locked and all I got as an explanation was, \"the last person to use it must have locked it behind them. We have no key.\" HOW do you not have the key to your own bathroom? I was confused at first and thought it must be a simple misunderstanding but nope, they really just didn\\'t want me to use their restroom. I asked them where they used the restroom if its locked and they just mumbled and didn\\'t answer me (mind you, there was no language barrier--they completely understood me). So I sat down with the egg tart (which honestly wasn\\'t even as good as those at other bakeries) and waited for my friend.\\n\\nWhen I checked on the cake, the name was spelled wrong even though we had confirmed the spelling multiple times. So when I asked the woman to change it, she just had the biggest attitude. I could hear both women behind the counter talking about me, I guess they didn\\'t realize that I could understand. Believe me, I am the first to admit if I am in the wrong or if I had any part in bad service received but this is the first time I have genuinely been shocked at how I was treated. I will never be back here again. Get your pastries somewhere else, where the employees are friendlier, where they won\\'t unreasonably overcharge, and the food tastier.. Went just for the egg tarts. The crust was incredibly thick and while flaky, the edges had the texture of being stale. The egg custard was sweeter than I am used to but I did not mind that as much the crust.. Really good egg tarts. Scratch that, probably the best egg tarts in Philly. I keep trying to catch them straight out of the oven, but I think you probably have to ask them for that or something, because the last time I watched them bring out a fresh batch of egg tarts, and ordered it, it was still cold. Definitely still, good, I just want to try them right when they come out of the oven. I wish I knew when they baked those darn egg tarts. I\\'ll have to ask them next time. Anyways, unlike most of the places in Chinatown, they use a flaky crust for their egg tarts. Pair that with the sweet, creamy baked egg custard filling, and it is a match made in heaven haha. Flaky crusts are the way to go for egg tarts. \\n\\nTheir other buns and savory pastries are standard; taste the same to me anywhere I get them. My sister favors their butter bread though, which is very good, and can act as dinner rolls. The drinks here are ok, nothing special. They serve the standard milk tea, lemon tea, and they also have bubble tea, but I\\'ve never gotten that here. They have a few small tables for you to sit on, and a refrigerator with soda and canned/boxed drinks right by the door so you can grab and go(no five finger discount!!! Remember to pay). I\\'ve also had the lemon cake before, which wasn\\'t bad, but sometimes I do stray from the cakes, as they don\\'t always look fresh.\\n\\nI don\\'t think I\\'ve ever seen young people working here; it\\'s usually 1 or 2 middle aged ladies behind the counter. They\\'re not mean, but they\\'re not overly friendly either. They just do their job, that\\'s all it is. No extra smiles or small chat. And usually, there will be one or two middle aged/old men sitting toward the back reading the newspaper, making it seem more like the cafes in HK, where old people will hang out in cafes just to drink a cup of tea and pass the hours by. \\n\\nAll in all, stop by here for an egg tarts, if nothing else. You definitely won\\'t regret it.. my friends and i were on the search for the best hong kong milk tea today. while st honore\\'s version wasnt remotely as close to the best i\\'ve tried, it is by far the best in philly. give this place a go if you are on the hunt for some good hong kong milk tea.. After coming from New York I knew I\\'d have to go through trial and error to find my go-to Chinese bakery in Philly.  After trying nearly all of the bakeries around Chinatown, this is probably my favorite.  First of all, the staff is very nice and helpful.  I wish I knew their names because I\\'d like to give proper credit to the staff, but the lady who speaks English without an accent is so friendly.  Every time I stop in she\\'ll say hi and ask how I\\'m doing with a big smile.  I really feel like I\\'m a regular at this point.  I once came with my mom and now she\\'s always asking how my mom is and when\\'s the next time she\\'ll be back.  \\n\\nOn to the buns.  I\\'ve tried most of the items available at the bakery.  There\\'s a wide assortment of sweet and savory buns, desserts, and prepackaged steamed buns ready to go.  I\\'m really obsessed with Chinese style dried shredded pork, so I always have to get either the \\'pork over bun\\' or the rolled up bun with green onion and dried pork any time I walk by.  To someone without much Chinese bakery experience this may sound weird but you have to give it a try, such a great balance of sweet, salty, savory, decadence.  Everything else for sale is also top notch.  I was lucky enough once to grab some egg tarts that were literally straight from the oven and I have to say at that point they were the best I\\'ve ever had in my life.  \\n\\nThey also have an assortment of hot and cold drinks available, but I don\\'t have much experience with those.  All in all this is a must-go if you are wandering around Chinatown.  Stop in for a bun or a dessert.  It\\'s a great treat, from an exceptional staff, and it definitely won\\'t break the bank.. My favorite go-to Chinese bakery for roast pork buns, egg custard buns & tarts, and fried pork dumplings! I especially love coming here in the morning because I get to see/listen to the old Chinese men in the back talking/gossiping about the latest news (old people are so cute!). \\n\\nPros:\\n-- Cheap prices! Almost every baked good is under $1\\n-- The ladies who work here are so friendly and always smile\\n-- Very consistent with almost always getting \"fresh out of the oven warm\" baked goods\\n-- Get to practice my Cantonese!\\n\\nCons:\\n-- Very small place, so not much moving room\\n-- Not a place to go to sit down and do work. If I\\'m driving to Philly for some cheese steaks from NYC, I know I have to go to St Honore Pastries for some egg tarts. I guess with everything going on with the pandemic, I thought the staff would have taken more precautions.  I didn\\'t realize it at the time, maybe I was just too eager to have some egg tarts, but the lady that took my order used her hands (without gloves) to get the egg tarts instead of tongs.  Am I being overly paranoid?!?  I mean, I\\'ve been to Chinatown and Flushing in NYC, so a woman using her hands to get me a bao isn\\'t out of the norm but that was before Covid.  If I had to rate the egg tarts (yup, ate them waaaaay before I played back the experience in my head) and cha sui baos, I\\'d definitely give it 5 stars but because of the lack of safety precautions, had to bump them down to 2 stars. Oh, the store hours aren\\'t correct on Yelp, I made the mistake of going at night (before closing time) and they were already closed.. Support this business! I grabbed 4 pastries here to taste and they were all awesome. The woman who runs this plan was so sweet and kind to me. I regret not trying the cheesecake they offered!! Luckily, everything I did grab was awesome, and I got to share it with my friends who also loved them.. Oh pastry shop, how you now disappoint me! I\\'ve been here often and they have always stuck with the moto \"We only use fresh fruit. We don\\'t have powder stuff here.\" And now, what happened to you?!?! You stooped to the level of some other tea places that use powder. YUCK!!!!!! And it\\'s not even blended good either. It taste gritty and just plain disgusting. After making it, I noticed the funky looking color and asked if this was fresh. \"No, it\\'s powder. You didn\\'t ask for the fresh fruit one which costs more money.\" From all the other times I have been here, you have never given me a strawberry drink made of flavored powder. Who even asks for a fruit drink made of powder??? Also, my sister ordered the thai tea. It did not taste fresh. :-( When my family wanted a good bakery, I was so happy to introduce them here, but then all this happened....shame.\\n\\nAnd the pork buns aren\\'t as good either anymore either. It was stuffed with tons of onions when before it was stuffed with a balance of meat and onions. Are you cutting back on quality bc of costs?? I rather pay a lil extra money for your old quality then you trying to cut cost and making your products non-edible.\\n\\nI thought I found my new bakery, but my search continues..... I\\'ve only tried the roast pork buns/char siu bao and egg custards here, and both were solid. I\\'ve tried bao at a few of the other Asian bakeries, and I think this one is my favorite thus far. The meat isn\\'t too sweet and is tender and flavorful enough, and the ratio of meat to bun is such that the bread doesn\\'t fall apart while eating. The egg custard was also enjoyable. I liked the consistency and flavor of the custard, but prefer a flakier crust. \\n\\nFor now, this is my go-to place for bao.. I love this place..  I love their chunky fried dumplings, sesame balls, n more... never disappointed when I go there...  you even call them in advance if you have a  party , they can even make extra fresh bakery for u!. Tried just about every sweet bun available. This has got to be the best brioche dough I have tasted in a long time. The fillings, while delicious, were a bit skimpy in some of the buns. Red bean and crispy coconut were standouts. Taro was lovely but could\\'ve had more oomph. Sesame balls were the one thing I didn\\'t like: fryer needed an oil change, so that was all I could taste. Would return for the brioche goodness, great prices, friendly staff.. My mom loves this joint. A trip to chinatown is not complete without some  egg tarts. They are delightful even two days later.\\n\\nThey are also insanely cheap and take credit cards.. I love this place!  The cakes are always beautifully made and very fresh!  The buns are also very delicious! My favorite bun is the pineapple roast pork bun.  The mixture of sweet and savory is yummy to my tummy!. They are still open and fully stocked during this pandemic! :) Stopped by on a Saturday mid-day and they had everything. The lady who helped me at the counter was very friendly. She informed me what pastries just came out fresh. (Their egg tarts are very popular by the way.)\\n\\nOther times that I\\'ve come here, they\\'ve sold out on the pork scallion roll. I was so glad to see they actually had some when I stopped by!! Finally got to taste it and I was not disappointed. The bread is so soft and tasty. It has the light taste of pork and scallion. I honestly expected a little more scallion to be in it, but it still tasted delicious. For those not familiar with this kind of roll, forewarning to those who don\\'t like mayonnaise: it has a mayonnaise-like spread inside. I personally think it enhances the roll.\\n\\nI also tried their roast pork bun for the first time. Do not miss out on this if you like roast pork !! This is a great combination of sweet and salty. The bun itself has the sweet topping and it\\'s filled with the roast pork inside. I regret not buying more than one, especially because it\\'s so affordable. :(\\n\\nIf you\\'re looking for some cheap and delicious asian pastries, definitely stop by here and check out what they have. I\\'ll have to try their desserts next!. AMAZING!!!! Everything is so cheap! I got the egg tart, neapolitan, and \"cupcake.\" The place smelled bit weird when i came in, but that was fine since i wasnt planning on staying there to eat. Neapolitan is perfect combo of sweet and crispy. It\\'s not crazy sweet like others with icing on top. The cream in between is also not that sweet, tastes bit like whipped cream, but the pie is AMAZING. The \"cupcake \" is like spongy soft angel/pound cake which is what i was expecting. Egg tart EXCEEDED my expectations the crust was to DIE for and it actually tasted like an egg tart not a tart with yellow cream in middle!!! COMPLETELY recommend this place. If you know me, I LOVE iced HK-style milk tea... a lot. I used to frequent Zhong Gang, but it has been very, very inconsistent - too much half and half, not enough syrup, or not enough ice. \\n\\nMy new favorite HK-style milk tea is from here. $1.50 for iced. It is consistent most of the time. I like to ask for crushed ice, but there\\'s just too much clumped ice leftover... most likely because of the cold weather. Maybe it will be different when the weather gets warmer. \\n\\nDefinitely recommend their iced HK-style milk tea and HK-style iced tea!. The breads were SUPER SOFT. The egg custard in both breads were on point. Whenever I go to Chinatown, I always stop by at least one local bakery. The breads are so cheap and packed with goodness. There wasn\\'t much variety around 4pm. I was hoping for more savory choices. But this is a great snack stop.. Not sure what happen. I have order a taro cake from this place 4 times and each time it was delicious and fresh. However, the fifth time, I ordered a 12inch taro cake for my moms birthday it was bad. The cake was order on a Friday, picked up on Saturday, and party was on Sunday. I had put it in the refrigerator immediately after coming home with it. The taro fulling of the cake was sour and tasted very odd. They must of used old taro or just completely messed up the order. I was and still am embarrassed and disappointed at the cake because we had 20 guest and we served bad cake at my moms birthday party. I call the bakery immediately and they did refund me my money, however, the party was somewhat ruined and literally left a bad taste in my mouth. I will no longer recommend this place nor will I return to purchase anything from here anymore. I wish I can give it zero stars.. Clean little Asian pastry shop and owner was very friendly and kind. Prices are reasonable - came away with 6 pastries for $6.75. Recommend the pineapple buns, roast pork buns, sponge cake, and wife cake!. Saint Honore Pastries is one of the best bakeries in Chinatown. Although the location is small, but the pastries are good and the place is clean. If you buy a dozen pastries, you get a free pastry or the raisin bread. My family is a fan and we always buy from here when we hit the beach. Our favorite is the shredded pork roll, which is moist and flavorful. They have the best shredded pork roll in Chinatown. They do serve other foods as well and not just pastries and desserts. Saint Honore Pastries is good to sit for a quick bite and some tea as most Asian elders do around in the early morning.. Awesome pastries, awesome price! This place is the absolute BEST in Chinatown for egg tarts and they\\'re only 80 cents each! I got 10 of them and it came out to $8. You can\\'t beat that! The service is so nice. It\\'s your typical cute Chinese bakery. This place is great for getting a quick treats and walking around the city of ordering a bunch and bringing them home like I do.. Great breads, cookies and cakes. Great service, and the owner who works on Sun. always has a friendly smile to greet you and make you feel welcome. Also sell moon cakes for the Autumn Fest. and New Year cookies. 2 of my favs are the butter buns and the green tea roll cake.. The bakery was very simple and didn\\'t have many items out on display but the woman who helped us was very nice and friendly. We bought two pork buns and a milk boba/tapioca tea. The tea and the buns were both very good. We asked that the buns be warmed up and she quickly obliged. We ate them as soon as we got back in the car.. The crispy roast pork is SO GOOD and lowkey it\\'s 2 little buns stack next to each other for the price of 1. Amazing amazing and can\\'t recommend enough.\\n\\nWhen I got there ~2 pm the bun I got was warm!. Great swiss roll cakes! The pandan flavor is delicious. The cream is so thinly rolled in, just the way I like it--aromatic yet fluffy and light.. This is my favorite bakery in Chinatown! It\\'s my go to spot at all times.\\n\\nI love the egg tart, pineapple bun, and milk tea there. The staff are so nice and friendly. Once you walk in they will greet you right away. When I walk in they already know my order.\\n\\nAfter 6 o\\'clock, they have a special for buns - 2/$1. It\\'s what\\'s left from the afternoon. The buns can sit overnight; I normally eat it right away as a snack or eat it for breakfast the next day. \\n\\nDefinitely recommend this bakery!. Yesss, the bakery is open and with my favorite worker lol. After months of no Asian pastries, my husband and I ordered a dozen of goodies to ourselves. We miss the egg tarts and buns. Yum, so happy they\\'re open and cravings satisfied for sure.. The owners do a great job with this place. It is clean, well lit and managed well. They are always friendly and helpful. Bought some great mooncakes for the Mid Autumn Fest and were reasonably priced. My 2 favs are their butter buns and steamed buns - best in Chinatown. Also they have a good selection of cakes, buns and cookies. You gotta try their custard cakes. There are like 8 or 9 bakeries in Chinatown. This one is at the top of my list.. The lady at the counter was very pleasant. I was on the hunt for the best big combination steamed buns (Baozi). It was good, but the bread to filling ratio needs improvement.. I really enjoyed my brief visit to St.Honore Pastries. I\\'d originally planned to go to one of the newer spots but I\\'ve been here many times and knew they wouldn\\'t disappoint me. I wish the rest of the city was like Chinatown that place is always jumping it feels like NYC. \\n\\nService 4.5/5\\nThe counter lady was all business but the two people in front of me were elderly and I thought she could have been a little gentler with their cake box. I\\'d a feeling there was an actual cake inside and the man commented to me that \"this is a peaceful place,\" right before she slammed his cake box on the counter. Now he epitomized customer loyalty but I could see (though he didn\\'t say it) he didn\\'t feel appreciated by the counter lady. A loyal customer is special and should be treated accordingly. \\n\\nAmbiance 3/5\\nI\\'ve been here before it\\'s not peaceful. But I enjoyed the people watching. There are usually senior citizens sitting together watching the news in Chinese with a cup of coffee or tea it\\'s lovely to see them. And even better b/c the scent of coffee wafting through the cafe/bakery smelled divine. I didn\\'t order it though b/c I\\'m a habitual insomniac so no caffeine for me after 2pm.\\n\\nFood\\nEgg tart 3/5\\nThough it was delicious it was way too sweet for me and i love sweets. The tart crust was perfect but the egg custard was too sweet. I won\\'t order it again although it was very creamy and otherwise cooked perfectly.\\n\\nRainbow cake 5/5\\nNot too sweet - it was perfect and just the right amount of frosting. The sponge cake was moist and had the right texture. I basically have the pallet of a little kid so if i see rainbow sprinkles i say yes please.\\n\\nMy check came to $2 so I highly recommend you make a visit and try different items b/c at those prices you can afford to take some risks !. The lady on the counter looked like she did not want to do business at all, her face was very unpleasant. I went to this store specifically to get their egg tarts cause they WERE delicious. Now, not anymore. The fillings had watery texture instead of the creamy taste they should have. \\n\\nI also ordered \"honey citron tea\" which the sign said $1.25, then the lady charged me $1.50. I positively thought they must have changed the price. As I went back, she got my order wrong and gave me \"honey ginseng tea\" instead. Ugh. I also bought a slice of tiramisu cake, and it was ok, not too sweet but I hardly tasted the coffee at all.\\n\\nI will not be back.. My favorite chinese bakery. I love their buns. And their eggtart is best in whole Chinatown'"
      ]
     },
     "execution_count": 8,
     "metadata": {},
     "output_type": "execute_result"
    }
   ],
   "source": [
    "df2['text'][0]"
   ]
  },
  {
   "cell_type": "code",
   "execution_count": 9,
   "id": "c90f9829",
   "metadata": {},
   "outputs": [
    {
     "data": {
      "text/plain": [
       "\"['along', 'guilty', 'decent', 'desire', 'yum', 'ass', 'could', 'smiles', 'search', 'kid', 'oomph', 'anywhere', 'packaging', 'loyalty', 'experience', 'different', 'sell', 'cookies', 'hard', 'needed']\""
      ]
     },
     "execution_count": 9,
     "metadata": {},
     "output_type": "execute_result"
    }
   ],
   "source": [
    "df2['topics'][0]"
   ]
  },
  {
   "cell_type": "code",
   "execution_count": 13,
   "id": "841b4e19",
   "metadata": {},
   "outputs": [
    {
     "data": {
      "text/plain": [
       "0.8848377558172891"
      ]
     },
     "execution_count": 13,
     "metadata": {},
     "output_type": "execute_result"
    }
   ],
   "source": [
    "np.corrcoef(df2['sentiment'], df2['stars'])[0,1]"
   ]
  },
  {
   "cell_type": "code",
   "execution_count": 19,
   "id": "626ad2be",
   "metadata": {},
   "outputs": [],
   "source": [
    "from sklearn.linear_model import LogisticRegression"
   ]
  },
  {
   "cell_type": "code",
   "execution_count": 24,
   "id": "91d7d36b",
   "metadata": {},
   "outputs": [],
   "source": [
    "x=df2[['sentiment']]\n",
    "y = df2['stars']"
   ]
  },
  {
   "cell_type": "code",
   "execution_count": null,
   "id": "4b106813",
   "metadata": {},
   "outputs": [],
   "source": [
    "y = "
   ]
  },
  {
   "cell_type": "code",
   "execution_count": 18,
   "id": "3783196f",
   "metadata": {},
   "outputs": [],
   "source": [
    "from sklearn.linear_model import LinearRegression"
   ]
  },
  {
   "cell_type": "code",
   "execution_count": 28,
   "id": "f6b84827",
   "metadata": {},
   "outputs": [
    {
     "data": {
      "text/plain": [
       "LinearRegression()"
      ]
     },
     "execution_count": 28,
     "metadata": {},
     "output_type": "execute_result"
    }
   ],
   "source": [
    "lr = LinearRegression()\n",
    "lr.fit(x,y)"
   ]
  },
  {
   "cell_type": "code",
   "execution_count": 29,
   "id": "2848267f",
   "metadata": {
    "scrolled": true
   },
   "outputs": [
    {
     "data": {
      "text/plain": [
       "0.7829378541197671"
      ]
     },
     "execution_count": 29,
     "metadata": {},
     "output_type": "execute_result"
    }
   ],
   "source": [
    "lr.score(x,y)"
   ]
  },
  {
   "cell_type": "code",
   "execution_count": 41,
   "id": "1165f027",
   "metadata": {},
   "outputs": [
    {
     "data": {
      "text/plain": [
       "array([2.47331165])"
      ]
     },
     "execution_count": 41,
     "metadata": {},
     "output_type": "execute_result"
    }
   ],
   "source": [
    "lr.predict(np.array(x.iloc[4,:]).reshape(1,-1))"
   ]
  },
  {
   "cell_type": "code",
   "execution_count": 32,
   "id": "66c5caf5",
   "metadata": {},
   "outputs": [],
   "source": [
    "docs_ngs = df2['text']\n",
    "y_ngs = df2['stars']"
   ]
  },
  {
   "cell_type": "code",
   "execution_count": 33,
   "id": "351bf708",
   "metadata": {},
   "outputs": [
    {
     "data": {
      "text/plain": [
       "(26240, 109100)"
      ]
     },
     "execution_count": 33,
     "metadata": {},
     "output_type": "execute_result"
    }
   ],
   "source": [
    "from sklearn.model_selection import train_test_split\n",
    "from sklearn.feature_extraction.text import TfidfVectorizer\n",
    "docs_ngs_train,docs_ngs_test,y_ngs_train,y_ngs_test = train_test_split(docs_ngs,y_ngs)\n",
    "\n",
    "vect = TfidfVectorizer(lowercase=True,\n",
    "                       min_df=5,       # occur in at least 5 documents\n",
    "                       max_df=0.8,     # occur in at most 80% of documents\n",
    "                       token_pattern='\\\\b\\\\S\\\\S+\\\\b',  # tokens of at least 2 non-space characters\n",
    "                       ngram_range=(1,1) # only unigrams\n",
    "                       #use_idf=False,  # term frequency counts instead of tf-idf\n",
    "                       #norm=None       # do not normalize\n",
    "                      )\n",
    "X_ngs_train = vect.fit_transform(docs_ngs_train)\n",
    "X_ngs_train.shape"
   ]
  },
  {
   "cell_type": "code",
   "execution_count": 80,
   "id": "8d14d476",
   "metadata": {},
   "outputs": [
    {
     "data": {
      "text/plain": [
       "Pipeline(steps=[('vect',\n",
       "                 TfidfVectorizer(max_df=0.8, min_df=5,\n",
       "                                 token_pattern='\\\\b\\\\S\\\\S+\\\\b')),\n",
       "                ('l', LinearRegression())])"
      ]
     },
     "execution_count": 80,
     "metadata": {},
     "output_type": "execute_result"
    }
   ],
   "source": [
    "from sklearn.pipeline import Pipeline\n",
    "pipe_ngs = Pipeline([('vect',TfidfVectorizer(lowercase=True,\n",
    "                                             min_df=5,\n",
    "                                             max_df=0.8,\n",
    "                                             token_pattern='\\\\b\\\\S\\\\S+\\\\b',\n",
    "                                             ngram_range=(1,1)\n",
    "                                             #use_idf=False,\n",
    "                                             #norm=None \n",
    "                                            )\n",
    "                     ),   \n",
    "                     ('l',LinearRegression())\n",
    "                    ])\n",
    "\n",
    "pipe_ngs.fit(docs_ngs_train,y_ngs_train) # pass in docs, not transformed X\n"
   ]
  },
  {
   "cell_type": "code",
   "execution_count": 82,
   "id": "87d6d349",
   "metadata": {},
   "outputs": [
    {
     "name": "stdout",
     "output_type": "stream",
     "text": [
      "pipeline accuracy on test set: 0.66\n"
     ]
    }
   ],
   "source": [
    "score_ngs = pipe_ngs.score(docs_ngs_test,y_ngs_test)\n",
    "print(f'pipeline accuracy on test set: {score_ngs:0.2f}')"
   ]
  },
  {
   "cell_type": "code",
   "execution_count": 98,
   "id": "26b3ab14",
   "metadata": {},
   "outputs": [],
   "source": [
    "from sklearn.model_selection import GridSearchCV"
   ]
  },
  {
   "cell_type": "code",
   "execution_count": 99,
   "id": "70224954",
   "metadata": {
    "scrolled": true
   },
   "outputs": [
    {
     "name": "stderr",
     "output_type": "stream",
     "text": [
      "D:\\Software\\Anaconda\\lib\\site-packages\\sklearn\\model_selection\\_search.py:918: UserWarning: One or more of the test scores are non-finite: [nan nan nan nan]\n",
      "  warnings.warn(\n"
     ]
    },
    {
     "ename": "ValueError",
     "evalue": "Unknown label type: 'continuous'",
     "output_type": "error",
     "traceback": [
      "\u001b[1;31m---------------------------------------------------------------------------\u001b[0m",
      "\u001b[1;31mValueError\u001b[0m                                Traceback (most recent call last)",
      "\u001b[1;32m<ipython-input-99-fc1efc47b866>\u001b[0m in \u001b[0;36m<module>\u001b[1;34m\u001b[0m\n\u001b[0;32m      2\u001b[0m           'vect__ngram_range':[(1,1),(2,2)]}\n\u001b[0;32m      3\u001b[0m \u001b[1;33m\u001b[0m\u001b[0m\n\u001b[1;32m----> 4\u001b[1;33m \u001b[0mgscv\u001b[0m \u001b[1;33m=\u001b[0m \u001b[0mGridSearchCV\u001b[0m\u001b[1;33m(\u001b[0m\u001b[0mpipe_ngs\u001b[0m\u001b[1;33m,\u001b[0m \u001b[0mparams\u001b[0m\u001b[1;33m,\u001b[0m \u001b[0mcv\u001b[0m\u001b[1;33m=\u001b[0m\u001b[1;36m2\u001b[0m\u001b[1;33m,\u001b[0m \u001b[0mn_jobs\u001b[0m\u001b[1;33m=\u001b[0m\u001b[1;33m-\u001b[0m\u001b[1;36m1\u001b[0m\u001b[1;33m)\u001b[0m\u001b[1;33m.\u001b[0m\u001b[0mfit\u001b[0m\u001b[1;33m(\u001b[0m\u001b[0mdocs_ngs_train\u001b[0m\u001b[1;33m,\u001b[0m\u001b[0my_ngs_train\u001b[0m\u001b[1;33m)\u001b[0m\u001b[1;33m\u001b[0m\u001b[1;33m\u001b[0m\u001b[0m\n\u001b[0m\u001b[0;32m      5\u001b[0m \u001b[1;33m\u001b[0m\u001b[0m\n\u001b[0;32m      6\u001b[0m \u001b[0mprint\u001b[0m\u001b[1;33m(\u001b[0m\u001b[1;34mf'gscsv best parameters  : {gscv.best_params_}'\u001b[0m\u001b[1;33m)\u001b[0m\u001b[1;33m\u001b[0m\u001b[1;33m\u001b[0m\u001b[0m\n",
      "\u001b[1;32mD:\\Software\\Anaconda\\lib\\site-packages\\sklearn\\utils\\validation.py\u001b[0m in \u001b[0;36minner_f\u001b[1;34m(*args, **kwargs)\u001b[0m\n\u001b[0;32m     61\u001b[0m             \u001b[0mextra_args\u001b[0m \u001b[1;33m=\u001b[0m \u001b[0mlen\u001b[0m\u001b[1;33m(\u001b[0m\u001b[0margs\u001b[0m\u001b[1;33m)\u001b[0m \u001b[1;33m-\u001b[0m \u001b[0mlen\u001b[0m\u001b[1;33m(\u001b[0m\u001b[0mall_args\u001b[0m\u001b[1;33m)\u001b[0m\u001b[1;33m\u001b[0m\u001b[1;33m\u001b[0m\u001b[0m\n\u001b[0;32m     62\u001b[0m             \u001b[1;32mif\u001b[0m \u001b[0mextra_args\u001b[0m \u001b[1;33m<=\u001b[0m \u001b[1;36m0\u001b[0m\u001b[1;33m:\u001b[0m\u001b[1;33m\u001b[0m\u001b[1;33m\u001b[0m\u001b[0m\n\u001b[1;32m---> 63\u001b[1;33m                 \u001b[1;32mreturn\u001b[0m \u001b[0mf\u001b[0m\u001b[1;33m(\u001b[0m\u001b[1;33m*\u001b[0m\u001b[0margs\u001b[0m\u001b[1;33m,\u001b[0m \u001b[1;33m**\u001b[0m\u001b[0mkwargs\u001b[0m\u001b[1;33m)\u001b[0m\u001b[1;33m\u001b[0m\u001b[1;33m\u001b[0m\u001b[0m\n\u001b[0m\u001b[0;32m     64\u001b[0m \u001b[1;33m\u001b[0m\u001b[0m\n\u001b[0;32m     65\u001b[0m             \u001b[1;31m# extra_args > 0\u001b[0m\u001b[1;33m\u001b[0m\u001b[1;33m\u001b[0m\u001b[1;33m\u001b[0m\u001b[0m\n",
      "\u001b[1;32mD:\\Software\\Anaconda\\lib\\site-packages\\sklearn\\model_selection\\_search.py\u001b[0m in \u001b[0;36mfit\u001b[1;34m(self, X, y, groups, **fit_params)\u001b[0m\n\u001b[0;32m    878\u001b[0m             \u001b[0mrefit_start_time\u001b[0m \u001b[1;33m=\u001b[0m \u001b[0mtime\u001b[0m\u001b[1;33m.\u001b[0m\u001b[0mtime\u001b[0m\u001b[1;33m(\u001b[0m\u001b[1;33m)\u001b[0m\u001b[1;33m\u001b[0m\u001b[1;33m\u001b[0m\u001b[0m\n\u001b[0;32m    879\u001b[0m             \u001b[1;32mif\u001b[0m \u001b[0my\u001b[0m \u001b[1;32mis\u001b[0m \u001b[1;32mnot\u001b[0m \u001b[1;32mNone\u001b[0m\u001b[1;33m:\u001b[0m\u001b[1;33m\u001b[0m\u001b[1;33m\u001b[0m\u001b[0m\n\u001b[1;32m--> 880\u001b[1;33m                 \u001b[0mself\u001b[0m\u001b[1;33m.\u001b[0m\u001b[0mbest_estimator_\u001b[0m\u001b[1;33m.\u001b[0m\u001b[0mfit\u001b[0m\u001b[1;33m(\u001b[0m\u001b[0mX\u001b[0m\u001b[1;33m,\u001b[0m \u001b[0my\u001b[0m\u001b[1;33m,\u001b[0m \u001b[1;33m**\u001b[0m\u001b[0mfit_params\u001b[0m\u001b[1;33m)\u001b[0m\u001b[1;33m\u001b[0m\u001b[1;33m\u001b[0m\u001b[0m\n\u001b[0m\u001b[0;32m    881\u001b[0m             \u001b[1;32melse\u001b[0m\u001b[1;33m:\u001b[0m\u001b[1;33m\u001b[0m\u001b[1;33m\u001b[0m\u001b[0m\n\u001b[0;32m    882\u001b[0m                 \u001b[0mself\u001b[0m\u001b[1;33m.\u001b[0m\u001b[0mbest_estimator_\u001b[0m\u001b[1;33m.\u001b[0m\u001b[0mfit\u001b[0m\u001b[1;33m(\u001b[0m\u001b[0mX\u001b[0m\u001b[1;33m,\u001b[0m \u001b[1;33m**\u001b[0m\u001b[0mfit_params\u001b[0m\u001b[1;33m)\u001b[0m\u001b[1;33m\u001b[0m\u001b[1;33m\u001b[0m\u001b[0m\n",
      "\u001b[1;32mD:\\Software\\Anaconda\\lib\\site-packages\\sklearn\\pipeline.py\u001b[0m in \u001b[0;36mfit\u001b[1;34m(self, X, y, **fit_params)\u001b[0m\n\u001b[0;32m    339\u001b[0m         \"\"\"\n\u001b[0;32m    340\u001b[0m         \u001b[0mfit_params_steps\u001b[0m \u001b[1;33m=\u001b[0m \u001b[0mself\u001b[0m\u001b[1;33m.\u001b[0m\u001b[0m_check_fit_params\u001b[0m\u001b[1;33m(\u001b[0m\u001b[1;33m**\u001b[0m\u001b[0mfit_params\u001b[0m\u001b[1;33m)\u001b[0m\u001b[1;33m\u001b[0m\u001b[1;33m\u001b[0m\u001b[0m\n\u001b[1;32m--> 341\u001b[1;33m         \u001b[0mXt\u001b[0m \u001b[1;33m=\u001b[0m \u001b[0mself\u001b[0m\u001b[1;33m.\u001b[0m\u001b[0m_fit\u001b[0m\u001b[1;33m(\u001b[0m\u001b[0mX\u001b[0m\u001b[1;33m,\u001b[0m \u001b[0my\u001b[0m\u001b[1;33m,\u001b[0m \u001b[1;33m**\u001b[0m\u001b[0mfit_params_steps\u001b[0m\u001b[1;33m)\u001b[0m\u001b[1;33m\u001b[0m\u001b[1;33m\u001b[0m\u001b[0m\n\u001b[0m\u001b[0;32m    342\u001b[0m         with _print_elapsed_time('Pipeline',\n\u001b[0;32m    343\u001b[0m                                  self._log_message(len(self.steps) - 1)):\n",
      "\u001b[1;32mD:\\Software\\Anaconda\\lib\\site-packages\\sklearn\\pipeline.py\u001b[0m in \u001b[0;36m_fit\u001b[1;34m(self, X, y, **fit_params_steps)\u001b[0m\n\u001b[0;32m    301\u001b[0m                 \u001b[0mcloned_transformer\u001b[0m \u001b[1;33m=\u001b[0m \u001b[0mclone\u001b[0m\u001b[1;33m(\u001b[0m\u001b[0mtransformer\u001b[0m\u001b[1;33m)\u001b[0m\u001b[1;33m\u001b[0m\u001b[1;33m\u001b[0m\u001b[0m\n\u001b[0;32m    302\u001b[0m             \u001b[1;31m# Fit or load from cache the current transformer\u001b[0m\u001b[1;33m\u001b[0m\u001b[1;33m\u001b[0m\u001b[1;33m\u001b[0m\u001b[0m\n\u001b[1;32m--> 303\u001b[1;33m             X, fitted_transformer = fit_transform_one_cached(\n\u001b[0m\u001b[0;32m    304\u001b[0m                 \u001b[0mcloned_transformer\u001b[0m\u001b[1;33m,\u001b[0m \u001b[0mX\u001b[0m\u001b[1;33m,\u001b[0m \u001b[0my\u001b[0m\u001b[1;33m,\u001b[0m \u001b[1;32mNone\u001b[0m\u001b[1;33m,\u001b[0m\u001b[1;33m\u001b[0m\u001b[1;33m\u001b[0m\u001b[0m\n\u001b[0;32m    305\u001b[0m                 \u001b[0mmessage_clsname\u001b[0m\u001b[1;33m=\u001b[0m\u001b[1;34m'Pipeline'\u001b[0m\u001b[1;33m,\u001b[0m\u001b[1;33m\u001b[0m\u001b[1;33m\u001b[0m\u001b[0m\n",
      "\u001b[1;32mD:\\Software\\Anaconda\\lib\\site-packages\\joblib\\memory.py\u001b[0m in \u001b[0;36m__call__\u001b[1;34m(self, *args, **kwargs)\u001b[0m\n\u001b[0;32m    350\u001b[0m \u001b[1;33m\u001b[0m\u001b[0m\n\u001b[0;32m    351\u001b[0m     \u001b[1;32mdef\u001b[0m \u001b[0m__call__\u001b[0m\u001b[1;33m(\u001b[0m\u001b[0mself\u001b[0m\u001b[1;33m,\u001b[0m \u001b[1;33m*\u001b[0m\u001b[0margs\u001b[0m\u001b[1;33m,\u001b[0m \u001b[1;33m**\u001b[0m\u001b[0mkwargs\u001b[0m\u001b[1;33m)\u001b[0m\u001b[1;33m:\u001b[0m\u001b[1;33m\u001b[0m\u001b[1;33m\u001b[0m\u001b[0m\n\u001b[1;32m--> 352\u001b[1;33m         \u001b[1;32mreturn\u001b[0m \u001b[0mself\u001b[0m\u001b[1;33m.\u001b[0m\u001b[0mfunc\u001b[0m\u001b[1;33m(\u001b[0m\u001b[1;33m*\u001b[0m\u001b[0margs\u001b[0m\u001b[1;33m,\u001b[0m \u001b[1;33m**\u001b[0m\u001b[0mkwargs\u001b[0m\u001b[1;33m)\u001b[0m\u001b[1;33m\u001b[0m\u001b[1;33m\u001b[0m\u001b[0m\n\u001b[0m\u001b[0;32m    353\u001b[0m \u001b[1;33m\u001b[0m\u001b[0m\n\u001b[0;32m    354\u001b[0m     \u001b[1;32mdef\u001b[0m \u001b[0mcall_and_shelve\u001b[0m\u001b[1;33m(\u001b[0m\u001b[0mself\u001b[0m\u001b[1;33m,\u001b[0m \u001b[1;33m*\u001b[0m\u001b[0margs\u001b[0m\u001b[1;33m,\u001b[0m \u001b[1;33m**\u001b[0m\u001b[0mkwargs\u001b[0m\u001b[1;33m)\u001b[0m\u001b[1;33m:\u001b[0m\u001b[1;33m\u001b[0m\u001b[1;33m\u001b[0m\u001b[0m\n",
      "\u001b[1;32mD:\\Software\\Anaconda\\lib\\site-packages\\sklearn\\pipeline.py\u001b[0m in \u001b[0;36m_fit_transform_one\u001b[1;34m(transformer, X, y, weight, message_clsname, message, **fit_params)\u001b[0m\n\u001b[0;32m    752\u001b[0m     \u001b[1;32mwith\u001b[0m \u001b[0m_print_elapsed_time\u001b[0m\u001b[1;33m(\u001b[0m\u001b[0mmessage_clsname\u001b[0m\u001b[1;33m,\u001b[0m \u001b[0mmessage\u001b[0m\u001b[1;33m)\u001b[0m\u001b[1;33m:\u001b[0m\u001b[1;33m\u001b[0m\u001b[1;33m\u001b[0m\u001b[0m\n\u001b[0;32m    753\u001b[0m         \u001b[1;32mif\u001b[0m \u001b[0mhasattr\u001b[0m\u001b[1;33m(\u001b[0m\u001b[0mtransformer\u001b[0m\u001b[1;33m,\u001b[0m \u001b[1;34m'fit_transform'\u001b[0m\u001b[1;33m)\u001b[0m\u001b[1;33m:\u001b[0m\u001b[1;33m\u001b[0m\u001b[1;33m\u001b[0m\u001b[0m\n\u001b[1;32m--> 754\u001b[1;33m             \u001b[0mres\u001b[0m \u001b[1;33m=\u001b[0m \u001b[0mtransformer\u001b[0m\u001b[1;33m.\u001b[0m\u001b[0mfit_transform\u001b[0m\u001b[1;33m(\u001b[0m\u001b[0mX\u001b[0m\u001b[1;33m,\u001b[0m \u001b[0my\u001b[0m\u001b[1;33m,\u001b[0m \u001b[1;33m**\u001b[0m\u001b[0mfit_params\u001b[0m\u001b[1;33m)\u001b[0m\u001b[1;33m\u001b[0m\u001b[1;33m\u001b[0m\u001b[0m\n\u001b[0m\u001b[0;32m    755\u001b[0m         \u001b[1;32melse\u001b[0m\u001b[1;33m:\u001b[0m\u001b[1;33m\u001b[0m\u001b[1;33m\u001b[0m\u001b[0m\n\u001b[0;32m    756\u001b[0m             \u001b[0mres\u001b[0m \u001b[1;33m=\u001b[0m \u001b[0mtransformer\u001b[0m\u001b[1;33m.\u001b[0m\u001b[0mfit\u001b[0m\u001b[1;33m(\u001b[0m\u001b[0mX\u001b[0m\u001b[1;33m,\u001b[0m \u001b[0my\u001b[0m\u001b[1;33m,\u001b[0m \u001b[1;33m**\u001b[0m\u001b[0mfit_params\u001b[0m\u001b[1;33m)\u001b[0m\u001b[1;33m.\u001b[0m\u001b[0mtransform\u001b[0m\u001b[1;33m(\u001b[0m\u001b[0mX\u001b[0m\u001b[1;33m)\u001b[0m\u001b[1;33m\u001b[0m\u001b[1;33m\u001b[0m\u001b[0m\n",
      "\u001b[1;32mD:\\Software\\Anaconda\\lib\\site-packages\\sklearn\\base.py\u001b[0m in \u001b[0;36mfit_transform\u001b[1;34m(self, X, y, **fit_params)\u001b[0m\n\u001b[0;32m    700\u001b[0m         \u001b[1;32melse\u001b[0m\u001b[1;33m:\u001b[0m\u001b[1;33m\u001b[0m\u001b[1;33m\u001b[0m\u001b[0m\n\u001b[0;32m    701\u001b[0m             \u001b[1;31m# fit method of arity 2 (supervised transformation)\u001b[0m\u001b[1;33m\u001b[0m\u001b[1;33m\u001b[0m\u001b[1;33m\u001b[0m\u001b[0m\n\u001b[1;32m--> 702\u001b[1;33m             \u001b[1;32mreturn\u001b[0m \u001b[0mself\u001b[0m\u001b[1;33m.\u001b[0m\u001b[0mfit\u001b[0m\u001b[1;33m(\u001b[0m\u001b[0mX\u001b[0m\u001b[1;33m,\u001b[0m \u001b[0my\u001b[0m\u001b[1;33m,\u001b[0m \u001b[1;33m**\u001b[0m\u001b[0mfit_params\u001b[0m\u001b[1;33m)\u001b[0m\u001b[1;33m.\u001b[0m\u001b[0mtransform\u001b[0m\u001b[1;33m(\u001b[0m\u001b[0mX\u001b[0m\u001b[1;33m)\u001b[0m\u001b[1;33m\u001b[0m\u001b[1;33m\u001b[0m\u001b[0m\n\u001b[0m\u001b[0;32m    703\u001b[0m \u001b[1;33m\u001b[0m\u001b[0m\n\u001b[0;32m    704\u001b[0m \u001b[1;33m\u001b[0m\u001b[0m\n",
      "\u001b[1;32mD:\\Software\\Anaconda\\lib\\site-packages\\sklearn\\feature_selection\\_from_model.py\u001b[0m in \u001b[0;36mfit\u001b[1;34m(self, X, y, **fit_params)\u001b[0m\n\u001b[0;32m    232\u001b[0m                 \"Since 'prefit=True', call transform directly\")\n\u001b[0;32m    233\u001b[0m         \u001b[0mself\u001b[0m\u001b[1;33m.\u001b[0m\u001b[0mestimator_\u001b[0m \u001b[1;33m=\u001b[0m \u001b[0mclone\u001b[0m\u001b[1;33m(\u001b[0m\u001b[0mself\u001b[0m\u001b[1;33m.\u001b[0m\u001b[0mestimator\u001b[0m\u001b[1;33m)\u001b[0m\u001b[1;33m\u001b[0m\u001b[1;33m\u001b[0m\u001b[0m\n\u001b[1;32m--> 234\u001b[1;33m         \u001b[0mself\u001b[0m\u001b[1;33m.\u001b[0m\u001b[0mestimator_\u001b[0m\u001b[1;33m.\u001b[0m\u001b[0mfit\u001b[0m\u001b[1;33m(\u001b[0m\u001b[0mX\u001b[0m\u001b[1;33m,\u001b[0m \u001b[0my\u001b[0m\u001b[1;33m,\u001b[0m \u001b[1;33m**\u001b[0m\u001b[0mfit_params\u001b[0m\u001b[1;33m)\u001b[0m\u001b[1;33m\u001b[0m\u001b[1;33m\u001b[0m\u001b[0m\n\u001b[0m\u001b[0;32m    235\u001b[0m         \u001b[1;32mreturn\u001b[0m \u001b[0mself\u001b[0m\u001b[1;33m\u001b[0m\u001b[1;33m\u001b[0m\u001b[0m\n\u001b[0;32m    236\u001b[0m \u001b[1;33m\u001b[0m\u001b[0m\n",
      "\u001b[1;32mD:\\Software\\Anaconda\\lib\\site-packages\\sklearn\\linear_model\\_logistic.py\u001b[0m in \u001b[0;36mfit\u001b[1;34m(self, X, y, sample_weight)\u001b[0m\n\u001b[0;32m   1345\u001b[0m                                    \u001b[0morder\u001b[0m\u001b[1;33m=\u001b[0m\u001b[1;34m\"C\"\u001b[0m\u001b[1;33m,\u001b[0m\u001b[1;33m\u001b[0m\u001b[1;33m\u001b[0m\u001b[0m\n\u001b[0;32m   1346\u001b[0m                                    accept_large_sparse=solver != 'liblinear')\n\u001b[1;32m-> 1347\u001b[1;33m         \u001b[0mcheck_classification_targets\u001b[0m\u001b[1;33m(\u001b[0m\u001b[0my\u001b[0m\u001b[1;33m)\u001b[0m\u001b[1;33m\u001b[0m\u001b[1;33m\u001b[0m\u001b[0m\n\u001b[0m\u001b[0;32m   1348\u001b[0m         \u001b[0mself\u001b[0m\u001b[1;33m.\u001b[0m\u001b[0mclasses_\u001b[0m \u001b[1;33m=\u001b[0m \u001b[0mnp\u001b[0m\u001b[1;33m.\u001b[0m\u001b[0munique\u001b[0m\u001b[1;33m(\u001b[0m\u001b[0my\u001b[0m\u001b[1;33m)\u001b[0m\u001b[1;33m\u001b[0m\u001b[1;33m\u001b[0m\u001b[0m\n\u001b[0;32m   1349\u001b[0m \u001b[1;33m\u001b[0m\u001b[0m\n",
      "\u001b[1;32mD:\\Software\\Anaconda\\lib\\site-packages\\sklearn\\utils\\multiclass.py\u001b[0m in \u001b[0;36mcheck_classification_targets\u001b[1;34m(y)\u001b[0m\n\u001b[0;32m    181\u001b[0m     if y_type not in ['binary', 'multiclass', 'multiclass-multioutput',\n\u001b[0;32m    182\u001b[0m                       'multilabel-indicator', 'multilabel-sequences']:\n\u001b[1;32m--> 183\u001b[1;33m         \u001b[1;32mraise\u001b[0m \u001b[0mValueError\u001b[0m\u001b[1;33m(\u001b[0m\u001b[1;34m\"Unknown label type: %r\"\u001b[0m \u001b[1;33m%\u001b[0m \u001b[0my_type\u001b[0m\u001b[1;33m)\u001b[0m\u001b[1;33m\u001b[0m\u001b[1;33m\u001b[0m\u001b[0m\n\u001b[0m\u001b[0;32m    184\u001b[0m \u001b[1;33m\u001b[0m\u001b[0m\n\u001b[0;32m    185\u001b[0m \u001b[1;33m\u001b[0m\u001b[0m\n",
      "\u001b[1;31mValueError\u001b[0m: Unknown label type: 'continuous'"
     ]
    }
   ],
   "source": [
    "params = {'vect__use_idf':[True,False],\n",
    "          'vect__ngram_range':[(1,1),(2,2)]}\n",
    "\n",
    "gscv = GridSearchCV(pipe_ngs, params, cv=2, n_jobs=-1).fit(docs_ngs_train,y_ngs_train)\n",
    "\n",
    "print(f'gscsv best parameters  : {gscv.best_params_}')\n",
    "print(f'gscsv best cv accuracy : {gscv.best_score_:0.2f}')\n",
    "print(f'gscsv test set accuracy: {gscv.score(docs_ngs_test,y_ngs_test):0.2f}')"
   ]
  },
  {
   "cell_type": "code",
   "execution_count": null,
   "id": "32fbff4c",
   "metadata": {},
   "outputs": [],
   "source": []
  },
  {
   "cell_type": "code",
   "execution_count": 94,
   "id": "e46f0615",
   "metadata": {},
   "outputs": [],
   "source": [
    "from sklearn.tree import DecisionTreeRegressor"
   ]
  },
  {
   "cell_type": "code",
   "execution_count": 96,
   "id": "c79e75a3",
   "metadata": {},
   "outputs": [
    {
     "name": "stdout",
     "output_type": "stream",
     "text": [
      "pipeline accuracy on test set: 0.51\n"
     ]
    }
   ],
   "source": [
    "pipe_ngs2 = Pipeline([('vect',TfidfVectorizer(lowercase=True,\n",
    "                                             min_df=5,\n",
    "                                             max_df=0.8,\n",
    "                                             token_pattern='\\\\b\\\\S\\\\S+\\\\b',\n",
    "                                             ngram_range=(1,1) )\n",
    "                     ),   \n",
    "                     ('dt',DecisionTreeRegressor(random_state=0,\n",
    "                                                 max_depth=20))\n",
    "                    ])\n",
    "pipe_ngs2.fit(docs_ngs_train,y_ngs_train)\n",
    "print(f'pipeline accuracy on test set: {pipe_ngs2.score(docs_ngs_test,y_ngs_test):0.2f}')"
   ]
  },
  {
   "cell_type": "code",
   "execution_count": null,
   "id": "6f5430f4",
   "metadata": {},
   "outputs": [],
   "source": []
  },
  {
   "cell_type": "code",
   "execution_count": 92,
   "id": "124bfe85",
   "metadata": {},
   "outputs": [
    {
     "name": "stderr",
     "output_type": "stream",
     "text": [
      "D:\\Software\\Anaconda\\lib\\site-packages\\pandas\\io\\formats\\format.py:1405: FutureWarning: Index.ravel returning ndarray is deprecated; in a future version this will return a view on self.\n",
      "  for val, m in zip(values.ravel(), mask.ravel())\n",
      "D:\\Software\\Anaconda\\lib\\site-packages\\pandas\\io\\formats\\format.py:1405: FutureWarning: Index.ravel returning ndarray is deprecated; in a future version this will return a view on self.\n",
      "  for val, m in zip(values.ravel(), mask.ravel())\n"
     ]
    },
    {
     "data": {
      "text/plain": [
       "[2.5, 4.5, 2.5, 3.5, 4.0, ..., 4.5, 4.5, 3.5, 3.0, 1.5]\n",
       "Length: 8747\n",
       "Categories (9, float64): [1.0, 1.5, 2.0, 2.5, ..., 3.5, 4.0, 4.5, 5.0]"
      ]
     },
     "execution_count": 92,
     "metadata": {},
     "output_type": "execute_result"
    }
   ],
   "source": [
    "y_ngs_test_c"
   ]
  },
  {
   "cell_type": "code",
   "execution_count": 88,
   "id": "2fd229f5",
   "metadata": {},
   "outputs": [],
   "source": [
    "y_ngs_train_c,y_ngs_test_c = pd.Categorical(y_ngs_train), pd.Categorical(y_ngs_test)"
   ]
  },
  {
   "cell_type": "code",
   "execution_count": 97,
   "id": "17b8f24a",
   "metadata": {},
   "outputs": [
    {
     "ename": "ValueError",
     "evalue": "Unknown label type: 'continuous'",
     "output_type": "error",
     "traceback": [
      "\u001b[1;31m---------------------------------------------------------------------------\u001b[0m",
      "\u001b[1;31mValueError\u001b[0m                                Traceback (most recent call last)",
      "\u001b[1;32m<ipython-input-97-0194b644ed67>\u001b[0m in \u001b[0;36m<module>\u001b[1;34m\u001b[0m\n\u001b[0;32m      9\u001b[0m                                                  max_depth=20))\n\u001b[0;32m     10\u001b[0m                     ])\n\u001b[1;32m---> 11\u001b[1;33m \u001b[0mpipe_ngs3\u001b[0m\u001b[1;33m.\u001b[0m\u001b[0mfit\u001b[0m\u001b[1;33m(\u001b[0m\u001b[0mdocs_ngs_train\u001b[0m\u001b[1;33m,\u001b[0m\u001b[0my_ngs_train_c\u001b[0m\u001b[1;33m)\u001b[0m\u001b[1;33m\u001b[0m\u001b[1;33m\u001b[0m\u001b[0m\n\u001b[0m\u001b[0;32m     12\u001b[0m \u001b[0mprint\u001b[0m\u001b[1;33m(\u001b[0m\u001b[1;34mf'pipeline accuracy on test set: {pipe_ngs3.score(docs_ngs_test,y_ngs_test_c):0.2f}'\u001b[0m\u001b[1;33m)\u001b[0m\u001b[1;33m\u001b[0m\u001b[1;33m\u001b[0m\u001b[0m\n",
      "\u001b[1;32mD:\\Software\\Anaconda\\lib\\site-packages\\sklearn\\pipeline.py\u001b[0m in \u001b[0;36mfit\u001b[1;34m(self, X, y, **fit_params)\u001b[0m\n\u001b[0;32m    344\u001b[0m             \u001b[1;32mif\u001b[0m \u001b[0mself\u001b[0m\u001b[1;33m.\u001b[0m\u001b[0m_final_estimator\u001b[0m \u001b[1;33m!=\u001b[0m \u001b[1;34m'passthrough'\u001b[0m\u001b[1;33m:\u001b[0m\u001b[1;33m\u001b[0m\u001b[1;33m\u001b[0m\u001b[0m\n\u001b[0;32m    345\u001b[0m                 \u001b[0mfit_params_last_step\u001b[0m \u001b[1;33m=\u001b[0m \u001b[0mfit_params_steps\u001b[0m\u001b[1;33m[\u001b[0m\u001b[0mself\u001b[0m\u001b[1;33m.\u001b[0m\u001b[0msteps\u001b[0m\u001b[1;33m[\u001b[0m\u001b[1;33m-\u001b[0m\u001b[1;36m1\u001b[0m\u001b[1;33m]\u001b[0m\u001b[1;33m[\u001b[0m\u001b[1;36m0\u001b[0m\u001b[1;33m]\u001b[0m\u001b[1;33m]\u001b[0m\u001b[1;33m\u001b[0m\u001b[1;33m\u001b[0m\u001b[0m\n\u001b[1;32m--> 346\u001b[1;33m                 \u001b[0mself\u001b[0m\u001b[1;33m.\u001b[0m\u001b[0m_final_estimator\u001b[0m\u001b[1;33m.\u001b[0m\u001b[0mfit\u001b[0m\u001b[1;33m(\u001b[0m\u001b[0mXt\u001b[0m\u001b[1;33m,\u001b[0m \u001b[0my\u001b[0m\u001b[1;33m,\u001b[0m \u001b[1;33m**\u001b[0m\u001b[0mfit_params_last_step\u001b[0m\u001b[1;33m)\u001b[0m\u001b[1;33m\u001b[0m\u001b[1;33m\u001b[0m\u001b[0m\n\u001b[0m\u001b[0;32m    347\u001b[0m \u001b[1;33m\u001b[0m\u001b[0m\n\u001b[0;32m    348\u001b[0m         \u001b[1;32mreturn\u001b[0m \u001b[0mself\u001b[0m\u001b[1;33m\u001b[0m\u001b[1;33m\u001b[0m\u001b[0m\n",
      "\u001b[1;32mD:\\Software\\Anaconda\\lib\\site-packages\\sklearn\\tree\\_classes.py\u001b[0m in \u001b[0;36mfit\u001b[1;34m(self, X, y, sample_weight, check_input, X_idx_sorted)\u001b[0m\n\u001b[0;32m    896\u001b[0m         \"\"\"\n\u001b[0;32m    897\u001b[0m \u001b[1;33m\u001b[0m\u001b[0m\n\u001b[1;32m--> 898\u001b[1;33m         super().fit(\n\u001b[0m\u001b[0;32m    899\u001b[0m             \u001b[0mX\u001b[0m\u001b[1;33m,\u001b[0m \u001b[0my\u001b[0m\u001b[1;33m,\u001b[0m\u001b[1;33m\u001b[0m\u001b[1;33m\u001b[0m\u001b[0m\n\u001b[0;32m    900\u001b[0m             \u001b[0msample_weight\u001b[0m\u001b[1;33m=\u001b[0m\u001b[0msample_weight\u001b[0m\u001b[1;33m,\u001b[0m\u001b[1;33m\u001b[0m\u001b[1;33m\u001b[0m\u001b[0m\n",
      "\u001b[1;32mD:\\Software\\Anaconda\\lib\\site-packages\\sklearn\\tree\\_classes.py\u001b[0m in \u001b[0;36mfit\u001b[1;34m(self, X, y, sample_weight, check_input, X_idx_sorted)\u001b[0m\n\u001b[0;32m    188\u001b[0m \u001b[1;33m\u001b[0m\u001b[0m\n\u001b[0;32m    189\u001b[0m         \u001b[1;32mif\u001b[0m \u001b[0mis_classification\u001b[0m\u001b[1;33m:\u001b[0m\u001b[1;33m\u001b[0m\u001b[1;33m\u001b[0m\u001b[0m\n\u001b[1;32m--> 190\u001b[1;33m             \u001b[0mcheck_classification_targets\u001b[0m\u001b[1;33m(\u001b[0m\u001b[0my\u001b[0m\u001b[1;33m)\u001b[0m\u001b[1;33m\u001b[0m\u001b[1;33m\u001b[0m\u001b[0m\n\u001b[0m\u001b[0;32m    191\u001b[0m             \u001b[0my\u001b[0m \u001b[1;33m=\u001b[0m \u001b[0mnp\u001b[0m\u001b[1;33m.\u001b[0m\u001b[0mcopy\u001b[0m\u001b[1;33m(\u001b[0m\u001b[0my\u001b[0m\u001b[1;33m)\u001b[0m\u001b[1;33m\u001b[0m\u001b[1;33m\u001b[0m\u001b[0m\n\u001b[0;32m    192\u001b[0m \u001b[1;33m\u001b[0m\u001b[0m\n",
      "\u001b[1;32mD:\\Software\\Anaconda\\lib\\site-packages\\sklearn\\utils\\multiclass.py\u001b[0m in \u001b[0;36mcheck_classification_targets\u001b[1;34m(y)\u001b[0m\n\u001b[0;32m    181\u001b[0m     if y_type not in ['binary', 'multiclass', 'multiclass-multioutput',\n\u001b[0;32m    182\u001b[0m                       'multilabel-indicator', 'multilabel-sequences']:\n\u001b[1;32m--> 183\u001b[1;33m         \u001b[1;32mraise\u001b[0m \u001b[0mValueError\u001b[0m\u001b[1;33m(\u001b[0m\u001b[1;34m\"Unknown label type: %r\"\u001b[0m \u001b[1;33m%\u001b[0m \u001b[0my_type\u001b[0m\u001b[1;33m)\u001b[0m\u001b[1;33m\u001b[0m\u001b[1;33m\u001b[0m\u001b[0m\n\u001b[0m\u001b[0;32m    184\u001b[0m \u001b[1;33m\u001b[0m\u001b[0m\n\u001b[0;32m    185\u001b[0m \u001b[1;33m\u001b[0m\u001b[0m\n",
      "\u001b[1;31mValueError\u001b[0m: Unknown label type: 'continuous'"
     ]
    }
   ],
   "source": [
    "from sklearn.tree import DecisionTreeClassifier\n",
    "pipe_ngs3 = Pipeline([('vect',TfidfVectorizer(lowercase=True,\n",
    "                                             min_df=5,\n",
    "                                             max_df=0.8,\n",
    "                                             token_pattern='\\\\b\\\\S\\\\S+\\\\b',\n",
    "                                             ngram_range=(1,1) )\n",
    "                     ),   \n",
    "                     ('dt',DecisionTreeClassifier(random_state=0,\n",
    "                                                 max_depth=20))\n",
    "                    ])\n",
    "pipe_ngs3.fit(docs_ngs_train,y_ngs_train_c)\n",
    "print(f'pipeline accuracy on test set: {pipe_ngs3.score(docs_ngs_test,y_ngs_test_c):0.2f}')"
   ]
  },
  {
   "cell_type": "code",
   "execution_count": null,
   "id": "566e9d9a",
   "metadata": {},
   "outputs": [],
   "source": []
  },
  {
   "cell_type": "code",
   "execution_count": 83,
   "id": "1fc2d9b3",
   "metadata": {},
   "outputs": [],
   "source": [
    "from sklearn.feature_selection import SelectFromModel,SelectPercentile"
   ]
  },
  {
   "cell_type": "code",
   "execution_count": 87,
   "id": "deda01ed",
   "metadata": {},
   "outputs": [
    {
     "ename": "TypeError",
     "evalue": "__init__() missing 1 required positional argument: 'estimator'",
     "output_type": "error",
     "traceback": [
      "\u001b[1;31m---------------------------------------------------------------------------\u001b[0m",
      "\u001b[1;31mTypeError\u001b[0m                                 Traceback (most recent call last)",
      "\u001b[1;32m<ipython-input-87-0af71e4070f8>\u001b[0m in \u001b[0;36m<module>\u001b[1;34m\u001b[0m\n\u001b[0;32m      5\u001b[0m                                              ngram_range=(1,1) )\n\u001b[0;32m      6\u001b[0m                      ),   \n\u001b[1;32m----> 7\u001b[1;33m                      \u001b[1;33m(\u001b[0m\u001b[1;34m'fs'\u001b[0m\u001b[1;33m,\u001b[0m\u001b[0mSelectFromModel\u001b[0m\u001b[1;33m(\u001b[0m\u001b[1;33m)\u001b[0m\u001b[1;33m)\u001b[0m\u001b[1;33m,\u001b[0m\u001b[1;33m\u001b[0m\u001b[1;33m\u001b[0m\u001b[0m\n\u001b[0m\u001b[0;32m      8\u001b[0m                      \u001b[1;33m(\u001b[0m\u001b[1;34m'lr'\u001b[0m\u001b[1;33m,\u001b[0m\u001b[0mLinearRegression\u001b[0m\u001b[1;33m(\u001b[0m\u001b[1;33m)\u001b[0m\u001b[1;33m)\u001b[0m\u001b[1;33m\u001b[0m\u001b[1;33m\u001b[0m\u001b[0m\n\u001b[0;32m      9\u001b[0m                     ])\n",
      "\u001b[1;32mD:\\Software\\Anaconda\\lib\\site-packages\\sklearn\\utils\\validation.py\u001b[0m in \u001b[0;36minner_f\u001b[1;34m(*args, **kwargs)\u001b[0m\n\u001b[0;32m     61\u001b[0m             \u001b[0mextra_args\u001b[0m \u001b[1;33m=\u001b[0m \u001b[0mlen\u001b[0m\u001b[1;33m(\u001b[0m\u001b[0margs\u001b[0m\u001b[1;33m)\u001b[0m \u001b[1;33m-\u001b[0m \u001b[0mlen\u001b[0m\u001b[1;33m(\u001b[0m\u001b[0mall_args\u001b[0m\u001b[1;33m)\u001b[0m\u001b[1;33m\u001b[0m\u001b[1;33m\u001b[0m\u001b[0m\n\u001b[0;32m     62\u001b[0m             \u001b[1;32mif\u001b[0m \u001b[0mextra_args\u001b[0m \u001b[1;33m<=\u001b[0m \u001b[1;36m0\u001b[0m\u001b[1;33m:\u001b[0m\u001b[1;33m\u001b[0m\u001b[1;33m\u001b[0m\u001b[0m\n\u001b[1;32m---> 63\u001b[1;33m                 \u001b[1;32mreturn\u001b[0m \u001b[0mf\u001b[0m\u001b[1;33m(\u001b[0m\u001b[1;33m*\u001b[0m\u001b[0margs\u001b[0m\u001b[1;33m,\u001b[0m \u001b[1;33m**\u001b[0m\u001b[0mkwargs\u001b[0m\u001b[1;33m)\u001b[0m\u001b[1;33m\u001b[0m\u001b[1;33m\u001b[0m\u001b[0m\n\u001b[0m\u001b[0;32m     64\u001b[0m \u001b[1;33m\u001b[0m\u001b[0m\n\u001b[0;32m     65\u001b[0m             \u001b[1;31m# extra_args > 0\u001b[0m\u001b[1;33m\u001b[0m\u001b[1;33m\u001b[0m\u001b[1;33m\u001b[0m\u001b[0m\n",
      "\u001b[1;31mTypeError\u001b[0m: __init__() missing 1 required positional argument: 'estimator'"
     ]
    }
   ],
   "source": [
    "\n",
    "\n",
    "pipe_ngs = Pipeline([('vect',TfidfVectorizer(lowercase=True,\n",
    "                                             min_df=5,\n",
    "                                             max_df=0.8,\n",
    "                                             token_pattern='\\\\b\\\\S\\\\S+\\\\b',\n",
    "                                             ngram_range=(1,1) )\n",
    "                     ),   \n",
    "                     ('fs',SelectFromModel()),\n",
    "                     ('lr',LinearRegression())\n",
    "                    ])\n",
    "pipe_ngs.fit(docs_ngs_train,y_ngs_train)\n",
    "print(f'pipeline accuracy on test set: {pipe_ngs.score(docs_ngs_test,y_ngs_test):0.2f}')"
   ]
  },
  {
   "cell_type": "code",
   "execution_count": 84,
   "id": "dc85926c",
   "metadata": {},
   "outputs": [],
   "source": [
    "?SelectFromModel"
   ]
  },
  {
   "cell_type": "code",
   "execution_count": null,
   "id": "2bc70761",
   "metadata": {},
   "outputs": [],
   "source": []
  },
  {
   "cell_type": "code",
   "execution_count": 9,
   "id": "dcb80065",
   "metadata": {},
   "outputs": [],
   "source": [
    "from sklearn.model_selection import cross_val_score\n",
    "from sklearn.linear_model import LogisticRegression\n",
    "from sklearn.dummy import DummyClassifier\n",
    "\n"
   ]
  },
  {
   "cell_type": "code",
   "execution_count": 75,
   "id": "cfc8c518",
   "metadata": {},
   "outputs": [
    {
     "ename": "KeyboardInterrupt",
     "evalue": "",
     "output_type": "error",
     "traceback": [
      "\u001b[1;31m---------------------------------------------------------------------------\u001b[0m",
      "\u001b[1;31mKeyboardInterrupt\u001b[0m                         Traceback (most recent call last)",
      "\u001b[1;32m<ipython-input-75-c2a6ce099430>\u001b[0m in \u001b[0;36m<module>\u001b[1;34m\u001b[0m\n\u001b[1;32m----> 1\u001b[1;33m \u001b[0mscores_li\u001b[0m \u001b[1;33m=\u001b[0m \u001b[0mcross_val_score\u001b[0m\u001b[1;33m(\u001b[0m\u001b[0mLinearRegression\u001b[0m\u001b[1;33m(\u001b[0m\u001b[1;33m)\u001b[0m\u001b[1;33m,\u001b[0m\u001b[0mX_ngs_train\u001b[0m\u001b[1;33m,\u001b[0m\u001b[0my_ngs_train\u001b[0m\u001b[1;33m)\u001b[0m\u001b[1;33m\u001b[0m\u001b[1;33m\u001b[0m\u001b[0m\n\u001b[0m\u001b[0;32m      2\u001b[0m \u001b[0mscores_dummy\u001b[0m\u001b[1;33m.\u001b[0m\u001b[0mmean\u001b[0m\u001b[1;33m(\u001b[0m\u001b[1;33m)\u001b[0m\u001b[1;33m\u001b[0m\u001b[1;33m\u001b[0m\u001b[0m\n",
      "\u001b[1;32mD:\\Software\\Anaconda\\lib\\site-packages\\sklearn\\utils\\validation.py\u001b[0m in \u001b[0;36minner_f\u001b[1;34m(*args, **kwargs)\u001b[0m\n\u001b[0;32m     61\u001b[0m             \u001b[0mextra_args\u001b[0m \u001b[1;33m=\u001b[0m \u001b[0mlen\u001b[0m\u001b[1;33m(\u001b[0m\u001b[0margs\u001b[0m\u001b[1;33m)\u001b[0m \u001b[1;33m-\u001b[0m \u001b[0mlen\u001b[0m\u001b[1;33m(\u001b[0m\u001b[0mall_args\u001b[0m\u001b[1;33m)\u001b[0m\u001b[1;33m\u001b[0m\u001b[1;33m\u001b[0m\u001b[0m\n\u001b[0;32m     62\u001b[0m             \u001b[1;32mif\u001b[0m \u001b[0mextra_args\u001b[0m \u001b[1;33m<=\u001b[0m \u001b[1;36m0\u001b[0m\u001b[1;33m:\u001b[0m\u001b[1;33m\u001b[0m\u001b[1;33m\u001b[0m\u001b[0m\n\u001b[1;32m---> 63\u001b[1;33m                 \u001b[1;32mreturn\u001b[0m \u001b[0mf\u001b[0m\u001b[1;33m(\u001b[0m\u001b[1;33m*\u001b[0m\u001b[0margs\u001b[0m\u001b[1;33m,\u001b[0m \u001b[1;33m**\u001b[0m\u001b[0mkwargs\u001b[0m\u001b[1;33m)\u001b[0m\u001b[1;33m\u001b[0m\u001b[1;33m\u001b[0m\u001b[0m\n\u001b[0m\u001b[0;32m     64\u001b[0m \u001b[1;33m\u001b[0m\u001b[0m\n\u001b[0;32m     65\u001b[0m             \u001b[1;31m# extra_args > 0\u001b[0m\u001b[1;33m\u001b[0m\u001b[1;33m\u001b[0m\u001b[1;33m\u001b[0m\u001b[0m\n",
      "\u001b[1;32mD:\\Software\\Anaconda\\lib\\site-packages\\sklearn\\model_selection\\_validation.py\u001b[0m in \u001b[0;36mcross_val_score\u001b[1;34m(estimator, X, y, groups, scoring, cv, n_jobs, verbose, fit_params, pre_dispatch, error_score)\u001b[0m\n\u001b[0;32m    438\u001b[0m     \u001b[0mscorer\u001b[0m \u001b[1;33m=\u001b[0m \u001b[0mcheck_scoring\u001b[0m\u001b[1;33m(\u001b[0m\u001b[0mestimator\u001b[0m\u001b[1;33m,\u001b[0m \u001b[0mscoring\u001b[0m\u001b[1;33m=\u001b[0m\u001b[0mscoring\u001b[0m\u001b[1;33m)\u001b[0m\u001b[1;33m\u001b[0m\u001b[1;33m\u001b[0m\u001b[0m\n\u001b[0;32m    439\u001b[0m \u001b[1;33m\u001b[0m\u001b[0m\n\u001b[1;32m--> 440\u001b[1;33m     cv_results = cross_validate(estimator=estimator, X=X, y=y, groups=groups,\n\u001b[0m\u001b[0;32m    441\u001b[0m                                 \u001b[0mscoring\u001b[0m\u001b[1;33m=\u001b[0m\u001b[1;33m{\u001b[0m\u001b[1;34m'score'\u001b[0m\u001b[1;33m:\u001b[0m \u001b[0mscorer\u001b[0m\u001b[1;33m}\u001b[0m\u001b[1;33m,\u001b[0m \u001b[0mcv\u001b[0m\u001b[1;33m=\u001b[0m\u001b[0mcv\u001b[0m\u001b[1;33m,\u001b[0m\u001b[1;33m\u001b[0m\u001b[1;33m\u001b[0m\u001b[0m\n\u001b[0;32m    442\u001b[0m                                 \u001b[0mn_jobs\u001b[0m\u001b[1;33m=\u001b[0m\u001b[0mn_jobs\u001b[0m\u001b[1;33m,\u001b[0m \u001b[0mverbose\u001b[0m\u001b[1;33m=\u001b[0m\u001b[0mverbose\u001b[0m\u001b[1;33m,\u001b[0m\u001b[1;33m\u001b[0m\u001b[1;33m\u001b[0m\u001b[0m\n",
      "\u001b[1;32mD:\\Software\\Anaconda\\lib\\site-packages\\sklearn\\utils\\validation.py\u001b[0m in \u001b[0;36minner_f\u001b[1;34m(*args, **kwargs)\u001b[0m\n\u001b[0;32m     61\u001b[0m             \u001b[0mextra_args\u001b[0m \u001b[1;33m=\u001b[0m \u001b[0mlen\u001b[0m\u001b[1;33m(\u001b[0m\u001b[0margs\u001b[0m\u001b[1;33m)\u001b[0m \u001b[1;33m-\u001b[0m \u001b[0mlen\u001b[0m\u001b[1;33m(\u001b[0m\u001b[0mall_args\u001b[0m\u001b[1;33m)\u001b[0m\u001b[1;33m\u001b[0m\u001b[1;33m\u001b[0m\u001b[0m\n\u001b[0;32m     62\u001b[0m             \u001b[1;32mif\u001b[0m \u001b[0mextra_args\u001b[0m \u001b[1;33m<=\u001b[0m \u001b[1;36m0\u001b[0m\u001b[1;33m:\u001b[0m\u001b[1;33m\u001b[0m\u001b[1;33m\u001b[0m\u001b[0m\n\u001b[1;32m---> 63\u001b[1;33m                 \u001b[1;32mreturn\u001b[0m \u001b[0mf\u001b[0m\u001b[1;33m(\u001b[0m\u001b[1;33m*\u001b[0m\u001b[0margs\u001b[0m\u001b[1;33m,\u001b[0m \u001b[1;33m**\u001b[0m\u001b[0mkwargs\u001b[0m\u001b[1;33m)\u001b[0m\u001b[1;33m\u001b[0m\u001b[1;33m\u001b[0m\u001b[0m\n\u001b[0m\u001b[0;32m     64\u001b[0m \u001b[1;33m\u001b[0m\u001b[0m\n\u001b[0;32m     65\u001b[0m             \u001b[1;31m# extra_args > 0\u001b[0m\u001b[1;33m\u001b[0m\u001b[1;33m\u001b[0m\u001b[1;33m\u001b[0m\u001b[0m\n",
      "\u001b[1;32mD:\\Software\\Anaconda\\lib\\site-packages\\sklearn\\model_selection\\_validation.py\u001b[0m in \u001b[0;36mcross_validate\u001b[1;34m(estimator, X, y, groups, scoring, cv, n_jobs, verbose, fit_params, pre_dispatch, return_train_score, return_estimator, error_score)\u001b[0m\n\u001b[0;32m    244\u001b[0m     parallel = Parallel(n_jobs=n_jobs, verbose=verbose,\n\u001b[0;32m    245\u001b[0m                         pre_dispatch=pre_dispatch)\n\u001b[1;32m--> 246\u001b[1;33m     results = parallel(\n\u001b[0m\u001b[0;32m    247\u001b[0m         delayed(_fit_and_score)(\n\u001b[0;32m    248\u001b[0m             \u001b[0mclone\u001b[0m\u001b[1;33m(\u001b[0m\u001b[0mestimator\u001b[0m\u001b[1;33m)\u001b[0m\u001b[1;33m,\u001b[0m \u001b[0mX\u001b[0m\u001b[1;33m,\u001b[0m \u001b[0my\u001b[0m\u001b[1;33m,\u001b[0m \u001b[0mscorers\u001b[0m\u001b[1;33m,\u001b[0m \u001b[0mtrain\u001b[0m\u001b[1;33m,\u001b[0m \u001b[0mtest\u001b[0m\u001b[1;33m,\u001b[0m \u001b[0mverbose\u001b[0m\u001b[1;33m,\u001b[0m \u001b[1;32mNone\u001b[0m\u001b[1;33m,\u001b[0m\u001b[1;33m\u001b[0m\u001b[1;33m\u001b[0m\u001b[0m\n",
      "\u001b[1;32mD:\\Software\\Anaconda\\lib\\site-packages\\joblib\\parallel.py\u001b[0m in \u001b[0;36m__call__\u001b[1;34m(self, iterable)\u001b[0m\n\u001b[0;32m   1042\u001b[0m                 \u001b[0mself\u001b[0m\u001b[1;33m.\u001b[0m\u001b[0m_iterating\u001b[0m \u001b[1;33m=\u001b[0m \u001b[0mself\u001b[0m\u001b[1;33m.\u001b[0m\u001b[0m_original_iterator\u001b[0m \u001b[1;32mis\u001b[0m \u001b[1;32mnot\u001b[0m \u001b[1;32mNone\u001b[0m\u001b[1;33m\u001b[0m\u001b[1;33m\u001b[0m\u001b[0m\n\u001b[0;32m   1043\u001b[0m \u001b[1;33m\u001b[0m\u001b[0m\n\u001b[1;32m-> 1044\u001b[1;33m             \u001b[1;32mwhile\u001b[0m \u001b[0mself\u001b[0m\u001b[1;33m.\u001b[0m\u001b[0mdispatch_one_batch\u001b[0m\u001b[1;33m(\u001b[0m\u001b[0miterator\u001b[0m\u001b[1;33m)\u001b[0m\u001b[1;33m:\u001b[0m\u001b[1;33m\u001b[0m\u001b[1;33m\u001b[0m\u001b[0m\n\u001b[0m\u001b[0;32m   1045\u001b[0m                 \u001b[1;32mpass\u001b[0m\u001b[1;33m\u001b[0m\u001b[1;33m\u001b[0m\u001b[0m\n\u001b[0;32m   1046\u001b[0m \u001b[1;33m\u001b[0m\u001b[0m\n",
      "\u001b[1;32mD:\\Software\\Anaconda\\lib\\site-packages\\joblib\\parallel.py\u001b[0m in \u001b[0;36mdispatch_one_batch\u001b[1;34m(self, iterator)\u001b[0m\n\u001b[0;32m    857\u001b[0m                 \u001b[1;32mreturn\u001b[0m \u001b[1;32mFalse\u001b[0m\u001b[1;33m\u001b[0m\u001b[1;33m\u001b[0m\u001b[0m\n\u001b[0;32m    858\u001b[0m             \u001b[1;32melse\u001b[0m\u001b[1;33m:\u001b[0m\u001b[1;33m\u001b[0m\u001b[1;33m\u001b[0m\u001b[0m\n\u001b[1;32m--> 859\u001b[1;33m                 \u001b[0mself\u001b[0m\u001b[1;33m.\u001b[0m\u001b[0m_dispatch\u001b[0m\u001b[1;33m(\u001b[0m\u001b[0mtasks\u001b[0m\u001b[1;33m)\u001b[0m\u001b[1;33m\u001b[0m\u001b[1;33m\u001b[0m\u001b[0m\n\u001b[0m\u001b[0;32m    860\u001b[0m                 \u001b[1;32mreturn\u001b[0m \u001b[1;32mTrue\u001b[0m\u001b[1;33m\u001b[0m\u001b[1;33m\u001b[0m\u001b[0m\n\u001b[0;32m    861\u001b[0m \u001b[1;33m\u001b[0m\u001b[0m\n",
      "\u001b[1;32mD:\\Software\\Anaconda\\lib\\site-packages\\joblib\\parallel.py\u001b[0m in \u001b[0;36m_dispatch\u001b[1;34m(self, batch)\u001b[0m\n\u001b[0;32m    775\u001b[0m         \u001b[1;32mwith\u001b[0m \u001b[0mself\u001b[0m\u001b[1;33m.\u001b[0m\u001b[0m_lock\u001b[0m\u001b[1;33m:\u001b[0m\u001b[1;33m\u001b[0m\u001b[1;33m\u001b[0m\u001b[0m\n\u001b[0;32m    776\u001b[0m             \u001b[0mjob_idx\u001b[0m \u001b[1;33m=\u001b[0m \u001b[0mlen\u001b[0m\u001b[1;33m(\u001b[0m\u001b[0mself\u001b[0m\u001b[1;33m.\u001b[0m\u001b[0m_jobs\u001b[0m\u001b[1;33m)\u001b[0m\u001b[1;33m\u001b[0m\u001b[1;33m\u001b[0m\u001b[0m\n\u001b[1;32m--> 777\u001b[1;33m             \u001b[0mjob\u001b[0m \u001b[1;33m=\u001b[0m \u001b[0mself\u001b[0m\u001b[1;33m.\u001b[0m\u001b[0m_backend\u001b[0m\u001b[1;33m.\u001b[0m\u001b[0mapply_async\u001b[0m\u001b[1;33m(\u001b[0m\u001b[0mbatch\u001b[0m\u001b[1;33m,\u001b[0m \u001b[0mcallback\u001b[0m\u001b[1;33m=\u001b[0m\u001b[0mcb\u001b[0m\u001b[1;33m)\u001b[0m\u001b[1;33m\u001b[0m\u001b[1;33m\u001b[0m\u001b[0m\n\u001b[0m\u001b[0;32m    778\u001b[0m             \u001b[1;31m# A job can complete so quickly than its callback is\u001b[0m\u001b[1;33m\u001b[0m\u001b[1;33m\u001b[0m\u001b[1;33m\u001b[0m\u001b[0m\n\u001b[0;32m    779\u001b[0m             \u001b[1;31m# called before we get here, causing self._jobs to\u001b[0m\u001b[1;33m\u001b[0m\u001b[1;33m\u001b[0m\u001b[1;33m\u001b[0m\u001b[0m\n",
      "\u001b[1;32mD:\\Software\\Anaconda\\lib\\site-packages\\joblib\\_parallel_backends.py\u001b[0m in \u001b[0;36mapply_async\u001b[1;34m(self, func, callback)\u001b[0m\n\u001b[0;32m    206\u001b[0m     \u001b[1;32mdef\u001b[0m \u001b[0mapply_async\u001b[0m\u001b[1;33m(\u001b[0m\u001b[0mself\u001b[0m\u001b[1;33m,\u001b[0m \u001b[0mfunc\u001b[0m\u001b[1;33m,\u001b[0m \u001b[0mcallback\u001b[0m\u001b[1;33m=\u001b[0m\u001b[1;32mNone\u001b[0m\u001b[1;33m)\u001b[0m\u001b[1;33m:\u001b[0m\u001b[1;33m\u001b[0m\u001b[1;33m\u001b[0m\u001b[0m\n\u001b[0;32m    207\u001b[0m         \u001b[1;34m\"\"\"Schedule a func to be run\"\"\"\u001b[0m\u001b[1;33m\u001b[0m\u001b[1;33m\u001b[0m\u001b[0m\n\u001b[1;32m--> 208\u001b[1;33m         \u001b[0mresult\u001b[0m \u001b[1;33m=\u001b[0m \u001b[0mImmediateResult\u001b[0m\u001b[1;33m(\u001b[0m\u001b[0mfunc\u001b[0m\u001b[1;33m)\u001b[0m\u001b[1;33m\u001b[0m\u001b[1;33m\u001b[0m\u001b[0m\n\u001b[0m\u001b[0;32m    209\u001b[0m         \u001b[1;32mif\u001b[0m \u001b[0mcallback\u001b[0m\u001b[1;33m:\u001b[0m\u001b[1;33m\u001b[0m\u001b[1;33m\u001b[0m\u001b[0m\n\u001b[0;32m    210\u001b[0m             \u001b[0mcallback\u001b[0m\u001b[1;33m(\u001b[0m\u001b[0mresult\u001b[0m\u001b[1;33m)\u001b[0m\u001b[1;33m\u001b[0m\u001b[1;33m\u001b[0m\u001b[0m\n",
      "\u001b[1;32mD:\\Software\\Anaconda\\lib\\site-packages\\joblib\\_parallel_backends.py\u001b[0m in \u001b[0;36m__init__\u001b[1;34m(self, batch)\u001b[0m\n\u001b[0;32m    570\u001b[0m         \u001b[1;31m# Don't delay the application, to avoid keeping the input\u001b[0m\u001b[1;33m\u001b[0m\u001b[1;33m\u001b[0m\u001b[1;33m\u001b[0m\u001b[0m\n\u001b[0;32m    571\u001b[0m         \u001b[1;31m# arguments in memory\u001b[0m\u001b[1;33m\u001b[0m\u001b[1;33m\u001b[0m\u001b[1;33m\u001b[0m\u001b[0m\n\u001b[1;32m--> 572\u001b[1;33m         \u001b[0mself\u001b[0m\u001b[1;33m.\u001b[0m\u001b[0mresults\u001b[0m \u001b[1;33m=\u001b[0m \u001b[0mbatch\u001b[0m\u001b[1;33m(\u001b[0m\u001b[1;33m)\u001b[0m\u001b[1;33m\u001b[0m\u001b[1;33m\u001b[0m\u001b[0m\n\u001b[0m\u001b[0;32m    573\u001b[0m \u001b[1;33m\u001b[0m\u001b[0m\n\u001b[0;32m    574\u001b[0m     \u001b[1;32mdef\u001b[0m \u001b[0mget\u001b[0m\u001b[1;33m(\u001b[0m\u001b[0mself\u001b[0m\u001b[1;33m)\u001b[0m\u001b[1;33m:\u001b[0m\u001b[1;33m\u001b[0m\u001b[1;33m\u001b[0m\u001b[0m\n",
      "\u001b[1;32mD:\\Software\\Anaconda\\lib\\site-packages\\joblib\\parallel.py\u001b[0m in \u001b[0;36m__call__\u001b[1;34m(self)\u001b[0m\n\u001b[0;32m    260\u001b[0m         \u001b[1;31m# change the default number of processes to -1\u001b[0m\u001b[1;33m\u001b[0m\u001b[1;33m\u001b[0m\u001b[1;33m\u001b[0m\u001b[0m\n\u001b[0;32m    261\u001b[0m         \u001b[1;32mwith\u001b[0m \u001b[0mparallel_backend\u001b[0m\u001b[1;33m(\u001b[0m\u001b[0mself\u001b[0m\u001b[1;33m.\u001b[0m\u001b[0m_backend\u001b[0m\u001b[1;33m,\u001b[0m \u001b[0mn_jobs\u001b[0m\u001b[1;33m=\u001b[0m\u001b[0mself\u001b[0m\u001b[1;33m.\u001b[0m\u001b[0m_n_jobs\u001b[0m\u001b[1;33m)\u001b[0m\u001b[1;33m:\u001b[0m\u001b[1;33m\u001b[0m\u001b[1;33m\u001b[0m\u001b[0m\n\u001b[1;32m--> 262\u001b[1;33m             return [func(*args, **kwargs)\n\u001b[0m\u001b[0;32m    263\u001b[0m                     for func, args, kwargs in self.items]\n\u001b[0;32m    264\u001b[0m \u001b[1;33m\u001b[0m\u001b[0m\n",
      "\u001b[1;32mD:\\Software\\Anaconda\\lib\\site-packages\\joblib\\parallel.py\u001b[0m in \u001b[0;36m<listcomp>\u001b[1;34m(.0)\u001b[0m\n\u001b[0;32m    260\u001b[0m         \u001b[1;31m# change the default number of processes to -1\u001b[0m\u001b[1;33m\u001b[0m\u001b[1;33m\u001b[0m\u001b[1;33m\u001b[0m\u001b[0m\n\u001b[0;32m    261\u001b[0m         \u001b[1;32mwith\u001b[0m \u001b[0mparallel_backend\u001b[0m\u001b[1;33m(\u001b[0m\u001b[0mself\u001b[0m\u001b[1;33m.\u001b[0m\u001b[0m_backend\u001b[0m\u001b[1;33m,\u001b[0m \u001b[0mn_jobs\u001b[0m\u001b[1;33m=\u001b[0m\u001b[0mself\u001b[0m\u001b[1;33m.\u001b[0m\u001b[0m_n_jobs\u001b[0m\u001b[1;33m)\u001b[0m\u001b[1;33m:\u001b[0m\u001b[1;33m\u001b[0m\u001b[1;33m\u001b[0m\u001b[0m\n\u001b[1;32m--> 262\u001b[1;33m             return [func(*args, **kwargs)\n\u001b[0m\u001b[0;32m    263\u001b[0m                     for func, args, kwargs in self.items]\n\u001b[0;32m    264\u001b[0m \u001b[1;33m\u001b[0m\u001b[0m\n",
      "\u001b[1;32mD:\\Software\\Anaconda\\lib\\site-packages\\sklearn\\utils\\fixes.py\u001b[0m in \u001b[0;36m__call__\u001b[1;34m(self, *args, **kwargs)\u001b[0m\n\u001b[0;32m    220\u001b[0m     \u001b[1;32mdef\u001b[0m \u001b[0m__call__\u001b[0m\u001b[1;33m(\u001b[0m\u001b[0mself\u001b[0m\u001b[1;33m,\u001b[0m \u001b[1;33m*\u001b[0m\u001b[0margs\u001b[0m\u001b[1;33m,\u001b[0m \u001b[1;33m**\u001b[0m\u001b[0mkwargs\u001b[0m\u001b[1;33m)\u001b[0m\u001b[1;33m:\u001b[0m\u001b[1;33m\u001b[0m\u001b[1;33m\u001b[0m\u001b[0m\n\u001b[0;32m    221\u001b[0m         \u001b[1;32mwith\u001b[0m \u001b[0mconfig_context\u001b[0m\u001b[1;33m(\u001b[0m\u001b[1;33m**\u001b[0m\u001b[0mself\u001b[0m\u001b[1;33m.\u001b[0m\u001b[0mconfig\u001b[0m\u001b[1;33m)\u001b[0m\u001b[1;33m:\u001b[0m\u001b[1;33m\u001b[0m\u001b[1;33m\u001b[0m\u001b[0m\n\u001b[1;32m--> 222\u001b[1;33m             \u001b[1;32mreturn\u001b[0m \u001b[0mself\u001b[0m\u001b[1;33m.\u001b[0m\u001b[0mfunction\u001b[0m\u001b[1;33m(\u001b[0m\u001b[1;33m*\u001b[0m\u001b[0margs\u001b[0m\u001b[1;33m,\u001b[0m \u001b[1;33m**\u001b[0m\u001b[0mkwargs\u001b[0m\u001b[1;33m)\u001b[0m\u001b[1;33m\u001b[0m\u001b[1;33m\u001b[0m\u001b[0m\n\u001b[0m",
      "\u001b[1;32mD:\\Software\\Anaconda\\lib\\site-packages\\sklearn\\model_selection\\_validation.py\u001b[0m in \u001b[0;36m_fit_and_score\u001b[1;34m(estimator, X, y, scorer, train, test, verbose, parameters, fit_params, return_train_score, return_parameters, return_n_test_samples, return_times, return_estimator, split_progress, candidate_progress, error_score)\u001b[0m\n\u001b[0;32m    591\u001b[0m             \u001b[0mestimator\u001b[0m\u001b[1;33m.\u001b[0m\u001b[0mfit\u001b[0m\u001b[1;33m(\u001b[0m\u001b[0mX_train\u001b[0m\u001b[1;33m,\u001b[0m \u001b[1;33m**\u001b[0m\u001b[0mfit_params\u001b[0m\u001b[1;33m)\u001b[0m\u001b[1;33m\u001b[0m\u001b[1;33m\u001b[0m\u001b[0m\n\u001b[0;32m    592\u001b[0m         \u001b[1;32melse\u001b[0m\u001b[1;33m:\u001b[0m\u001b[1;33m\u001b[0m\u001b[1;33m\u001b[0m\u001b[0m\n\u001b[1;32m--> 593\u001b[1;33m             \u001b[0mestimator\u001b[0m\u001b[1;33m.\u001b[0m\u001b[0mfit\u001b[0m\u001b[1;33m(\u001b[0m\u001b[0mX_train\u001b[0m\u001b[1;33m,\u001b[0m \u001b[0my_train\u001b[0m\u001b[1;33m,\u001b[0m \u001b[1;33m**\u001b[0m\u001b[0mfit_params\u001b[0m\u001b[1;33m)\u001b[0m\u001b[1;33m\u001b[0m\u001b[1;33m\u001b[0m\u001b[0m\n\u001b[0m\u001b[0;32m    594\u001b[0m \u001b[1;33m\u001b[0m\u001b[0m\n\u001b[0;32m    595\u001b[0m     \u001b[1;32mexcept\u001b[0m \u001b[0mException\u001b[0m \u001b[1;32mas\u001b[0m \u001b[0me\u001b[0m\u001b[1;33m:\u001b[0m\u001b[1;33m\u001b[0m\u001b[1;33m\u001b[0m\u001b[0m\n",
      "\u001b[1;32mD:\\Software\\Anaconda\\lib\\site-packages\\sklearn\\linear_model\\_base.py\u001b[0m in \u001b[0;36mfit\u001b[1;34m(self, X, y, sample_weight)\u001b[0m\n\u001b[0;32m    555\u001b[0m \u001b[1;33m\u001b[0m\u001b[0m\n\u001b[0;32m    556\u001b[0m             \u001b[1;32mif\u001b[0m \u001b[0my\u001b[0m\u001b[1;33m.\u001b[0m\u001b[0mndim\u001b[0m \u001b[1;33m<\u001b[0m \u001b[1;36m2\u001b[0m\u001b[1;33m:\u001b[0m\u001b[1;33m\u001b[0m\u001b[1;33m\u001b[0m\u001b[0m\n\u001b[1;32m--> 557\u001b[1;33m                 \u001b[0mout\u001b[0m \u001b[1;33m=\u001b[0m \u001b[0msparse_lsqr\u001b[0m\u001b[1;33m(\u001b[0m\u001b[0mX_centered\u001b[0m\u001b[1;33m,\u001b[0m \u001b[0my\u001b[0m\u001b[1;33m)\u001b[0m\u001b[1;33m\u001b[0m\u001b[1;33m\u001b[0m\u001b[0m\n\u001b[0m\u001b[0;32m    558\u001b[0m                 \u001b[0mself\u001b[0m\u001b[1;33m.\u001b[0m\u001b[0mcoef_\u001b[0m \u001b[1;33m=\u001b[0m \u001b[0mout\u001b[0m\u001b[1;33m[\u001b[0m\u001b[1;36m0\u001b[0m\u001b[1;33m]\u001b[0m\u001b[1;33m\u001b[0m\u001b[1;33m\u001b[0m\u001b[0m\n\u001b[0;32m    559\u001b[0m                 \u001b[0mself\u001b[0m\u001b[1;33m.\u001b[0m\u001b[0m_residues\u001b[0m \u001b[1;33m=\u001b[0m \u001b[0mout\u001b[0m\u001b[1;33m[\u001b[0m\u001b[1;36m3\u001b[0m\u001b[1;33m]\u001b[0m\u001b[1;33m\u001b[0m\u001b[1;33m\u001b[0m\u001b[0m\n",
      "\u001b[1;32mD:\\Software\\Anaconda\\lib\\site-packages\\scipy\\sparse\\linalg\\isolve\\lsqr.py\u001b[0m in \u001b[0;36mlsqr\u001b[1;34m(A, b, damp, atol, btol, conlim, iter_lim, show, calc_var, x0)\u001b[0m\n\u001b[0;32m    421\u001b[0m             \u001b[0mu\u001b[0m \u001b[1;33m=\u001b[0m \u001b[1;33m(\u001b[0m\u001b[1;36m1\u001b[0m\u001b[1;33m/\u001b[0m\u001b[0mbeta\u001b[0m\u001b[1;33m)\u001b[0m \u001b[1;33m*\u001b[0m \u001b[0mu\u001b[0m\u001b[1;33m\u001b[0m\u001b[1;33m\u001b[0m\u001b[0m\n\u001b[0;32m    422\u001b[0m             \u001b[0manorm\u001b[0m \u001b[1;33m=\u001b[0m \u001b[0msqrt\u001b[0m\u001b[1;33m(\u001b[0m\u001b[0manorm\u001b[0m\u001b[1;33m**\u001b[0m\u001b[1;36m2\u001b[0m \u001b[1;33m+\u001b[0m \u001b[0malfa\u001b[0m\u001b[1;33m**\u001b[0m\u001b[1;36m2\u001b[0m \u001b[1;33m+\u001b[0m \u001b[0mbeta\u001b[0m\u001b[1;33m**\u001b[0m\u001b[1;36m2\u001b[0m \u001b[1;33m+\u001b[0m \u001b[0mdamp\u001b[0m\u001b[1;33m**\u001b[0m\u001b[1;36m2\u001b[0m\u001b[1;33m)\u001b[0m\u001b[1;33m\u001b[0m\u001b[1;33m\u001b[0m\u001b[0m\n\u001b[1;32m--> 423\u001b[1;33m             \u001b[0mv\u001b[0m \u001b[1;33m=\u001b[0m \u001b[0mA\u001b[0m\u001b[1;33m.\u001b[0m\u001b[0mrmatvec\u001b[0m\u001b[1;33m(\u001b[0m\u001b[0mu\u001b[0m\u001b[1;33m)\u001b[0m \u001b[1;33m-\u001b[0m \u001b[0mbeta\u001b[0m \u001b[1;33m*\u001b[0m \u001b[0mv\u001b[0m\u001b[1;33m\u001b[0m\u001b[1;33m\u001b[0m\u001b[0m\n\u001b[0m\u001b[0;32m    424\u001b[0m             \u001b[0malfa\u001b[0m \u001b[1;33m=\u001b[0m \u001b[0mnp\u001b[0m\u001b[1;33m.\u001b[0m\u001b[0mlinalg\u001b[0m\u001b[1;33m.\u001b[0m\u001b[0mnorm\u001b[0m\u001b[1;33m(\u001b[0m\u001b[0mv\u001b[0m\u001b[1;33m)\u001b[0m\u001b[1;33m\u001b[0m\u001b[1;33m\u001b[0m\u001b[0m\n\u001b[0;32m    425\u001b[0m             \u001b[1;32mif\u001b[0m \u001b[0malfa\u001b[0m \u001b[1;33m>\u001b[0m \u001b[1;36m0\u001b[0m\u001b[1;33m:\u001b[0m\u001b[1;33m\u001b[0m\u001b[1;33m\u001b[0m\u001b[0m\n",
      "\u001b[1;32mD:\\Software\\Anaconda\\lib\\site-packages\\scipy\\sparse\\linalg\\interface.py\u001b[0m in \u001b[0;36mrmatvec\u001b[1;34m(self, x)\u001b[0m\n\u001b[0;32m    277\u001b[0m             \u001b[1;32mraise\u001b[0m \u001b[0mValueError\u001b[0m\u001b[1;33m(\u001b[0m\u001b[1;34m'dimension mismatch'\u001b[0m\u001b[1;33m)\u001b[0m\u001b[1;33m\u001b[0m\u001b[1;33m\u001b[0m\u001b[0m\n\u001b[0;32m    278\u001b[0m \u001b[1;33m\u001b[0m\u001b[0m\n\u001b[1;32m--> 279\u001b[1;33m         \u001b[0my\u001b[0m \u001b[1;33m=\u001b[0m \u001b[0mself\u001b[0m\u001b[1;33m.\u001b[0m\u001b[0m_rmatvec\u001b[0m\u001b[1;33m(\u001b[0m\u001b[0mx\u001b[0m\u001b[1;33m)\u001b[0m\u001b[1;33m\u001b[0m\u001b[1;33m\u001b[0m\u001b[0m\n\u001b[0m\u001b[0;32m    280\u001b[0m \u001b[1;33m\u001b[0m\u001b[0m\n\u001b[0;32m    281\u001b[0m         \u001b[1;32mif\u001b[0m \u001b[0misinstance\u001b[0m\u001b[1;33m(\u001b[0m\u001b[0mx\u001b[0m\u001b[1;33m,\u001b[0m \u001b[0mnp\u001b[0m\u001b[1;33m.\u001b[0m\u001b[0mmatrix\u001b[0m\u001b[1;33m)\u001b[0m\u001b[1;33m:\u001b[0m\u001b[1;33m\u001b[0m\u001b[1;33m\u001b[0m\u001b[0m\n",
      "\u001b[1;32mD:\\Software\\Anaconda\\lib\\site-packages\\scipy\\sparse\\linalg\\interface.py\u001b[0m in \u001b[0;36m_rmatvec\u001b[1;34m(self, x)\u001b[0m\n\u001b[0;32m    534\u001b[0m         \u001b[1;32mif\u001b[0m \u001b[0mfunc\u001b[0m \u001b[1;32mis\u001b[0m \u001b[1;32mNone\u001b[0m\u001b[1;33m:\u001b[0m\u001b[1;33m\u001b[0m\u001b[1;33m\u001b[0m\u001b[0m\n\u001b[0;32m    535\u001b[0m             \u001b[1;32mraise\u001b[0m \u001b[0mNotImplementedError\u001b[0m\u001b[1;33m(\u001b[0m\u001b[1;34m\"rmatvec is not defined\"\u001b[0m\u001b[1;33m)\u001b[0m\u001b[1;33m\u001b[0m\u001b[1;33m\u001b[0m\u001b[0m\n\u001b[1;32m--> 536\u001b[1;33m         \u001b[1;32mreturn\u001b[0m \u001b[0mself\u001b[0m\u001b[1;33m.\u001b[0m\u001b[0m__rmatvec_impl\u001b[0m\u001b[1;33m(\u001b[0m\u001b[0mx\u001b[0m\u001b[1;33m)\u001b[0m\u001b[1;33m\u001b[0m\u001b[1;33m\u001b[0m\u001b[0m\n\u001b[0m\u001b[0;32m    537\u001b[0m \u001b[1;33m\u001b[0m\u001b[0m\n\u001b[0;32m    538\u001b[0m     \u001b[1;32mdef\u001b[0m \u001b[0m_rmatmat\u001b[0m\u001b[1;33m(\u001b[0m\u001b[0mself\u001b[0m\u001b[1;33m,\u001b[0m \u001b[0mX\u001b[0m\u001b[1;33m)\u001b[0m\u001b[1;33m:\u001b[0m\u001b[1;33m\u001b[0m\u001b[1;33m\u001b[0m\u001b[0m\n",
      "\u001b[1;32mD:\\Software\\Anaconda\\lib\\site-packages\\sklearn\\linear_model\\_base.py\u001b[0m in \u001b[0;36mrmatvec\u001b[1;34m(b)\u001b[0m\n\u001b[0;32m    548\u001b[0m \u001b[1;33m\u001b[0m\u001b[0m\n\u001b[0;32m    549\u001b[0m             \u001b[1;32mdef\u001b[0m \u001b[0mrmatvec\u001b[0m\u001b[1;33m(\u001b[0m\u001b[0mb\u001b[0m\u001b[1;33m)\u001b[0m\u001b[1;33m:\u001b[0m\u001b[1;33m\u001b[0m\u001b[1;33m\u001b[0m\u001b[0m\n\u001b[1;32m--> 550\u001b[1;33m                 \u001b[1;32mreturn\u001b[0m \u001b[0mX\u001b[0m\u001b[1;33m.\u001b[0m\u001b[0mT\u001b[0m\u001b[1;33m.\u001b[0m\u001b[0mdot\u001b[0m\u001b[1;33m(\u001b[0m\u001b[0mb\u001b[0m\u001b[1;33m)\u001b[0m \u001b[1;33m-\u001b[0m \u001b[0mX_offset_scale\u001b[0m \u001b[1;33m*\u001b[0m \u001b[0mnp\u001b[0m\u001b[1;33m.\u001b[0m\u001b[0msum\u001b[0m\u001b[1;33m(\u001b[0m\u001b[0mb\u001b[0m\u001b[1;33m)\u001b[0m\u001b[1;33m\u001b[0m\u001b[1;33m\u001b[0m\u001b[0m\n\u001b[0m\u001b[0;32m    551\u001b[0m \u001b[1;33m\u001b[0m\u001b[0m\n\u001b[0;32m    552\u001b[0m             X_centered = sparse.linalg.LinearOperator(shape=X.shape,\n",
      "\u001b[1;32mD:\\Software\\Anaconda\\lib\\site-packages\\scipy\\sparse\\base.py\u001b[0m in \u001b[0;36mdot\u001b[1;34m(self, other)\u001b[0m\n\u001b[0;32m    357\u001b[0m \u001b[1;33m\u001b[0m\u001b[0m\n\u001b[0;32m    358\u001b[0m         \"\"\"\n\u001b[1;32m--> 359\u001b[1;33m         \u001b[1;32mreturn\u001b[0m \u001b[0mself\u001b[0m \u001b[1;33m*\u001b[0m \u001b[0mother\u001b[0m\u001b[1;33m\u001b[0m\u001b[1;33m\u001b[0m\u001b[0m\n\u001b[0m\u001b[0;32m    360\u001b[0m \u001b[1;33m\u001b[0m\u001b[0m\n\u001b[0;32m    361\u001b[0m     \u001b[1;32mdef\u001b[0m \u001b[0mpower\u001b[0m\u001b[1;33m(\u001b[0m\u001b[0mself\u001b[0m\u001b[1;33m,\u001b[0m \u001b[0mn\u001b[0m\u001b[1;33m,\u001b[0m \u001b[0mdtype\u001b[0m\u001b[1;33m=\u001b[0m\u001b[1;32mNone\u001b[0m\u001b[1;33m)\u001b[0m\u001b[1;33m:\u001b[0m\u001b[1;33m\u001b[0m\u001b[1;33m\u001b[0m\u001b[0m\n",
      "\u001b[1;32mD:\\Software\\Anaconda\\lib\\site-packages\\scipy\\sparse\\base.py\u001b[0m in \u001b[0;36m__mul__\u001b[1;34m(self, other)\u001b[0m\n\u001b[0;32m    465\u001b[0m             \u001b[1;31m# Fast path for the most common case\u001b[0m\u001b[1;33m\u001b[0m\u001b[1;33m\u001b[0m\u001b[1;33m\u001b[0m\u001b[0m\n\u001b[0;32m    466\u001b[0m             \u001b[1;32mif\u001b[0m \u001b[0mother\u001b[0m\u001b[1;33m.\u001b[0m\u001b[0mshape\u001b[0m \u001b[1;33m==\u001b[0m \u001b[1;33m(\u001b[0m\u001b[0mN\u001b[0m\u001b[1;33m,\u001b[0m\u001b[1;33m)\u001b[0m\u001b[1;33m:\u001b[0m\u001b[1;33m\u001b[0m\u001b[1;33m\u001b[0m\u001b[0m\n\u001b[1;32m--> 467\u001b[1;33m                 \u001b[1;32mreturn\u001b[0m \u001b[0mself\u001b[0m\u001b[1;33m.\u001b[0m\u001b[0m_mul_vector\u001b[0m\u001b[1;33m(\u001b[0m\u001b[0mother\u001b[0m\u001b[1;33m)\u001b[0m\u001b[1;33m\u001b[0m\u001b[1;33m\u001b[0m\u001b[0m\n\u001b[0m\u001b[0;32m    468\u001b[0m             \u001b[1;32melif\u001b[0m \u001b[0mother\u001b[0m\u001b[1;33m.\u001b[0m\u001b[0mshape\u001b[0m \u001b[1;33m==\u001b[0m \u001b[1;33m(\u001b[0m\u001b[0mN\u001b[0m\u001b[1;33m,\u001b[0m \u001b[1;36m1\u001b[0m\u001b[1;33m)\u001b[0m\u001b[1;33m:\u001b[0m\u001b[1;33m\u001b[0m\u001b[1;33m\u001b[0m\u001b[0m\n\u001b[0;32m    469\u001b[0m                 \u001b[1;32mreturn\u001b[0m \u001b[0mself\u001b[0m\u001b[1;33m.\u001b[0m\u001b[0m_mul_vector\u001b[0m\u001b[1;33m(\u001b[0m\u001b[0mother\u001b[0m\u001b[1;33m.\u001b[0m\u001b[0mravel\u001b[0m\u001b[1;33m(\u001b[0m\u001b[1;33m)\u001b[0m\u001b[1;33m)\u001b[0m\u001b[1;33m.\u001b[0m\u001b[0mreshape\u001b[0m\u001b[1;33m(\u001b[0m\u001b[0mM\u001b[0m\u001b[1;33m,\u001b[0m \u001b[1;36m1\u001b[0m\u001b[1;33m)\u001b[0m\u001b[1;33m\u001b[0m\u001b[1;33m\u001b[0m\u001b[0m\n",
      "\u001b[1;32mD:\\Software\\Anaconda\\lib\\site-packages\\scipy\\sparse\\compressed.py\u001b[0m in \u001b[0;36m_mul_vector\u001b[1;34m(self, other)\u001b[0m\n\u001b[0;32m    476\u001b[0m         \u001b[1;31m# csr_matvec or csc_matvec\u001b[0m\u001b[1;33m\u001b[0m\u001b[1;33m\u001b[0m\u001b[1;33m\u001b[0m\u001b[0m\n\u001b[0;32m    477\u001b[0m         \u001b[0mfn\u001b[0m \u001b[1;33m=\u001b[0m \u001b[0mgetattr\u001b[0m\u001b[1;33m(\u001b[0m\u001b[0m_sparsetools\u001b[0m\u001b[1;33m,\u001b[0m \u001b[0mself\u001b[0m\u001b[1;33m.\u001b[0m\u001b[0mformat\u001b[0m \u001b[1;33m+\u001b[0m \u001b[1;34m'_matvec'\u001b[0m\u001b[1;33m)\u001b[0m\u001b[1;33m\u001b[0m\u001b[1;33m\u001b[0m\u001b[0m\n\u001b[1;32m--> 478\u001b[1;33m         \u001b[0mfn\u001b[0m\u001b[1;33m(\u001b[0m\u001b[0mM\u001b[0m\u001b[1;33m,\u001b[0m \u001b[0mN\u001b[0m\u001b[1;33m,\u001b[0m \u001b[0mself\u001b[0m\u001b[1;33m.\u001b[0m\u001b[0mindptr\u001b[0m\u001b[1;33m,\u001b[0m \u001b[0mself\u001b[0m\u001b[1;33m.\u001b[0m\u001b[0mindices\u001b[0m\u001b[1;33m,\u001b[0m \u001b[0mself\u001b[0m\u001b[1;33m.\u001b[0m\u001b[0mdata\u001b[0m\u001b[1;33m,\u001b[0m \u001b[0mother\u001b[0m\u001b[1;33m,\u001b[0m \u001b[0mresult\u001b[0m\u001b[1;33m)\u001b[0m\u001b[1;33m\u001b[0m\u001b[1;33m\u001b[0m\u001b[0m\n\u001b[0m\u001b[0;32m    479\u001b[0m \u001b[1;33m\u001b[0m\u001b[0m\n\u001b[0;32m    480\u001b[0m         \u001b[1;32mreturn\u001b[0m \u001b[0mresult\u001b[0m\u001b[1;33m\u001b[0m\u001b[1;33m\u001b[0m\u001b[0m\n",
      "\u001b[1;31mKeyboardInterrupt\u001b[0m: "
     ]
    }
   ],
   "source": [
    "scores_li = cross_val_score(LinearRegression(),X_ngs_train,y_ngs_train)\n",
    "scores_dummy.mean()"
   ]
  },
  {
   "cell_type": "code",
   "execution_count": 59,
   "id": "61826edc",
   "metadata": {},
   "outputs": [
    {
     "data": {
      "text/plain": [
       "array([nan, nan, nan, nan, nan])"
      ]
     },
     "execution_count": 59,
     "metadata": {},
     "output_type": "execute_result"
    }
   ],
   "source": [
    "scores_dummy"
   ]
  },
  {
   "cell_type": "code",
   "execution_count": null,
   "id": "35b9500d",
   "metadata": {},
   "outputs": [],
   "source": []
  },
  {
   "cell_type": "code",
   "execution_count": null,
   "id": "e76819cd",
   "metadata": {},
   "outputs": [],
   "source": []
  }
 ],
 "metadata": {
  "kernelspec": {
   "display_name": "Python 3",
   "language": "python",
   "name": "python3"
  },
  "language_info": {
   "codemirror_mode": {
    "name": "ipython",
    "version": 3
   },
   "file_extension": ".py",
   "mimetype": "text/x-python",
   "name": "python",
   "nbconvert_exporter": "python",
   "pygments_lexer": "ipython3",
   "version": "3.8.8"
  },
  "toc": {
   "base_numbering": 1,
   "nav_menu": {},
   "number_sections": false,
   "sideBar": true,
   "skip_h1_title": false,
   "title_cell": "Table of Contents",
   "title_sidebar": "Contents",
   "toc_cell": false,
   "toc_position": {},
   "toc_section_display": true,
   "toc_window_display": false
  },
  "varInspector": {
   "cols": {
    "lenName": 16,
    "lenType": 16,
    "lenVar": 40
   },
   "kernels_config": {
    "python": {
     "delete_cmd_postfix": "",
     "delete_cmd_prefix": "del ",
     "library": "var_list.py",
     "varRefreshCmd": "print(var_dic_list())"
    },
    "r": {
     "delete_cmd_postfix": ") ",
     "delete_cmd_prefix": "rm(",
     "library": "var_list.r",
     "varRefreshCmd": "cat(var_dic_list()) "
    }
   },
   "types_to_exclude": [
    "module",
    "function",
    "builtin_function_or_method",
    "instance",
    "_Feature"
   ],
   "window_display": false
  }
 },
 "nbformat": 4,
 "nbformat_minor": 5
}
